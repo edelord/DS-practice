{
  "nbformat": 4,
  "nbformat_minor": 0,
  "metadata": {
    "colab": {
      "name": "2.10 Series__challenge bees and knees.ipynb",
      "provenance": [],
      "collapsed_sections": [],
      "authorship_tag": "ABX9TyNPzTB0ELcpcRBfTOvQwyS4",
      "include_colab_link": true
    },
    "kernelspec": {
      "name": "python3",
      "display_name": "Python 3"
    },
    "language_info": {
      "name": "python"
    }
  },
  "cells": [
    {
      "cell_type": "markdown",
      "metadata": {
        "id": "view-in-github",
        "colab_type": "text"
      },
      "source": [
        "<a href=\"https://colab.research.google.com/github/edelord/DS-practice/blob/main/2_10_Series__challenge_bees_and_knees.ipynb\" target=\"_parent\"><img src=\"https://colab.research.google.com/assets/colab-badge.svg\" alt=\"Open In Colab\"/></a>"
      ]
    },
    {
      "cell_type": "markdown",
      "metadata": {
        "id": "R9Ws3Sh-AFkZ"
      },
      "source": [
        "https://www.gormanalysis.com/blog/python-pandas-for-your-grandpa-2-10-challenge-bees-knees/"
      ]
    },
    {
      "cell_type": "markdown",
      "metadata": {
        "id": "-pv2xZ72AJCI"
      },
      "source": [
        "Given, two Series bees and knees, if the ith value of bees is NaN, double the ith value inside knees."
      ]
    },
    {
      "cell_type": "code",
      "metadata": {
        "id": "z273bisHyZ3W",
        "colab": {
          "base_uri": "https://localhost:8080/"
        },
        "outputId": "43218023-e206-4b10-d11a-9a01ee4b59e4"
      },
      "source": [
        "import numpy as np\n",
        "import pandas as pd\n",
        "\n",
        "bees = pd.Series([True, True, False, np.nan, True, False, True, np.nan])\n",
        "print(bees)\n",
        "## 0     True\n",
        "## 1     True\n",
        "## 2    False\n",
        "## 3      NaN\n",
        "## 4     True\n",
        "## 5    False\n",
        "## 6     True\n",
        "## 7      NaN\n",
        "## dtype: object\n",
        "knees = pd.Series([5,2,9,1,3,10,5,2], index = [7,0,2,6,3,5,1,4])\n",
        "print(knees)\n",
        "## 7     5\n",
        "## 0     2\n",
        "## 2     9\n",
        "## 6     1\n",
        "## 3     3\n",
        "## 5    10\n",
        "## 1     5\n",
        "## 4     2\n",
        "## dtype: int64"
      ],
      "execution_count": 1,
      "outputs": [
        {
          "output_type": "stream",
          "text": [
            "0     True\n",
            "1     True\n",
            "2    False\n",
            "3      NaN\n",
            "4     True\n",
            "5    False\n",
            "6     True\n",
            "7      NaN\n",
            "dtype: object\n",
            "7     5\n",
            "0     2\n",
            "2     9\n",
            "6     1\n",
            "3     3\n",
            "5    10\n",
            "1     5\n",
            "4     2\n",
            "dtype: int64\n"
          ],
          "name": "stdout"
        }
      ]
    },
    {
      "cell_type": "code",
      "metadata": {
        "id": "fhM-Tb-1CQSR"
      },
      "source": [
        "bees.i"
      ],
      "execution_count": null,
      "outputs": []
    },
    {
      "cell_type": "code",
      "metadata": {
        "colab": {
          "base_uri": "https://localhost:8080/"
        },
        "id": "qlcrXLK7AjtQ",
        "outputId": "f41a577c-aaa1-40aa-c583-b2ba74c672ca"
      },
      "source": [
        "print(pd.isna(bees).to_numpy())\n",
        "\n",
        "print(pd.isna(bees))\n",
        "print(bees[pd.isna(bees)].index)\n",
        "print(knees.iloc[bees[pd.isna(bees)].index])\n",
        "\n",
        "knees.iloc[bees[pd.isna(bees)].index] *= 2\n",
        "\n",
        "print(knees)"
      ],
      "execution_count": 28,
      "outputs": [
        {
          "output_type": "stream",
          "text": [
            "[False False False  True False False False  True]\n"
          ],
          "name": "stdout"
        }
      ]
    },
    {
      "cell_type": "markdown",
      "metadata": {
        "id": "fzPcdqCtIm3w"
      },
      "source": [
        "solution"
      ]
    },
    {
      "cell_type": "code",
      "metadata": {
        "id": "9AKqFTWzIpcL"
      },
      "source": [
        "knees.loc[pd.isna(bees).to_numpy()] *= 2\n",
        "print(knees)"
      ],
      "execution_count": null,
      "outputs": []
    },
    {
      "cell_type": "code",
      "metadata": {
        "id": "Ic8IO5j9E6PH"
      },
      "source": [
        ""
      ],
      "execution_count": null,
      "outputs": []
    }
  ]
}