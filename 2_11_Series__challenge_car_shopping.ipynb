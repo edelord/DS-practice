{
  "nbformat": 4,
  "nbformat_minor": 0,
  "metadata": {
    "colab": {
      "name": "2.11 Series__challenge car shopping.ipynb",
      "provenance": [],
      "collapsed_sections": [],
      "authorship_tag": "ABX9TyPm8r8AxcJKMACKKqrvzWti",
      "include_colab_link": true
    },
    "kernelspec": {
      "name": "python3",
      "display_name": "Python 3"
    },
    "language_info": {
      "name": "python"
    }
  },
  "cells": [
    {
      "cell_type": "markdown",
      "metadata": {
        "id": "view-in-github",
        "colab_type": "text"
      },
      "source": [
        "<a href=\"https://colab.research.google.com/github/edelord/DS-practice/blob/main/2_11_Series__challenge_car_shopping.ipynb\" target=\"_parent\"><img src=\"https://colab.research.google.com/assets/colab-badge.svg\" alt=\"Open In Colab\"/></a>"
      ]
    },
    {
      "cell_type": "markdown",
      "metadata": {
        "id": "g3zZBopzKEVX"
      },
      "source": [
        "https://www.gormanalysis.com/blog/python-pandas-for-your-grandpa-2-11-challenge-car-shopping/"
      ]
    },
    {
      "cell_type": "markdown",
      "metadata": {
        "id": "sQaQK0_6KHIy"
      },
      "source": [
        "After accidentally leaving an ice chest of fish and shrimp in your car for a week while you were on vacation, you’re now in the market for a new vehicle. Your insurance didn’t cover the loss, so you want to make sure you get a good deal on your new car. Given a Series of car asking_prices and another Series of car fair_prices, determine which cars for sale are a good deal. In other words, identify cars whose asking price is less than their fair price.\n",
        "\n",
        "The result should be a list of integer indices corresponding to the good deals in asking_prices"
      ]
    },
    {
      "cell_type": "code",
      "metadata": {
        "colab": {
          "base_uri": "https://localhost:8080/"
        },
        "id": "gM_hCKlpKFpF",
        "outputId": "3a8b5635-b8f5-46b2-ba73-2688d274ff57"
      },
      "source": [
        "import numpy as np\n",
        "import pandas as pd\n",
        "\n",
        "asking_prices = pd.Series([5000, 7600, 9000, 8500, 7000], index=['civic', 'civic', 'camry', 'mustang', 'mustang'])\n",
        "print(asking_prices)\n",
        "## civic      5000\n",
        "## civic      7600\n",
        "## camry      9000\n",
        "## mustang    8500\n",
        "## mustang    7000\n",
        "## dtype: int64\n",
        "fair_prices = pd.Series([5500, 7500, 7500], index=['civic', 'mustang', 'camry'])\n",
        "print(fair_prices)\n",
        "## civic      5500\n",
        "## mustang    7500\n",
        "## camry      7500\n",
        "## dtype: int64"
      ],
      "execution_count": 3,
      "outputs": [
        {
          "output_type": "stream",
          "text": [
            "civic      5000\n",
            "civic      7600\n",
            "camry      9000\n",
            "mustang    8500\n",
            "mustang    7000\n",
            "dtype: int64\n",
            "civic      5500\n",
            "mustang    7500\n",
            "camry      7500\n",
            "dtype: int64\n"
          ],
          "name": "stdout"
        }
      ]
    },
    {
      "cell_type": "code",
      "metadata": {
        "colab": {
          "base_uri": "https://localhost:8080/"
        },
        "id": "75t7gLu7J9kU",
        "outputId": "64c02560-17a1-4702-b93f-785b9993ab38"
      },
      "source": [
        "print(asking_prices.index)\n",
        "all_fair_prices = fair_prices.loc[asking_prices.index]\n",
        "print(all_fair_prices)\n",
        "off_market_prices = asking_prices - all_fair_prices\n",
        "print(\"off_market_prices: \", off_market_prices)\n",
        "below_fair_prices = (off_market_prices < 0).reset_index(drop=True)\n",
        "print(below_fair_prices)\n",
        "below_fair_prices.loc[below_fair_prices].index.to_list()\n",
        "## [0, 4]\n",
        "print(below_fair_prices.loc[below_fair_prices].index.to_list())"
      ],
      "execution_count": 13,
      "outputs": [
        {
          "output_type": "stream",
          "text": [
            "Index(['civic', 'civic', 'camry', 'mustang', 'mustang'], dtype='object')\n",
            "civic      5500\n",
            "civic      5500\n",
            "camry      7500\n",
            "mustang    7500\n",
            "mustang    7500\n",
            "dtype: int64\n",
            "off_market_prices:  civic      -500\n",
            "civic      2100\n",
            "camry      1500\n",
            "mustang    1000\n",
            "mustang    -500\n",
            "dtype: int64\n",
            "0     True\n",
            "1    False\n",
            "2    False\n",
            "3    False\n",
            "4     True\n",
            "dtype: bool\n",
            "[0, 4]\n"
          ],
          "name": "stdout"
        }
      ]
    }
  ]
}