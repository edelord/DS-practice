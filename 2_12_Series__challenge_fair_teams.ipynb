{
  "nbformat": 4,
  "nbformat_minor": 0,
  "metadata": {
    "colab": {
      "name": "2.12 Series__challenge fair teams.ipynb",
      "provenance": [],
      "collapsed_sections": [],
      "authorship_tag": "ABX9TyNsGK46j8IRT8k3Yg1AJD5N",
      "include_colab_link": true
    },
    "kernelspec": {
      "name": "python3",
      "display_name": "Python 3"
    },
    "language_info": {
      "name": "python"
    }
  },
  "cells": [
    {
      "cell_type": "markdown",
      "metadata": {
        "id": "view-in-github",
        "colab_type": "text"
      },
      "source": [
        "<a href=\"https://colab.research.google.com/github/edelord/DS-practice/blob/main/2_12_Series__challenge_fair_teams.ipynb\" target=\"_parent\"><img src=\"https://colab.research.google.com/assets/colab-badge.svg\" alt=\"Open In Colab\"/></a>"
      ]
    },
    {
      "cell_type": "markdown",
      "metadata": {
        "id": "ZDG5qyQGWOiP"
      },
      "source": [
        "https://www.gormanalysis.com/blog/python-pandas-for-your-grandpa-2-13-challenge-fair-teams/"
      ]
    },
    {
      "cell_type": "markdown",
      "metadata": {
        "id": "f7GFrtFqWORg"
      },
      "source": [
        "You’re organizing a competitive rock-skipping league. 6 coaches and 20 players have signed up. Your job is to randomly and fairly determine the teams, assigning players to coaches. Keep in mind that some teams will have three players and some teams will have four players. Given a Series of coaches and a Series of players, create a Series of random coach-to-player mappings. The resulting Series should have coach names in its index and corresponding player names in its values.\n"
      ]
    },
    {
      "cell_type": "code",
      "metadata": {
        "colab": {
          "base_uri": "https://localhost:8080/"
        },
        "id": "OHBPPPCQWKLj",
        "outputId": "69902984-fba7-4a5c-ddf4-6b960178367f"
      },
      "source": [
        "import numpy as np\n",
        "import pandas as pd\n",
        "\n",
        "coaches = pd.Series(['Aaron', 'Donald', 'Joshua', 'Peter', 'Scott', 'Stephen'], dtype='string')\n",
        "print(coaches)\n",
        "## 0      Aaron\n",
        "## 1     Donald\n",
        "## 2     Joshua\n",
        "## 3      Peter\n",
        "## 4      Scott\n",
        "## 5    Stephen\n",
        "## dtype: string\n",
        "players = pd.Series(['Asher', 'Connor', 'Elizabeth', 'Emily', 'Ethan', 'Hannah', 'Isabella', 'Isaiah', 'James',\n",
        "                     'Joshua', 'Julian', 'Layla', 'Leo', 'Madison', 'Mia', 'Oliver', 'Ryan', 'Scarlett', 'William',\n",
        "                     'Wyatt'], dtype='string')\n",
        "print(players)\n",
        "## 0         Asher\n",
        "## 1        Connor\n",
        "## 2     Elizabeth\n",
        "## 3         Emily\n",
        "## 4         Ethan\n",
        "## 5        Hannah\n",
        "## 6      Isabella\n",
        "## 7        Isaiah\n",
        "## 8         James\n",
        "## 9        Joshua\n",
        "## 10       Julian\n",
        "## 11        Layla\n",
        "## 12          Leo\n",
        "## 13      Madison\n",
        "## 14          Mia\n",
        "## 15       Oliver\n",
        "## 16         Ryan\n",
        "## 17     Scarlett\n",
        "## 18      William\n",
        "## 19        Wyatt\n",
        "## dtype: string"
      ],
      "execution_count": 1,
      "outputs": [
        {
          "output_type": "stream",
          "text": [
            "0      Aaron\n",
            "1     Donald\n",
            "2     Joshua\n",
            "3      Peter\n",
            "4      Scott\n",
            "5    Stephen\n",
            "dtype: string\n",
            "0         Asher\n",
            "1        Connor\n",
            "2     Elizabeth\n",
            "3         Emily\n",
            "4         Ethan\n",
            "5        Hannah\n",
            "6      Isabella\n",
            "7        Isaiah\n",
            "8         James\n",
            "9        Joshua\n",
            "10       Julian\n",
            "11        Layla\n",
            "12          Leo\n",
            "13      Madison\n",
            "14          Mia\n",
            "15       Oliver\n",
            "16         Ryan\n",
            "17     Scarlett\n",
            "18      William\n",
            "19        Wyatt\n",
            "dtype: string\n"
          ],
          "name": "stdout"
        }
      ]
    },
    {
      "cell_type": "markdown",
      "metadata": {
        "id": "FgbAMZcWJTiS"
      },
      "source": [
        "Solution"
      ]
    },
    {
      "cell_type": "code",
      "metadata": {
        "colab": {
          "base_uri": "https://localhost:8080/"
        },
        "id": "TZYhwxREJVUj",
        "outputId": "75c9e103-aae8-4782-db0e-fad9cbb972e0"
      },
      "source": [
        "coaches = coaches.sample(frac=1, random_state=2357)   \n",
        "print(coaches)\n",
        "               # Return a random sample of items from an axis of object. You can use random_state for reproducibility.\n",
        "               # returns A new object of same type as caller containing n items randomly sampled from the caller object.\n",
        "players = players.sample(frac=1, random_state=7532)\n",
        "repeats = np.ceil(len(players)/len(coaches)).astype('int64')\n",
        "               # 4 \n",
        "print(\"repeats: \", repeats)\n",
        "coaches_repeated = pd.concat([coaches] * repeats).head(len(players))            # [coaches] * repeats fait comme si on donnait repeats series\n",
        "print(\"coaches_repeated: \", coaches_repeated)\n",
        "result = players.copy()\n",
        "result.index = pd.Index(coaches_repeated, name='coach')\n",
        "print(result)\n",
        "## coach\n",
        "## Stephen       Julian\n",
        "## Scott         Joshua\n",
        "## Aaron      Elizabeth\n",
        "## Joshua         Asher\n",
        "## Peter         Oliver\n",
        "## Donald       William\n",
        "## Stephen        Wyatt\n",
        "## Scott         Isaiah\n",
        "## Aaron          Ethan\n",
        "## Joshua       Madison\n",
        "## Peter            Leo\n",
        "## Donald          Ryan\n",
        "## Stephen     Scarlett\n",
        "## Scott            Mia\n",
        "## Aaron         Connor\n",
        "## Joshua         James\n",
        "## Peter          Emily\n",
        "## Donald        Hannah\n",
        "## Stephen        Layla\n",
        "## Scott       Isabella\n",
        "## dtype: string"
      ],
      "execution_count": 11,
      "outputs": [
        {
          "output_type": "stream",
          "text": [
            "5    Stephen\n",
            "4      Scott\n",
            "0      Aaron\n",
            "2     Joshua\n",
            "3      Peter\n",
            "1     Donald\n",
            "dtype: string\n",
            "repeats:  4\n",
            "coaches_repeated:  5    Stephen\n",
            "4      Scott\n",
            "0      Aaron\n",
            "2     Joshua\n",
            "3      Peter\n",
            "1     Donald\n",
            "5    Stephen\n",
            "4      Scott\n",
            "0      Aaron\n",
            "2     Joshua\n",
            "3      Peter\n",
            "1     Donald\n",
            "5    Stephen\n",
            "4      Scott\n",
            "0      Aaron\n",
            "2     Joshua\n",
            "3      Peter\n",
            "1     Donald\n",
            "5    Stephen\n",
            "4      Scott\n",
            "dtype: string\n",
            "coach\n",
            "Stephen         Ryan\n",
            "Scott            Mia\n",
            "Aaron      Elizabeth\n",
            "Joshua         Layla\n",
            "Peter         Oliver\n",
            "Donald           Leo\n",
            "Stephen        Wyatt\n",
            "Scott         Isaiah\n",
            "Aaron          Ethan\n",
            "Joshua        Connor\n",
            "Peter          Emily\n",
            "Donald        Hannah\n",
            "Stephen        Asher\n",
            "Scott         Joshua\n",
            "Aaron        Madison\n",
            "Joshua         James\n",
            "Peter        William\n",
            "Donald        Julian\n",
            "Stephen     Scarlett\n",
            "Scott       Isabella\n",
            "dtype: string\n"
          ],
          "name": "stdout"
        }
      ]
    }
  ]
}