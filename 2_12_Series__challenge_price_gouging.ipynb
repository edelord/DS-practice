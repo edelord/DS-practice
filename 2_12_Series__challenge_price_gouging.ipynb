{
  "nbformat": 4,
  "nbformat_minor": 0,
  "metadata": {
    "colab": {
      "name": "2.12 Series__challenge price gouging.ipynb",
      "provenance": [],
      "collapsed_sections": [],
      "authorship_tag": "ABX9TyMrmZBVu/tg7duNDEeWUoUu",
      "include_colab_link": true
    },
    "kernelspec": {
      "name": "python3",
      "display_name": "Python 3"
    },
    "language_info": {
      "name": "python"
    }
  },
  "cells": [
    {
      "cell_type": "markdown",
      "metadata": {
        "id": "view-in-github",
        "colab_type": "text"
      },
      "source": [
        "<a href=\"https://colab.research.google.com/github/edelord/DS-practice/blob/main/2_12_Series__challenge_price_gouging.ipynb\" target=\"_parent\"><img src=\"https://colab.research.google.com/assets/colab-badge.svg\" alt=\"Open In Colab\"/></a>"
      ]
    },
    {
      "cell_type": "markdown",
      "metadata": {
        "id": "mamf1nnXQzyk"
      },
      "source": [
        "https://www.gormanalysis.com/blog/python-pandas-for-your-grandpa-2-12-challenge-price-gouging/"
      ]
    },
    {
      "cell_type": "markdown",
      "metadata": {
        "id": "gesy54TFQzIj"
      },
      "source": [
        "You suspect your local grocery’s been price gouging the ground beef. So, you and some friends decide to track the price of ground beef every day for 10 days. You’ve compiled the data into a Series called beef_prices, whose index represents the day of each recording. Determine which day had the biggest price increase from the prior day.\n",
        "\n",
        "(Note that the index of beef_prices represents the day tracked, and it’s not in order..)"
      ]
    },
    {
      "cell_type": "markdown",
      "metadata": {
        "id": "5b6J0TC1Tb2t"
      },
      "source": [
        "https://albertcthomas.github.io/good-practices-random-number-generators/"
      ]
    },
    {
      "cell_type": "code",
      "metadata": {
        "colab": {
          "base_uri": "https://localhost:8080/"
        },
        "id": "B9RKhaxrQvJ9",
        "outputId": "d2945790-8601-4f4b-a897-08a1b80b94bf"
      },
      "source": [
        "import numpy as np\n",
        "import pandas as pd\n",
        "\n",
        "generator = np.random.default_rng(123)\n",
        "beef_prices = pd.Series(\n",
        "    data = np.round(generator.uniform(low=3, high=5, size=10), 2),\n",
        "    index = generator.choice(10, size=10, replace=False)\n",
        ")\n",
        "print(beef_prices)\n",
        "## 4    4.36\n",
        "## 8    3.11\n",
        "## 2    3.44\n",
        "## 0    3.37\n",
        "## 6    3.35\n",
        "## 9    4.62\n",
        "## 3    4.85\n",
        "## 5    3.55\n",
        "## 1    4.64\n",
        "## 7    4.78\n",
        "## dtype: float64"
      ],
      "execution_count": 1,
      "outputs": [
        {
          "output_type": "stream",
          "text": [
            "4    4.36\n",
            "8    3.11\n",
            "2    3.44\n",
            "0    3.37\n",
            "6    3.35\n",
            "9    4.62\n",
            "3    4.85\n",
            "5    3.55\n",
            "1    4.64\n",
            "7    4.78\n",
            "dtype: float64\n"
          ],
          "name": "stdout"
        }
      ]
    },
    {
      "cell_type": "markdown",
      "metadata": {
        "id": "HlRKFbqtTyyO"
      },
      "source": [
        "# solution"
      ]
    },
    {
      "cell_type": "code",
      "metadata": {
        "colab": {
          "base_uri": "https://localhost:8080/"
        },
        "id": "hjMT7OgmT0V-",
        "outputId": "5ba820ae-2d19-4c85-cdb6-c4205898e5e8"
      },
      "source": [
        "beef_prices.sort_index(inplace=True)\n",
        "print(beef_prices)\n",
        "\n",
        "beef_prices_prev = beef_prices.shift(periods=1)\n",
        "print(beef_prices_prev)\n",
        "\n",
        "daily_changes = beef_prices - beef_prices_prev\n",
        "print(daily_changes)\n",
        "\n",
        "daily_changes.idxmax()    # Return the row label of the maximum value. If multiple values equal the maximum, the first row label with that value is returned.\n",
        "## 9"
      ],
      "execution_count": 5,
      "outputs": [
        {
          "output_type": "stream",
          "text": [
            "0    3.37\n",
            "1    4.64\n",
            "2    3.44\n",
            "3    4.85\n",
            "4    4.36\n",
            "5    3.55\n",
            "6    3.35\n",
            "7    4.78\n",
            "8    3.11\n",
            "9    4.62\n",
            "dtype: float64\n",
            "0     NaN\n",
            "1    3.37\n",
            "2    4.64\n",
            "3    3.44\n",
            "4    4.85\n",
            "5    4.36\n",
            "6    3.55\n",
            "7    3.35\n",
            "8    4.78\n",
            "9    3.11\n",
            "dtype: float64\n",
            "0     NaN\n",
            "1    1.27\n",
            "2   -1.20\n",
            "3    1.41\n",
            "4   -0.49\n",
            "5   -0.81\n",
            "6   -0.20\n",
            "7    1.43\n",
            "8   -1.67\n",
            "9    1.51\n",
            "dtype: float64\n"
          ],
          "name": "stdout"
        },
        {
          "output_type": "execute_result",
          "data": {
            "text/plain": [
              "9"
            ]
          },
          "metadata": {
            "tags": []
          },
          "execution_count": 5
        }
      ]
    }
  ]
}