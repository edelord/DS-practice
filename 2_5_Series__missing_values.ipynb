{
  "nbformat": 4,
  "nbformat_minor": 0,
  "metadata": {
    "colab": {
      "name": "2.5 Series__missing_values.ipynb",
      "provenance": [],
      "collapsed_sections": [],
      "authorship_tag": "ABX9TyMwWQwmeAABlGIvg0n7Hxqc",
      "include_colab_link": true
    },
    "kernelspec": {
      "name": "python3",
      "display_name": "Python 3"
    },
    "language_info": {
      "name": "python"
    }
  },
  "cells": [
    {
      "cell_type": "markdown",
      "metadata": {
        "id": "view-in-github",
        "colab_type": "text"
      },
      "source": [
        "<a href=\"https://colab.research.google.com/github/edelord/DS-practice/blob/main/2_5_Series__missing_values.ipynb\" target=\"_parent\"><img src=\"https://colab.research.google.com/assets/colab-badge.svg\" alt=\"Open In Colab\"/></a>"
      ]
    },
    {
      "cell_type": "markdown",
      "metadata": {
        "id": "M12OpcjwadeM"
      },
      "source": [
        "https://www.gormanalysis.com/blog/python-pandas-for-your-grandpa-2-5-series-missing-values/\n",
        "\n",
        "In this section, we’ll see how to use NaN to represent missing or invalid values in a Series. Let’s start by talking about NaN prior to version 1.0.0. So, back in the day, if you wanted to represent missing or invalid data, you had to use NumPy’s special floating point constant, np.nan. So, if you had a Pandas Series of integers like this"
      ]
    },
    {
      "cell_type": "code",
      "metadata": {
        "colab": {
          "base_uri": "https://localhost:8080/"
        },
        "id": "MDxvpXgiZ7LH",
        "outputId": "6f2515ee-f29a-45a6-ecd1-d7f2fb156529"
      },
      "source": [
        "import numpy as np\n",
        "import pandas as pd\n",
        "\n",
        "roux = pd.Series([1, 2, 3])\n",
        "print(roux)\n",
        "## 0    1\n",
        "## 1    2\n",
        "## 2    3\n",
        "## dtype: int64"
      ],
      "execution_count": 1,
      "outputs": [
        {
          "output_type": "stream",
          "text": [
            "0    1\n",
            "1    2\n",
            "2    3\n",
            "dtype: int64\n"
          ],
          "name": "stdout"
        }
      ]
    },
    {
      "cell_type": "markdown",
      "metadata": {
        "id": "xpDpvkhGbb1f"
      },
      "source": [
        "And then you set the 2nd element to np.nan, The Series would get cast to floats because nan only exists in NumPy as a floating point constant."
      ]
    },
    {
      "cell_type": "code",
      "metadata": {
        "colab": {
          "base_uri": "https://localhost:8080/"
        },
        "id": "nsYvlQvcblrT",
        "outputId": "65f08d8a-88fc-4d71-8dca-b2804905c437"
      },
      "source": [
        "roux.iloc[1] = np.nan\n",
        "print(roux)\n",
        "## 0    1.0\n",
        "## 1    NaN\n",
        "## 2    3.0\n",
        "## dtype: float64"
      ],
      "execution_count": 2,
      "outputs": [
        {
          "output_type": "stream",
          "text": [
            "0    1.0\n",
            "1    NaN\n",
            "2    3.0\n",
            "dtype: float64\n"
          ],
          "name": "stdout"
        }
      ]
    },
    {
      "cell_type": "markdown",
      "metadata": {
        "id": "KYO2XhsIb6K8"
      },
      "source": [
        "By the time you’re reading this article, this may have changed, but at the moment, fixing this problem is still on the NumPy Roadmap.\n",
        "\n",
        "So, in the past you couldn’t have a Pandas Series of integers with NaN values, because you couldn’t (and still can’t) have a NumPy array of integers with NaN values. If you wanted NaN values, your Series had to be a Series of floats.\n",
        "\n",
        "Then Pandas released version 1.0.0 which included a Nullable integer datatype. It’s called “Int64” with a capital “I” to differentiate it from NumPy’s “int64” with a lower case “i”. So, let’s rebuild that Series, roux, this time specifying dtype='Int64'.\n",
        "And, again, let’s set the 2nd element to np.nan."
      ]
    },
    {
      "cell_type": "code",
      "metadata": {
        "colab": {
          "base_uri": "https://localhost:8080/"
        },
        "id": "zkyCY5crcN-F",
        "outputId": "7e4b99eb-88b0-4cd4-cd45-c0ca80d9ada2"
      },
      "source": [
        "roux = pd.Series([1, 2, 3], dtype='Int64')\n",
        "roux.iloc[1] = np.nan\n",
        "print(roux)\n",
        "## 0       1\n",
        "## 1    <NA>\n",
        "## 2       3\n",
        "## dtype: Int64"
      ],
      "execution_count": 3,
      "outputs": [
        {
          "output_type": "stream",
          "text": [
            "0       1\n",
            "1    <NA>\n",
            "2       3\n",
            "dtype: Int64\n"
          ],
          "name": "stdout"
        }
      ]
    },
    {
      "cell_type": "markdown",
      "metadata": {
        "id": "t9iXT13fcdAn"
      },
      "source": [
        "This time, the Series retains its Int64 datatype, and doesn’t get cast to float. In this case, a better way set that value to NaN is to use pd.NA."
      ]
    },
    {
      "cell_type": "code",
      "metadata": {
        "colab": {
          "base_uri": "https://localhost:8080/"
        },
        "id": "v_xh7YK7cjeE",
        "outputId": "22dd8ab1-9198-476f-bbf0-6b826f234a1e"
      },
      "source": [
        "roux.iloc[1] = pd.NA\n",
        "print(roux)\n",
        "## 0       1\n",
        "## 1    <NA>\n",
        "## 2       3\n",
        "## dtype: Int64"
      ],
      "execution_count": 4,
      "outputs": [
        {
          "output_type": "stream",
          "text": [
            "0       1\n",
            "1    <NA>\n",
            "2       3\n",
            "dtype: Int64\n"
          ],
          "name": "stdout"
        }
      ]
    },
    {
      "cell_type": "markdown",
      "metadata": {
        "id": "Al6d3KXVc1lg"
      },
      "source": [
        "You could also use the None keyword, but I’d probably opt for pd.NA.\n",
        "\n",
        "Alright, now let’s see how this works on a Series of strings. So back in the day, if you wanted to build a Series of strings, you would do something like"
      ]
    },
    {
      "cell_type": "code",
      "metadata": {
        "colab": {
          "base_uri": "https://localhost:8080/"
        },
        "id": "0cJhTcTmc4mj",
        "outputId": "d3c202da-9813-4301-fbd5-ec6e7bc3e556"
      },
      "source": [
        "gumbo = pd.Series(['a', 'b', 'c'])\n",
        "print(gumbo)\n",
        "## 0    a\n",
        "## 1    b\n",
        "## 2    c\n",
        "## dtype: object"
      ],
      "execution_count": 10,
      "outputs": [
        {
          "output_type": "stream",
          "text": [
            "0    a\n",
            "1    b\n",
            "2    c\n",
            "dtype: object\n"
          ],
          "name": "stdout"
        }
      ]
    },
    {
      "cell_type": "markdown",
      "metadata": {
        "id": "-qVfnk88dHHn"
      },
      "source": [
        "And then if you set the 2nd value to np.nan and the third value to None,"
      ]
    },
    {
      "cell_type": "code",
      "metadata": {
        "colab": {
          "base_uri": "https://localhost:8080/"
        },
        "id": "zgJ1nrZidJXC",
        "outputId": "560d3ba8-4745-4fe4-a11f-e5bf1ffa3613"
      },
      "source": [
        "gumbo.iloc[1] = np.nan\n",
        "gumbo.iloc[2] = None\n",
        "\n",
        "#and then you print the Series, it actually looks like this worked pretty well... but did it?\n",
        "\n",
        "print(gumbo)\n",
        "## 0       a\n",
        "## 1     NaN\n",
        "## 2    None\n",
        "## dtype: object"
      ],
      "execution_count": 11,
      "outputs": [
        {
          "output_type": "stream",
          "text": [
            "0       a\n",
            "1     NaN\n",
            "2    None\n",
            "dtype: object\n"
          ],
          "name": "stdout"
        }
      ]
    },
    {
      "cell_type": "markdown",
      "metadata": {
        "id": "5gbUrSH-dtXe"
      },
      "source": [
        "Notice, the Series has dtype object. What this means is, we basically have a python list. Each element of the Series is actually just a pointer, or a memory address, pointing to some random location in your computer’s memory that’s storing the value of the element. This is bad because:\n",
        "\n",
        "it’s inefficient for data access and\n",
        "it doesn’t enforce a homogeneous datatype constraint on our Series\n",
        "We’re supposed to have a Series of strings, but I set the second element to a floating point. Pandas 1.0.0 fixed both of these issues in one-fell-swoop with the StringDtype extension type. So, today we’d rebuild that Series just like before, except we’d specify dtype='string'"
      ]
    },
    {
      "cell_type": "code",
      "metadata": {
        "colab": {
          "base_uri": "https://localhost:8080/"
        },
        "id": "H0D1frZndu8G",
        "outputId": "64efc49d-5265-46f0-d105-1eb8aff37065"
      },
      "source": [
        "gumbo = pd.Series(['a', 'b', 'c'], dtype='string')\n",
        "print(gumbo)\n",
        "## 0    a\n",
        "## 1    b\n",
        "## 2    c\n",
        "## dtype: string"
      ],
      "execution_count": 12,
      "outputs": [
        {
          "output_type": "stream",
          "text": [
            "0    a\n",
            "1    b\n",
            "2    c\n",
            "dtype: string\n"
          ],
          "name": "stdout"
        }
      ]
    },
    {
      "cell_type": "markdown",
      "metadata": {
        "id": "_tgOFFFQd1R7"
      },
      "source": [
        "And now if we set the 2nd value to np.nan and the third value to None, our Series would end up looking like this"
      ]
    },
    {
      "cell_type": "code",
      "metadata": {
        "colab": {
          "base_uri": "https://localhost:8080/"
        },
        "id": "f0AM1pDfd9nT",
        "outputId": "19f23fd7-8440-466c-9b16-e8bd1c8880c1"
      },
      "source": [
        "gumbo.iloc[1] = pd.NA\n",
        "gumbo.iloc[2] = None\n",
        "print(gumbo)\n",
        "## 0       a\n",
        "## 1    <NA>\n",
        "## 2    <NA>\n",
        "## dtype: string"
      ],
      "execution_count": 13,
      "outputs": [
        {
          "output_type": "stream",
          "text": [
            "0       a\n",
            "1    <NA>\n",
            "2    <NA>\n",
            "dtype: string\n"
          ],
          "name": "stdout"
        }
      ]
    },
    {
      "cell_type": "markdown",
      "metadata": {
        "id": "g5S4U9-1eBIb"
      },
      "source": [
        "If you’re a little confused by this - don’t worry it’s not that important for using Pandas and it’s something you’ll probably understand more over time.\n",
        "\n",
        "In any case, Pandas provides two helper functions for identifying nan values. If you have a Series x with some nan values,"
      ]
    },
    {
      "cell_type": "code",
      "metadata": {
        "colab": {
          "base_uri": "https://localhost:8080/"
        },
        "id": "r2yZ2BOMeLi2",
        "outputId": "52cf3ce3-e538-4f48-b6ca-706e493f7f4d"
      },
      "source": [
        "x = pd.Series([1, pd.NA, 3, pd.NA], dtype='Int64')\n",
        "print(x)\n",
        "## 0       1\n",
        "## 1    <NA>\n",
        "## 2       3\n",
        "## 3    <NA>\n",
        "## dtype: Int64"
      ],
      "execution_count": 20,
      "outputs": [
        {
          "output_type": "stream",
          "text": [
            "0       1\n",
            "1    <NA>\n",
            "2       3\n",
            "3    <NA>\n",
            "dtype: Int64\n"
          ],
          "name": "stdout"
        }
      ]
    },
    {
      "cell_type": "markdown",
      "metadata": {
        "id": "IL2Qp-34eVuR"
      },
      "source": [
        "you can use \n",
        "*   pd.isna() to check whether each value is nan\n",
        "*   pd.notna() to do the opposite\n",
        "\n"
      ]
    },
    {
      "cell_type": "code",
      "metadata": {
        "colab": {
          "base_uri": "https://localhost:8080/"
        },
        "id": "Hgl-jEmFe7D_",
        "outputId": "85cfbeca-cac4-4a2e-849c-dcbe32c3e131"
      },
      "source": [
        "pd.isna(x)\n",
        "## 0    False\n",
        "## 1     True\n",
        "## 2    False\n",
        "## 3     True\n",
        "## dtype: bool"
      ],
      "execution_count": 15,
      "outputs": [
        {
          "output_type": "execute_result",
          "data": {
            "text/plain": [
              "0    False\n",
              "1     True\n",
              "2    False\n",
              "3     True\n",
              "dtype: bool"
            ]
          },
          "metadata": {
            "tags": []
          },
          "execution_count": 15
        }
      ]
    },
    {
      "cell_type": "code",
      "metadata": {
        "colab": {
          "base_uri": "https://localhost:8080/"
        },
        "id": "L-ooYE7efH3e",
        "outputId": "a07ac6e0-a0e5-4b79-f4ec-7be2fb36c2b5"
      },
      "source": [
        "pd.notna(x)\n",
        "## 0     True\n",
        "## 1    False\n",
        "## 2     True\n",
        "## 3    False\n",
        "## dtype: bool"
      ],
      "execution_count": 16,
      "outputs": [
        {
          "output_type": "execute_result",
          "data": {
            "text/plain": [
              "0     True\n",
              "1    False\n",
              "2     True\n",
              "3    False\n",
              "dtype: bool"
            ]
          },
          "metadata": {
            "tags": []
          },
          "execution_count": 16
        }
      ]
    },
    {
      "cell_type": "markdown",
      "metadata": {
        "id": "VQGYzZRGfUhk"
      },
      "source": [
        "If you want to replace nan values with -1, you could do something like"
      ]
    },
    {
      "cell_type": "code",
      "metadata": {
        "colab": {
          "base_uri": "https://localhost:8080/"
        },
        "id": "VHDLjqPQfY5-",
        "outputId": "9bb0f666-1646-454d-ffa4-570b25c5fa53"
      },
      "source": [
        "x.loc[pd.isna(x)] = -1\n",
        "print(x)"
      ],
      "execution_count": 18,
      "outputs": [
        {
          "output_type": "stream",
          "text": [
            "0     1\n",
            "1    -1\n",
            "2     3\n",
            "3    -1\n",
            "dtype: Int64\n"
          ],
          "name": "stdout"
        }
      ]
    },
    {
      "cell_type": "markdown",
      "metadata": {
        "id": "paj8iFIIfc4f"
      },
      "source": [
        "and this works, but Pandas provides a really convenient fillna() method that makes this event simpler. So instead you could just do"
      ]
    },
    {
      "cell_type": "code",
      "metadata": {
        "colab": {
          "base_uri": "https://localhost:8080/"
        },
        "id": "l0Beehxlfx9a",
        "outputId": "d508d1c6-c896-41dc-ba33-8022f4b15e35"
      },
      "source": [
        "x = pd.Series([1, pd.NA, 3, pd.NA], dtype='Int64')\n",
        "print(x)\n",
        "## 0       1\n",
        "## 1    <NA>\n",
        "## 2       3\n",
        "## 3    <NA>\n",
        "## dtype: Int64\n",
        "\n",
        "x.fillna(-1)"
      ],
      "execution_count": 21,
      "outputs": [
        {
          "output_type": "execute_result",
          "data": {
            "text/plain": [
              "0     1\n",
              "1    -1\n",
              "2     3\n",
              "3    -1\n",
              "dtype: Int64"
            ]
          },
          "metadata": {
            "tags": []
          },
          "execution_count": 21
        }
      ]
    },
    {
      "cell_type": "markdown",
      "metadata": {
        "id": "P1CR5pSngBkb"
      },
      "source": [
        "Note that this returns a modified copy of x, so x doesn’t actually get changed here. You can see if I print(x) it hasn’t changed."
      ]
    },
    {
      "cell_type": "code",
      "metadata": {
        "colab": {
          "base_uri": "https://localhost:8080/"
        },
        "id": "jsN6IdG_gWYv",
        "outputId": "9537aad3-c3a7-4e23-e40e-675009c14fdc"
      },
      "source": [
        "print(x)"
      ],
      "execution_count": 22,
      "outputs": [
        {
          "output_type": "stream",
          "text": [
            "0       1\n",
            "1    <NA>\n",
            "2       3\n",
            "3    <NA>\n",
            "dtype: Int64\n"
          ],
          "name": "stdout"
        }
      ]
    },
    {
      "cell_type": "markdown",
      "metadata": {
        "id": "Gmbbasy6glHA"
      },
      "source": [
        "If you want the changes to stick, you can do the same thing and set the inplace parameter equal to True."
      ]
    },
    {
      "cell_type": "code",
      "metadata": {
        "colab": {
          "base_uri": "https://localhost:8080/"
        },
        "id": "7EZY7N4vgouf",
        "outputId": "730d5aff-5787-4efe-d697-4a734094dab9"
      },
      "source": [
        "x.fillna(-1, inplace=True)\n",
        "print(x)\n",
        "## 0     1\n",
        "## 1    -1\n",
        "## 2     3\n",
        "## 3    -1\n",
        "## dtype: Int64"
      ],
      "execution_count": 23,
      "outputs": [
        {
          "output_type": "stream",
          "text": [
            "0     1\n",
            "1    -1\n",
            "2     3\n",
            "3    -1\n",
            "dtype: Int64\n"
          ],
          "name": "stdout"
        }
      ]
    },
    {
      "cell_type": "markdown",
      "metadata": {
        "id": "VEDQS2Htg5T2"
      },
      "source": [
        "It’s also important to understand how NaNs work with boolean indexing. Suppose you have a Series of values like this."
      ]
    },
    {
      "cell_type": "code",
      "metadata": {
        "colab": {
          "base_uri": "https://localhost:8080/"
        },
        "id": "d8ynR8IKg7AZ",
        "outputId": "76fbee52-9cb6-4e29-b589-88c001e6435c"
      },
      "source": [
        "goo = pd.Series([10,20,30,40])\n",
        "print(goo)\n",
        "## 0    10\n",
        "## 1    20\n",
        "## 2    30\n",
        "## 3    40\n",
        "## dtype: int64"
      ],
      "execution_count": 24,
      "outputs": [
        {
          "output_type": "stream",
          "text": [
            "0    10\n",
            "1    20\n",
            "2    30\n",
            "3    40\n",
            "dtype: int64\n"
          ],
          "name": "stdout"
        }
      ]
    },
    {
      "cell_type": "markdown",
      "metadata": {
        "id": "RrYXxtjVhICM"
      },
      "source": [
        "And a corresponding series of booleans like this:"
      ]
    },
    {
      "cell_type": "code",
      "metadata": {
        "colab": {
          "base_uri": "https://localhost:8080/"
        },
        "id": "jr8q0NzBhPyA",
        "outputId": "be60919f-a4b2-418a-e68e-1225356c0660"
      },
      "source": [
        "choo = pd.Series([True, False, pd.NA, True])\n",
        "print(choo)\n",
        "## 0     True\n",
        "## 1    False\n",
        "## 2     <NA>\n",
        "## 3     True\n",
        "## dtype: object"
      ],
      "execution_count": 25,
      "outputs": [
        {
          "output_type": "stream",
          "text": [
            "0     True\n",
            "1    False\n",
            "2     <NA>\n",
            "3     True\n",
            "dtype: object\n"
          ],
          "name": "stdout"
        }
      ]
    },
    {
      "cell_type": "markdown",
      "metadata": {
        "id": "zz27qUaUhbzF"
      },
      "source": [
        "what do you think goo.loc[choo] will return?"
      ]
    },
    {
      "cell_type": "code",
      "metadata": {
        "colab": {
          "base_uri": "https://localhost:8080/",
          "height": 306
        },
        "id": "jP1Yb_W4hc4Y",
        "outputId": "47edaf6a-cb91-474b-bed7-17ee1081f443"
      },
      "source": [
        "goo.loc[choo]  # ValueError: Cannot mask with non-boolean array containing NA / NaN values"
      ],
      "execution_count": 26,
      "outputs": [
        {
          "output_type": "error",
          "ename": "ValueError",
          "evalue": "ignored",
          "traceback": [
            "\u001b[0;31m---------------------------------------------------------------------------\u001b[0m",
            "\u001b[0;31mValueError\u001b[0m                                Traceback (most recent call last)",
            "\u001b[0;32m<ipython-input-26-c3c1a7a66fad>\u001b[0m in \u001b[0;36m<module>\u001b[0;34m()\u001b[0m\n\u001b[0;32m----> 1\u001b[0;31m \u001b[0mgoo\u001b[0m\u001b[0;34m.\u001b[0m\u001b[0mloc\u001b[0m\u001b[0;34m[\u001b[0m\u001b[0mchoo\u001b[0m\u001b[0;34m]\u001b[0m  \u001b[0;31m# ValueError: Cannot mask with non-boolean array containing NA / NaN values\u001b[0m\u001b[0;34m\u001b[0m\u001b[0;34m\u001b[0m\u001b[0m\n\u001b[0m",
            "\u001b[0;32m/usr/local/lib/python3.7/dist-packages/pandas/core/indexing.py\u001b[0m in \u001b[0;36m__getitem__\u001b[0;34m(self, key)\u001b[0m\n\u001b[1;32m    877\u001b[0m \u001b[0;34m\u001b[0m\u001b[0m\n\u001b[1;32m    878\u001b[0m             \u001b[0mmaybe_callable\u001b[0m \u001b[0;34m=\u001b[0m \u001b[0mcom\u001b[0m\u001b[0;34m.\u001b[0m\u001b[0mapply_if_callable\u001b[0m\u001b[0;34m(\u001b[0m\u001b[0mkey\u001b[0m\u001b[0;34m,\u001b[0m \u001b[0mself\u001b[0m\u001b[0;34m.\u001b[0m\u001b[0mobj\u001b[0m\u001b[0;34m)\u001b[0m\u001b[0;34m\u001b[0m\u001b[0;34m\u001b[0m\u001b[0m\n\u001b[0;32m--> 879\u001b[0;31m             \u001b[0;32mreturn\u001b[0m \u001b[0mself\u001b[0m\u001b[0;34m.\u001b[0m\u001b[0m_getitem_axis\u001b[0m\u001b[0;34m(\u001b[0m\u001b[0mmaybe_callable\u001b[0m\u001b[0;34m,\u001b[0m \u001b[0maxis\u001b[0m\u001b[0;34m=\u001b[0m\u001b[0maxis\u001b[0m\u001b[0;34m)\u001b[0m\u001b[0;34m\u001b[0m\u001b[0;34m\u001b[0m\u001b[0m\n\u001b[0m\u001b[1;32m    880\u001b[0m \u001b[0;34m\u001b[0m\u001b[0m\n\u001b[1;32m    881\u001b[0m     \u001b[0;32mdef\u001b[0m \u001b[0m_is_scalar_access\u001b[0m\u001b[0;34m(\u001b[0m\u001b[0mself\u001b[0m\u001b[0;34m,\u001b[0m \u001b[0mkey\u001b[0m\u001b[0;34m:\u001b[0m \u001b[0mTuple\u001b[0m\u001b[0;34m)\u001b[0m\u001b[0;34m:\u001b[0m\u001b[0;34m\u001b[0m\u001b[0;34m\u001b[0m\u001b[0m\n",
            "\u001b[0;32m/usr/local/lib/python3.7/dist-packages/pandas/core/indexing.py\u001b[0m in \u001b[0;36m_getitem_axis\u001b[0;34m(self, key, axis)\u001b[0m\n\u001b[1;32m   1087\u001b[0m             \u001b[0mself\u001b[0m\u001b[0;34m.\u001b[0m\u001b[0m_validate_key\u001b[0m\u001b[0;34m(\u001b[0m\u001b[0mkey\u001b[0m\u001b[0;34m,\u001b[0m \u001b[0maxis\u001b[0m\u001b[0;34m)\u001b[0m\u001b[0;34m\u001b[0m\u001b[0;34m\u001b[0m\u001b[0m\n\u001b[1;32m   1088\u001b[0m             \u001b[0;32mreturn\u001b[0m \u001b[0mself\u001b[0m\u001b[0;34m.\u001b[0m\u001b[0m_get_slice_axis\u001b[0m\u001b[0;34m(\u001b[0m\u001b[0mkey\u001b[0m\u001b[0;34m,\u001b[0m \u001b[0maxis\u001b[0m\u001b[0;34m=\u001b[0m\u001b[0maxis\u001b[0m\u001b[0;34m)\u001b[0m\u001b[0;34m\u001b[0m\u001b[0;34m\u001b[0m\u001b[0m\n\u001b[0;32m-> 1089\u001b[0;31m         \u001b[0;32melif\u001b[0m \u001b[0mcom\u001b[0m\u001b[0;34m.\u001b[0m\u001b[0mis_bool_indexer\u001b[0m\u001b[0;34m(\u001b[0m\u001b[0mkey\u001b[0m\u001b[0;34m)\u001b[0m\u001b[0;34m:\u001b[0m\u001b[0;34m\u001b[0m\u001b[0;34m\u001b[0m\u001b[0m\n\u001b[0m\u001b[1;32m   1090\u001b[0m             \u001b[0;32mreturn\u001b[0m \u001b[0mself\u001b[0m\u001b[0;34m.\u001b[0m\u001b[0m_getbool_axis\u001b[0m\u001b[0;34m(\u001b[0m\u001b[0mkey\u001b[0m\u001b[0;34m,\u001b[0m \u001b[0maxis\u001b[0m\u001b[0;34m=\u001b[0m\u001b[0maxis\u001b[0m\u001b[0;34m)\u001b[0m\u001b[0;34m\u001b[0m\u001b[0;34m\u001b[0m\u001b[0m\n\u001b[1;32m   1091\u001b[0m         \u001b[0;32melif\u001b[0m \u001b[0mis_list_like_indexer\u001b[0m\u001b[0;34m(\u001b[0m\u001b[0mkey\u001b[0m\u001b[0;34m)\u001b[0m\u001b[0;34m:\u001b[0m\u001b[0;34m\u001b[0m\u001b[0;34m\u001b[0m\u001b[0m\n",
            "\u001b[0;32m/usr/local/lib/python3.7/dist-packages/pandas/core/common.py\u001b[0m in \u001b[0;36mis_bool_indexer\u001b[0;34m(key)\u001b[0m\n\u001b[1;32m    132\u001b[0m                 \u001b[0mna_msg\u001b[0m \u001b[0;34m=\u001b[0m \u001b[0;34m\"Cannot mask with non-boolean array containing NA / NaN values\"\u001b[0m\u001b[0;34m\u001b[0m\u001b[0;34m\u001b[0m\u001b[0m\n\u001b[1;32m    133\u001b[0m                 \u001b[0;32mif\u001b[0m \u001b[0misna\u001b[0m\u001b[0;34m(\u001b[0m\u001b[0mkey\u001b[0m\u001b[0;34m)\u001b[0m\u001b[0;34m.\u001b[0m\u001b[0many\u001b[0m\u001b[0;34m(\u001b[0m\u001b[0;34m)\u001b[0m\u001b[0;34m:\u001b[0m\u001b[0;34m\u001b[0m\u001b[0;34m\u001b[0m\u001b[0m\n\u001b[0;32m--> 134\u001b[0;31m                     \u001b[0;32mraise\u001b[0m \u001b[0mValueError\u001b[0m\u001b[0;34m(\u001b[0m\u001b[0mna_msg\u001b[0m\u001b[0;34m)\u001b[0m\u001b[0;34m\u001b[0m\u001b[0;34m\u001b[0m\u001b[0m\n\u001b[0m\u001b[1;32m    135\u001b[0m                 \u001b[0;32mreturn\u001b[0m \u001b[0;32mFalse\u001b[0m\u001b[0;34m\u001b[0m\u001b[0;34m\u001b[0m\u001b[0m\n\u001b[1;32m    136\u001b[0m             \u001b[0;32mreturn\u001b[0m \u001b[0;32mTrue\u001b[0m\u001b[0;34m\u001b[0m\u001b[0;34m\u001b[0m\u001b[0m\n",
            "\u001b[0;31mValueError\u001b[0m: Cannot mask with non-boolean array containing NA / NaN values"
          ]
        }
      ]
    },
    {
      "cell_type": "markdown",
      "metadata": {
        "id": "tmMJB1f7hiU5"
      },
      "source": [
        "In this case we get “ValueError: Cannot mask with non-boolean array containing NA / NaN values” Notice that choo here is one of those pesky Series with dtype ‘object’. In other words, it’s a Series of pointers. To fix this, we can rebuild choo, specifying dtype = \"boolean\"."
      ]
    },
    {
      "cell_type": "code",
      "metadata": {
        "colab": {
          "base_uri": "https://localhost:8080/"
        },
        "id": "g5c-nhiehqrK",
        "outputId": "98032c40-2668-47f9-a843-a850cd607440"
      },
      "source": [
        "choo = pd.Series([True, False, np.NaN, True], dtype = \"boolean\")\n",
        "print(choo)\n",
        "## 0     True\n",
        "## 1    False\n",
        "## 2     <NA>\n",
        "## 3     True\n",
        "## dtype: boolean"
      ],
      "execution_count": 27,
      "outputs": [
        {
          "output_type": "stream",
          "text": [
            "0     True\n",
            "1    False\n",
            "2     <NA>\n",
            "3     True\n",
            "dtype: boolean\n"
          ],
          "name": "stdout"
        }
      ]
    },
    {
      "cell_type": "markdown",
      "metadata": {
        "id": "imtPa0Y_hwGL"
      },
      "source": [
        "and now when we do goo.loc[choo] we get back 10 and 40, so the NaN value in choo is essentially ignored."
      ]
    },
    {
      "cell_type": "code",
      "metadata": {
        "colab": {
          "base_uri": "https://localhost:8080/"
        },
        "id": "2wiSVfnzh2NR",
        "outputId": "6b6198f9-f429-4747-f7a4-941d226c011a"
      },
      "source": [
        "goo.loc[choo]\n",
        "## 0    10\n",
        "## 3    40\n",
        "## dtype: int64"
      ],
      "execution_count": 28,
      "outputs": [
        {
          "output_type": "execute_result",
          "data": {
            "text/plain": [
              "0    10\n",
              "3    40\n",
              "dtype: int64"
            ]
          },
          "metadata": {
            "tags": []
          },
          "execution_count": 28
        }
      ]
    },
    {
      "cell_type": "markdown",
      "metadata": {
        "id": "ztu2ICeph6zQ"
      },
      "source": [
        "Keep in mind that the negation of NaN is still NaN, so if we do goo.loc[~choo], we only get back one row, not the two rows excluded in the previous subset."
      ]
    },
    {
      "cell_type": "code",
      "metadata": {
        "colab": {
          "base_uri": "https://localhost:8080/"
        },
        "id": "idW711dNh_cz",
        "outputId": "81f066d6-15bb-43f9-b847-59f8412e030e"
      },
      "source": [
        "goo.loc[~choo]\n",
        "## 1    20\n",
        "## dtype: int64"
      ],
      "execution_count": 29,
      "outputs": [
        {
          "output_type": "execute_result",
          "data": {
            "text/plain": [
              "1    20\n",
              "dtype: int64"
            ]
          },
          "metadata": {
            "tags": []
          },
          "execution_count": 29
        }
      ]
    }
  ]
}