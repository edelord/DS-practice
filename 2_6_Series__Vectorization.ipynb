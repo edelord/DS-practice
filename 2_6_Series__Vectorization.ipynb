{
  "nbformat": 4,
  "nbformat_minor": 0,
  "metadata": {
    "colab": {
      "name": "2.6 Series__Vectorization.ipynb",
      "provenance": [],
      "collapsed_sections": [],
      "authorship_tag": "ABX9TyPFAyzqiqjQMSMpWZ4CQo3P",
      "include_colab_link": true
    },
    "kernelspec": {
      "name": "python3",
      "display_name": "Python 3"
    },
    "language_info": {
      "name": "python"
    }
  },
  "cells": [
    {
      "cell_type": "markdown",
      "metadata": {
        "id": "view-in-github",
        "colab_type": "text"
      },
      "source": [
        "<a href=\"https://colab.research.google.com/github/edelord/DS-practice/blob/main/2_6_Series__Vectorization.ipynb\" target=\"_parent\"><img src=\"https://colab.research.google.com/assets/colab-badge.svg\" alt=\"Open In Colab\"/></a>"
      ]
    },
    {
      "cell_type": "markdown",
      "metadata": {
        "id": "ViW6toHwiqjA"
      },
      "source": [
        "https://www.gormanalysis.com/blog/python-pandas-for-your-grandpa-2-6-series-vectorization/\n",
        "\n",
        "In this section, we’ll learn about vectorization and why using natively built Series methods is usually better than rolling your own custom methods.\n",
        "\n",
        "Suppose you have a series x with 1M random uniform values between 1 and 2, and you want to calculate its mean."
      ]
    },
    {
      "cell_type": "code",
      "metadata": {
        "id": "PG5BEW7diRxk"
      },
      "source": [
        "import numpy as np\n",
        "import pandas as pd\n",
        "\n",
        "x = pd.Series(np.random.uniform(low=1, high=2, size=10**6))"
      ],
      "execution_count": 1,
      "outputs": []
    },
    {
      "cell_type": "markdown",
      "metadata": {
        "id": "E-h_QhCIitqj"
      },
      "source": [
        "You’re a confident, competent coder, so forget about using somebody else’s code - you’re gonna write your own function to calculate the average. So you come up with something like this."
      ]
    },
    {
      "cell_type": "code",
      "metadata": {
        "id": "GNjQX6bcjFNw"
      },
      "source": [
        "def average(x):\n",
        "    avg = 0.0\n",
        "    for i in range(x.size):\n",
        "        avg += x.iloc[i]/x.size\n",
        "\n",
        "    return avg"
      ],
      "execution_count": 3,
      "outputs": []
    },
    {
      "cell_type": "markdown",
      "metadata": {
        "id": "cqwAua59ja0b"
      },
      "source": [
        "Now you give it a whirl, only to find out.. it’s slow as hell!"
      ]
    },
    {
      "cell_type": "code",
      "metadata": {
        "colab": {
          "base_uri": "https://localhost:8080/"
        },
        "id": "oXKEio9jje-r",
        "outputId": "1cc6458d-c22c-4def-b011-d479c8e5acb7"
      },
      "source": [
        "average(x)\n",
        "## 1.5003341637695278"
      ],
      "execution_count": 4,
      "outputs": [
        {
          "output_type": "execute_result",
          "data": {
            "text/plain": [
              "1.5001557729449542"
            ]
          },
          "metadata": {
            "tags": []
          },
          "execution_count": 4
        }
      ]
    },
    {
      "cell_type": "markdown",
      "metadata": {
        "id": "8yOfKT68jrkB"
      },
      "source": [
        "By contrast, take a look at the built-in Series method, mean()."
      ]
    },
    {
      "cell_type": "code",
      "metadata": {
        "colab": {
          "base_uri": "https://localhost:8080/"
        },
        "id": "B2FoHkDNjswv",
        "outputId": "eac6bf35-b195-4250-a6d4-8f4fd831296d"
      },
      "source": [
        "x.mean()\n",
        "## 1.500334163769572\n"
      ],
      "execution_count": 7,
      "outputs": [
        {
          "output_type": "execute_result",
          "data": {
            "text/plain": [
              "1.500214987245152"
            ]
          },
          "metadata": {
            "tags": []
          },
          "execution_count": 7
        }
      ]
    },
    {
      "cell_type": "markdown",
      "metadata": {
        "id": "2Xk3id7bjnR3"
      },
      "source": [
        "It’s blazing fast. So, why is the built-in method so much faster than your custom function? The answer is vectorization.\n",
        "\n",
        "It’s important to understand that Python loops are slow. With each iteration of a Python loop, you’re essentially giving your computer a new set of instructions to perform some task, so in this case it’s like you’re giving your computer 1M different sets of instructions.\n",
        "\n",
        "By contrast, the Series mean() method is basically an alias for the NumPy mean() method, which is vectorized. In this case, NumPy hands off the entire array of data to a lower level function in C with a single set of instructions for what to do. C then executes those instructions on the entire array, calculating the mean, before handing the result back to Python.\n",
        "\n",
        "To recap, Python loops are slow and you shouldn’t use them, except in some rare circumstances. Instead, opt for a vectorized solution using one of the many Pandas and NumPy methods that implement fast algorithms using C."
      ]
    },
    {
      "cell_type": "code",
      "metadata": {
        "colab": {
          "base_uri": "https://localhost:8080/"
        },
        "id": "z4We5QPvlNxb",
        "outputId": "3496a906-1bf0-4975-a4fd-152220dfe06c"
      },
      "source": [
        "x.mode()\n",
        "x.median()"
      ],
      "execution_count": 8,
      "outputs": [
        {
          "output_type": "execute_result",
          "data": {
            "text/plain": [
              "1.500214987245152"
            ]
          },
          "metadata": {
            "tags": []
          },
          "execution_count": 8
        }
      ]
    }
  ]
}