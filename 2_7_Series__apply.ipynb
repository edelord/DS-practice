{
  "nbformat": 4,
  "nbformat_minor": 0,
  "metadata": {
    "colab": {
      "name": "2.7 Series__apply.ipynb",
      "provenance": [],
      "collapsed_sections": [],
      "authorship_tag": "ABX9TyPuSt/GnPcsScoaiyxzYGA1",
      "include_colab_link": true
    },
    "kernelspec": {
      "name": "python3",
      "display_name": "Python 3"
    },
    "language_info": {
      "name": "python"
    }
  },
  "cells": [
    {
      "cell_type": "markdown",
      "metadata": {
        "id": "view-in-github",
        "colab_type": "text"
      },
      "source": [
        "<a href=\"https://colab.research.google.com/github/edelord/DS-practice/blob/main/2_7_Series__apply.ipynb\" target=\"_parent\"><img src=\"https://colab.research.google.com/assets/colab-badge.svg\" alt=\"Open In Colab\"/></a>"
      ]
    },
    {
      "cell_type": "code",
      "metadata": {
        "id": "P_E7fn0xlm7C"
      },
      "source": [
        "https://www.gormanalysis.com/blog/python-pandas-for-your-grandpa-2-7-series-apply/\n",
        "\n",
        "In this section, we’ll see how you can use the apply() method of a Series to apply a function to each element in the Series, and then we’ll see why apply() is usually inferior to a vectorized solution.\n",
        "\n",
        "Suppose you have a Series called foo with 6 elements like this"
      ],
      "execution_count": null,
      "outputs": []
    },
    {
      "cell_type": "code",
      "metadata": {
        "colab": {
          "base_uri": "https://localhost:8080/"
        },
        "id": "G6zkHkNcl5I7",
        "outputId": "64e0d120-34f2-4641-9ed3-a3e27a918375"
      },
      "source": [
        "import numpy as np\n",
        "import pandas as pd\n",
        "\n",
        "foo = pd.Series([3, 9, 2, 2, 8, 7])\n",
        "print(foo)\n",
        "## 0    3\n",
        "## 1    9\n",
        "## 2    2\n",
        "## 3    2\n",
        "## 4    8\n",
        "## 5    7\n",
        "## dtype: int64"
      ],
      "execution_count": 1,
      "outputs": [
        {
          "output_type": "stream",
          "text": [
            "0    3\n",
            "1    9\n",
            "2    2\n",
            "3    2\n",
            "4    8\n",
            "5    7\n",
            "dtype: int64\n"
          ],
          "name": "stdout"
        }
      ]
    },
    {
      "cell_type": "markdown",
      "metadata": {
        "id": "VWaao1k7l7yJ"
      },
      "source": [
        "And you want to apply some complicated function like this one to each element in the Series."
      ]
    },
    {
      "cell_type": "code",
      "metadata": {
        "id": "5AhuJtabl5Dx"
      },
      "source": [
        "def my_func(x):\n",
        "    return x - 1 if x % 2 == 0 else x + 3"
      ],
      "execution_count": 2,
      "outputs": []
    },
    {
      "cell_type": "markdown",
      "metadata": {
        "id": "2mC0g7i5l7qa"
      },
      "source": [
        "Here, my_func() takes in a scalar, x, and returns x-1 if x is even, otherwise it returns x + 3. Okay.. maybe this one-liner isn’t that complicated, but for the sake of argument, pretend this function has hundreds of lines of cryptic code. In cases like this, you can use the apply() method of the Series object to apply my_func() to each element of foo.\n",
        "\n",
        "In this case, you’d say foo.apply(), passing in the function callabale, my_func to get back a new Series of values."
      ]
    },
    {
      "cell_type": "code",
      "metadata": {
        "colab": {
          "base_uri": "https://localhost:8080/"
        },
        "id": "WeWMFKn2l4oZ",
        "outputId": "fc50f19d-faa3-46fe-f7ec-4a99b0431164"
      },
      "source": [
        "foo.apply(my_func)\n",
        "## 0     6\n",
        "## 1    12\n",
        "## 2     1\n",
        "## 3     1\n",
        "## 4     7\n",
        "## 5    10\n",
        "## dtype: int64"
      ],
      "execution_count": 3,
      "outputs": [
        {
          "output_type": "execute_result",
          "data": {
            "text/plain": [
              "0     6\n",
              "1    12\n",
              "2     1\n",
              "3     1\n",
              "4     7\n",
              "5    10\n",
              "dtype: int64"
            ]
          },
          "metadata": {
            "tags": []
          },
          "execution_count": 3
        }
      ]
    },
    {
      "cell_type": "markdown",
      "metadata": {
        "id": "91ZObxxBl7gU"
      },
      "source": [
        "We could even generalized my_func, giving it some parameters, a and b like this"
      ]
    },
    {
      "cell_type": "code",
      "metadata": {
        "id": "bMFl2rPKm_97"
      },
      "source": [
        "def my_func(x, a=1, b=3):\n",
        "    return x - a if x % 2 == 0 else x + b"
      ],
      "execution_count": 4,
      "outputs": []
    },
    {
      "cell_type": "markdown",
      "metadata": {
        "id": "7PxRntL-l7Xz"
      },
      "source": [
        "And this time, we can call foo.apply(my_func) and pass in trailing parameters for a and b."
      ]
    },
    {
      "cell_type": "code",
      "metadata": {
        "colab": {
          "base_uri": "https://localhost:8080/"
        },
        "id": "YBnuy38anKk1",
        "outputId": "9bcfeaef-5f51-45cf-b3db-8c8f448c01b6"
      },
      "source": [
        "foo.apply(my_func, a=2, b=4)\n",
        "## 0     7\n",
        "## 1    13\n",
        "## 2     0\n",
        "## 3     0\n",
        "## 4     6\n",
        "## 5    11\n",
        "## dtype: int64"
      ],
      "execution_count": 5,
      "outputs": [
        {
          "output_type": "execute_result",
          "data": {
            "text/plain": [
              "0     7\n",
              "1    13\n",
              "2     0\n",
              "3     0\n",
              "4     6\n",
              "5    11\n",
              "dtype: int64"
            ]
          },
          "metadata": {
            "tags": []
          },
          "execution_count": 5
        }
      ]
    },
    {
      "cell_type": "markdown",
      "metadata": {
        "id": "e39MWmYal76Q"
      },
      "source": [
        "the apply() method is great, because it’s easy to use and it generalizes well, but it’s slow because it’s not vectorized. If we apply my_func to a Series with 10M values, it takes about 3 seconds to execute on Google Colab."
      ]
    },
    {
      "cell_type": "code",
      "metadata": {
        "id": "nTk3TyDqnWes"
      },
      "source": [
        "# Create a Series of 10M values\n",
        "bigfoo = pd.Series(np.random.randint(low=0, high=9, size=10**7))"
      ],
      "execution_count": 7,
      "outputs": []
    },
    {
      "cell_type": "code",
      "metadata": {
        "colab": {
          "base_uri": "https://localhost:8080/"
        },
        "id": "wPfN0zADnh6p",
        "outputId": "d9e5d774-011e-493f-e9ef-de150e975b73"
      },
      "source": [
        "# apply() based method\n",
        "%%timeit\n",
        "y1 = bigfoo.apply(my_func) # 3 seconds"
      ],
      "execution_count": 8,
      "outputs": [
        {
          "output_type": "stream",
          "text": [
            "1 loop, best of 5: 3.63 s per loop\n"
          ],
          "name": "stdout"
        }
      ]
    },
    {
      "cell_type": "markdown",
      "metadata": {
        "id": "bVSYkknsl7Po"
      },
      "source": [
        "By contrast, here’s a NumPy based solution that achieves the same thing in about 100 milliseconds, roughly 30 times faster."
      ]
    },
    {
      "cell_type": "code",
      "metadata": {
        "colab": {
          "base_uri": "https://localhost:8080/"
        },
        "id": "eF-YWaWqn8iL",
        "outputId": "c3afe149-33aa-43f3-a839-bccaccf672eb"
      },
      "source": [
        "# vectorized NumPy method\n",
        "%%timeit\n",
        "a = bigfoo.to_numpy()\n",
        "y2 = pd.Series(np.where(a % 2 == 0, a - 1, a + 3))  # 100 milliseconds"
      ],
      "execution_count": 9,
      "outputs": [
        {
          "output_type": "stream",
          "text": [
            "1 loop, best of 5: 254 ms per loop\n"
          ],
          "name": "stdout"
        }
      ]
    },
    {
      "cell_type": "markdown",
      "metadata": {
        "id": "gX6KBxkPl7Hm"
      },
      "source": [
        "With that said, the apply() method is designed for convenience and code clarity, not speed. Keep in mind that sometimes my_func might actually be a function imported from another package, or maybe it makes http requests to some API, and so refactoring it into a vectorized solution just isn’t feasible."
      ]
    }
  ]
}