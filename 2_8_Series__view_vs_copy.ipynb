{
  "nbformat": 4,
  "nbformat_minor": 0,
  "metadata": {
    "colab": {
      "name": "2.8 Series__view vs copy.ipynb",
      "provenance": [],
      "collapsed_sections": [],
      "authorship_tag": "ABX9TyOhqduQ8rlahfZG5hwwl/BR",
      "include_colab_link": true
    },
    "kernelspec": {
      "name": "python3",
      "display_name": "Python 3"
    },
    "language_info": {
      "name": "python"
    }
  },
  "cells": [
    {
      "cell_type": "markdown",
      "metadata": {
        "id": "view-in-github",
        "colab_type": "text"
      },
      "source": [
        "<a href=\"https://colab.research.google.com/github/edelord/DS-practice/blob/main/2_8_Series__view_vs_copy.ipynb\" target=\"_parent\"><img src=\"https://colab.research.google.com/assets/colab-badge.svg\" alt=\"Open In Colab\"/></a>"
      ]
    },
    {
      "cell_type": "code",
      "metadata": {
        "id": "yMZRYqA6pNAE"
      },
      "source": [
        "https://www.gormanalysis.com/blog/python-pandas-for-your-grandpa-2-8-series-view-vs-copy/"
      ],
      "execution_count": null,
      "outputs": []
    },
    {
      "cell_type": "markdown",
      "metadata": {
        "id": "dukB0HthpTj1"
      },
      "source": [
        "In this section, we’ll see when Series operations create a copy and when they create a view. Suppose you have this series, x."
      ]
    },
    {
      "cell_type": "code",
      "metadata": {
        "colab": {
          "base_uri": "https://localhost:8080/"
        },
        "id": "MdiUkliPpX5y",
        "outputId": "15aa2fed-1991-4442-c034-eef258da8a1c"
      },
      "source": [
        "import numpy as np\n",
        "import pandas as pd\n",
        "\n",
        "x = pd.Series(\n",
        "    data=[2, 3, 5, 7, 11],\n",
        "    index=[2, 11, 12, 30, 30]\n",
        ")\n",
        "print(x)\n",
        "## 2      2\n",
        "## 11     3\n",
        "## 12     5\n",
        "## 30     7\n",
        "## 30    11\n",
        "## dtype: int64"
      ],
      "execution_count": 1,
      "outputs": [
        {
          "output_type": "stream",
          "text": [
            "2      2\n",
            "11     3\n",
            "12     5\n",
            "30     7\n",
            "30    11\n",
            "dtype: int64\n"
          ],
          "name": "stdout"
        }
      ]
    },
    {
      "cell_type": "markdown",
      "metadata": {
        "id": "5N06XQFZpjMu"
      },
      "source": [
        "and then you set a new variable y equal to x."
      ]
    },
    {
      "cell_type": "code",
      "metadata": {
        "id": "Cfz75aFNplV-"
      },
      "source": [
        "y = x"
      ],
      "execution_count": 3,
      "outputs": []
    },
    {
      "cell_type": "markdown",
      "metadata": {
        "id": "S8BrqDUYpoGB"
      },
      "source": [
        "Then you modify the first element of y to be, 99. Obviously this modifies y, but you might be surprised to see it also modifies x."
      ]
    },
    {
      "cell_type": "code",
      "metadata": {
        "colab": {
          "base_uri": "https://localhost:8080/"
        },
        "id": "2V4q82j0pws1",
        "outputId": "003fd6d5-eb89-43f2-ce9a-ec9449729552"
      },
      "source": [
        "y.iloc[0] = 99\n",
        "\n",
        "print(x)"
      ],
      "execution_count": 4,
      "outputs": [
        {
          "output_type": "stream",
          "text": [
            "\n",
            " 2     99\n",
            "11     3\n",
            "12     5\n",
            "30     7\n",
            "30    11\n",
            "dtype: int64\n"
          ],
          "name": "stdout"
        }
      ]
    },
    {
      "cell_type": "markdown",
      "metadata": {
        "id": "vaA6Pw5CqFsB"
      },
      "source": [
        "The reason this happens is because when we set y equal to x, Pandas didn’t make a copy of x, it merely made y a reference to x. In other words, the variable y points to the same block of data stored by x. This is known as “assignment by reference” and some people would call y a “view” of x.\n",
        "\n",
        "To avoid this, we can explicitly set y equal to a copy of x using something like"
      ]
    },
    {
      "cell_type": "code",
      "metadata": {
        "id": "hYnhurmjqGkk"
      },
      "source": [
        "y = x.copy()"
      ],
      "execution_count": 5,
      "outputs": []
    },
    {
      "cell_type": "markdown",
      "metadata": {
        "id": "CMMCXIGuqRxz"
      },
      "source": [
        "Now if we change y, x is unchanged because y points to a completely separate block of data."
      ]
    },
    {
      "cell_type": "code",
      "metadata": {
        "colab": {
          "base_uri": "https://localhost:8080/"
        },
        "id": "EeWMy1ikqS71",
        "outputId": "1f566d59-d80e-42fa-d24a-5f99c635a016"
      },
      "source": [
        "y.iloc[0] = 123\n",
        "print(x)\n",
        "## 2     99\n",
        "## 11     3\n",
        "## 12     5\n",
        "## 30     7\n",
        "## 30    11\n",
        "## dtype: int64"
      ],
      "execution_count": 6,
      "outputs": [
        {
          "output_type": "stream",
          "text": [
            "2     99\n",
            "11     3\n",
            "12     5\n",
            "30     7\n",
            "30    11\n",
            "dtype: int64\n"
          ],
          "name": "stdout"
        }
      ]
    },
    {
      "cell_type": "markdown",
      "metadata": {
        "id": "GMgiHXy8qhiA"
      },
      "source": [
        "One of the reasons this is so confusing is because assignment by reference only happens under some circumstances which aren’t clearly documented and aren’t always obvious. For example, if we have the Series,"
      ]
    },
    {
      "cell_type": "code",
      "metadata": {
        "colab": {
          "base_uri": "https://localhost:8080/"
        },
        "id": "ZcZI_KHwqizH",
        "outputId": "44b28814-b0d7-4b06-f0b1-0e603df1501c"
      },
      "source": [
        "foo = pd.Series(['a', 'b', 'c', 'd'], dtype='string')\n",
        "print(foo)\n",
        "## 0    a\n",
        "## 1    b\n",
        "## 2    c\n",
        "## 3    d\n",
        "## dtype: string"
      ],
      "execution_count": 7,
      "outputs": [
        {
          "output_type": "stream",
          "text": [
            "0    a\n",
            "1    b\n",
            "2    c\n",
            "3    d\n",
            "dtype: string\n"
          ],
          "name": "stdout"
        }
      ]
    },
    {
      "cell_type": "markdown",
      "metadata": {
        "id": "sTNhvfTtqsRZ"
      },
      "source": [
        "and we set bar = foo.loc[foo <= 'b']"
      ]
    },
    {
      "cell_type": "code",
      "metadata": {
        "colab": {
          "base_uri": "https://localhost:8080/"
        },
        "id": "qKClxVdQqtS0",
        "outputId": "0829cf06-f324-4dcf-ee68-4cc9fff28094"
      },
      "source": [
        "bar = foo.loc[foo <= 'b']\n",
        "print(bar)\n",
        "## 0    a\n",
        "## 1    b\n",
        "## dtype: string"
      ],
      "execution_count": 10,
      "outputs": [
        {
          "output_type": "stream",
          "text": [
            "0    a\n",
            "1    b\n",
            "dtype: string\n"
          ],
          "name": "stdout"
        }
      ]
    },
    {
      "cell_type": "markdown",
      "metadata": {
        "id": "Ac0Ck3surATU"
      },
      "source": [
        "Then we modify bar, setting the 1st element equal to ‘z’."
      ]
    },
    {
      "cell_type": "code",
      "metadata": {
        "colab": {
          "base_uri": "https://localhost:8080/"
        },
        "id": "6XXcZ_HXrBPl",
        "outputId": "f448d7ec-053e-4af5-f684-41a825da0218"
      },
      "source": [
        "bar.iloc[0] = 'z'\n",
        "print(bar)\n",
        "## 0    z\n",
        "## 1    b\n",
        "## dtype: string"
      ],
      "execution_count": 11,
      "outputs": [
        {
          "output_type": "stream",
          "text": [
            "0    z\n",
            "1    b\n",
            "dtype: string\n"
          ],
          "name": "stdout"
        }
      ]
    },
    {
      "cell_type": "markdown",
      "metadata": {
        "id": "gNqfw8VYrEtV"
      },
      "source": [
        "foo doesn’t get changed which means under the hood, Pandas copied the data in foo to create bar."
      ]
    },
    {
      "cell_type": "code",
      "metadata": {
        "colab": {
          "base_uri": "https://localhost:8080/"
        },
        "id": "pERzaxq1rJqt",
        "outputId": "43fe96c5-4d0e-4102-d00c-d41077a6e955"
      },
      "source": [
        "print(foo)\n",
        "## 0    a\n",
        "## 1    b\n",
        "## 2    c\n",
        "## 3    d\n",
        "## dtype: string"
      ],
      "execution_count": 12,
      "outputs": [
        {
          "output_type": "stream",
          "text": [
            "0    a\n",
            "1    b\n",
            "2    c\n",
            "3    d\n",
            "dtype: string\n"
          ],
          "name": "stdout"
        }
      ]
    },
    {
      "cell_type": "markdown",
      "metadata": {
        "id": "hHL7ukytrVOc"
      },
      "source": [
        "Now, if we set baz = foo.iloc[:2], which is the same exact subset we used when we built bar, except here we use slicing, and then, just like with bar, we set the first element of baz equal to ‘z’."
      ]
    },
    {
      "cell_type": "code",
      "metadata": {
        "colab": {
          "base_uri": "https://localhost:8080/"
        },
        "id": "WdCTmtjjrWIj",
        "outputId": "997b0ea1-47da-45a4-b6f9-4f9e877f8b79"
      },
      "source": [
        "baz = foo.iloc[:2]\n",
        "print(baz)\n",
        "## 0    a\n",
        "## 1    b\n",
        "## dtype: string\n",
        "\n",
        "baz.iloc[0] = 'z'\n"
      ],
      "execution_count": 14,
      "outputs": [
        {
          "output_type": "stream",
          "text": [
            "0    a\n",
            "1    b\n",
            "dtype: string\n"
          ],
          "name": "stdout"
        }
      ]
    },
    {
      "cell_type": "markdown",
      "metadata": {
        "id": "yy-AKKzFrzt4"
      },
      "source": [
        "This time, in addition to baz changing, foo also gets changed."
      ]
    },
    {
      "cell_type": "code",
      "metadata": {
        "colab": {
          "base_uri": "https://localhost:8080/"
        },
        "id": "XTyZO61yr0oS",
        "outputId": "dfb56e30-f318-46ca-b266-7be5c072005d"
      },
      "source": [
        "print(foo)\n",
        "## 0    z\n",
        "## 1    b\n",
        "## 2    c\n",
        "## 3    d\n",
        "## dtype: string"
      ],
      "execution_count": 15,
      "outputs": [
        {
          "output_type": "stream",
          "text": [
            "0    z\n",
            "1    b\n",
            "2    c\n",
            "3    d\n",
            "dtype: string\n"
          ],
          "name": "stdout"
        }
      ]
    },
    {
      "cell_type": "markdown",
      "metadata": {
        "id": "wXI-p1eOsC7n"
      },
      "source": [
        "As far as I can tell, when it comes to Series, if you assign A equal to B.loc[something], Pandas returns a copy, otherwise it returns a view, but this is undocumented and the rules change when we start using DataFrames. So I don’t recommend memorizing any hard and fast rules. Instead, you kind of just have to play around with things. Use .copy() to be safe, and just be aware that this quirky behavior exists. I know it sounds weird, but this is the kind of thing you get a feel for over time.\n",
        "\n",
        "Another situation where it’s important to understand if Pandas is copying data is when it comes to pretty much any Pandas function that modifies a Series. For example, every Series has a method called replace() which basically lets you replace values with other values. So if you have a Series of strings like this one called zoo"
      ]
    },
    {
      "cell_type": "code",
      "metadata": {
        "colab": {
          "base_uri": "https://localhost:8080/"
        },
        "id": "LFDGOFuEsTS6",
        "outputId": "e5ac82df-59f1-4876-85e0-0c3a60e1a690"
      },
      "source": [
        "zoo = pd.Series(['tiger', 'lion', 'zebra', 'lion'])\n",
        "print(zoo)\n",
        "## 0    tiger\n",
        "## 1     lion\n",
        "## 2    zebra\n",
        "## 3     lion\n",
        "## dtype: object"
      ],
      "execution_count": 16,
      "outputs": [
        {
          "output_type": "stream",
          "text": [
            "0    tiger\n",
            "1     lion\n",
            "2    zebra\n",
            "3     lion\n",
            "dtype: object\n"
          ],
          "name": "stdout"
        }
      ]
    },
    {
      "cell_type": "markdown",
      "metadata": {
        "id": "TL_z8WKtsboR"
      },
      "source": [
        "If you want to replace every instance of ‘lion’ with ‘hamster’ and every instance of ‘tiger’ with ‘bunny’, you could do"
      ]
    },
    {
      "cell_type": "code",
      "metadata": {
        "colab": {
          "base_uri": "https://localhost:8080/"
        },
        "id": "s9cpTpMhscvx",
        "outputId": "69a9883d-d0b3-47f1-f0cc-db745b568ff7"
      },
      "source": [
        "zoo.replace({'lion':'hamster', 'tiger':'bunny'})\n",
        "## 0      bunny\n",
        "## 1    hamster\n",
        "## 2      zebra\n",
        "## 3    hamster\n",
        "## dtype: object"
      ],
      "execution_count": 20,
      "outputs": [
        {
          "output_type": "execute_result",
          "data": {
            "text/plain": [
              "0      bunny\n",
              "1    hamster\n",
              "2      zebra\n",
              "3    hamster\n",
              "dtype: object"
            ]
          },
          "metadata": {
            "tags": []
          },
          "execution_count": 20
        }
      ]
    },
    {
      "cell_type": "code",
      "metadata": {
        "colab": {
          "base_uri": "https://localhost:8080/"
        },
        "id": "vx8p2BRts3y7",
        "outputId": "a58be761-594a-4b80-88f0-cac6cc119e0b"
      },
      "source": [
        "print(zoo)    # which shows the original series is not changed"
      ],
      "execution_count": 19,
      "outputs": [
        {
          "output_type": "stream",
          "text": [
            "0    tiger\n",
            "1     lion\n",
            "2    zebra\n",
            "3     lion\n",
            "dtype: object\n"
          ],
          "name": "stdout"
        }
      ]
    },
    {
      "cell_type": "markdown",
      "metadata": {
        "id": "7ARBQpWdtAfy"
      },
      "source": [
        "The result of this method is a copy of zoo with the replaced values. So we’re not actually modifying zoo, we’re just building a brand new Series from it.\n",
        "\n",
        "If you wanted to update zoo with these replacements, you could just overwrite the variable like zoo = zoo.replace({'lion':'hamster', 'tiger':'bunny'}) which would work, but it’d be highly inefficient since internally Pandas would create a whole new Series, reassign zoo to it, and then delete the old Series. To circumvent this, lots of Pandas functions have a parameter called ‘inplace’ which, when True, tells Pandas to modify the data you’re operating on rather than return a modified copy of the data.\n",
        "\n",
        "So, if we wanted our replacements to stick, we could call"
      ]
    },
    {
      "cell_type": "code",
      "metadata": {
        "id": "XwomqWjAs3t4"
      },
      "source": [
        "zoo.replace({'lion':'hamster', 'tiger':'bunny'}, inplace=True)\n",
        "print(zoo)\n",
        "## 0      bunny\n",
        "## 1    hamster\n",
        "## 2      zebra\n",
        "## 3    hamster\n",
        "## dtype: object"
      ],
      "execution_count": null,
      "outputs": []
    },
    {
      "cell_type": "markdown",
      "metadata": {
        "id": "f_xX8x89tPGC"
      },
      "source": [
        "and now the data inside zoo actually gets updated with our replacements."
      ]
    }
  ]
}