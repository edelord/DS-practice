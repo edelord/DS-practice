{
  "nbformat": 4,
  "nbformat_minor": 0,
  "metadata": {
    "colab": {
      "name": "2.9 Challenge series - baby names.ipynb",
      "provenance": [],
      "collapsed_sections": [],
      "authorship_tag": "ABX9TyNF2Cw/gl9wumIY4QJ0S6cO",
      "include_colab_link": true
    },
    "kernelspec": {
      "name": "python3",
      "display_name": "Python 3"
    },
    "language_info": {
      "name": "python"
    }
  },
  "cells": [
    {
      "cell_type": "markdown",
      "metadata": {
        "id": "view-in-github",
        "colab_type": "text"
      },
      "source": [
        "<a href=\"https://colab.research.google.com/github/edelord/DS-practice/blob/main/2_9_Challenge_series_baby_names.ipynb\" target=\"_parent\"><img src=\"https://colab.research.google.com/assets/colab-badge.svg\" alt=\"Open In Colab\"/></a>"
      ]
    },
    {
      "cell_type": "markdown",
      "metadata": {
        "id": "uLdYcgOUuFQp"
      },
      "source": [
        "https://www.gormanalysis.com/blog/python-pandas-for-your-grandpa-2-9-challenge-baby-names/"
      ]
    },
    {
      "cell_type": "markdown",
      "metadata": {
        "id": "pBsFEQ8xuE5h"
      },
      "source": [
        "You and your spouse have decided to let the internet name your next child. You’ve asked the great people of the web to submit their favorite names and you’ve compiled their submissions into a Series called babynames. Determine how many people voted for the following names: ‘Chad’, ‘Ruger’, and ‘Zeltron’."
      ]
    },
    {
      "cell_type": "code",
      "metadata": {
        "id": "5eEIZ1sRtpDY"
      },
      "source": [
        "import numpy as np\n",
        "import pandas as pd\n",
        "\n",
        "babynames = pd.Series(['Jathonathon', 'Zeltron', 'Ruger', 'Phreddy', 'Ruger', 'Chad', 'Chad',\n",
        "                       'Ruger', 'Ryan', 'Ruger', 'Chad', 'Ryan', 'Phreddy', 'Phreddy', 'Phreddy',\n",
        "                       'Mister', 'Zeltron', 'Ryan', 'Ruger', 'Ruger', 'Jathonathon',\n",
        "                       'Jathonathon', 'Ruger', 'Chad', 'Zeltron'], dtype='string')"
      ],
      "execution_count": 1,
      "outputs": []
    },
    {
      "cell_type": "code",
      "metadata": {
        "colab": {
          "base_uri": "https://localhost:8080/"
        },
        "id": "dtt7g_DVuYCm",
        "outputId": "ed3d7a28-aabc-444a-9f6c-bc15ead6d555"
      },
      "source": [
        "seriesChad = babynames.loc[babynames == 'Chad']\n",
        "seriesRuger = babynames.loc[babynames == 'Ruger']\n",
        "seriesZeltron = babynames.loc[babynames == 'Zeltron']\n",
        "\n",
        "print(\"Chad: \", seriesChad.size)\n",
        "print(\"Ruger: \", seriesRuger.size)\n",
        "print(\"Zeltron: \", seriesZeltron.size)"
      ],
      "execution_count": 22,
      "outputs": [
        {
          "output_type": "stream",
          "text": [
            "Chad:  4\n",
            "Ruger:  7\n",
            "Zeltron:  3\n"
          ],
          "name": "stdout"
        }
      ]
    },
    {
      "cell_type": "code",
      "metadata": {
        "colab": {
          "base_uri": "https://localhost:8080/"
        },
        "id": "Fs93rnlOx6L_",
        "outputId": "b865aad8-8bcc-4ae2-a95e-a1cc6ad4dd17"
      },
      "source": [
        "# Solution\n",
        "babynames.value_counts().loc[['Chad', 'Ruger', 'Zeltron']]\n",
        "## Chad       4\n",
        "## Ruger      7\n",
        "## Zeltron    3\n",
        "## dtype: Int64"
      ],
      "execution_count": 23,
      "outputs": [
        {
          "output_type": "execute_result",
          "data": {
            "text/plain": [
              "Chad       4\n",
              "Ruger      7\n",
              "Zeltron    3\n",
              "dtype: Int64"
            ]
          },
          "metadata": {
            "tags": []
          },
          "execution_count": 23
        }
      ]
    }
  ]
}