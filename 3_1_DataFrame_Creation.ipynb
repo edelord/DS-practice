{
  "nbformat": 4,
  "nbformat_minor": 0,
  "metadata": {
    "colab": {
      "name": "3.1 DataFrame Creation.ipynb",
      "provenance": [],
      "collapsed_sections": [],
      "authorship_tag": "ABX9TyMbyX0DRaWzFA8j4lAda3wT",
      "include_colab_link": true
    },
    "kernelspec": {
      "name": "python3",
      "display_name": "Python 3"
    },
    "language_info": {
      "name": "python"
    }
  },
  "cells": [
    {
      "cell_type": "markdown",
      "metadata": {
        "id": "view-in-github",
        "colab_type": "text"
      },
      "source": [
        "<a href=\"https://colab.research.google.com/github/edelord/DS-practice/blob/main/3_1_DataFrame_Creation.ipynb\" target=\"_parent\"><img src=\"https://colab.research.google.com/assets/colab-badge.svg\" alt=\"Open In Colab\"/></a>"
      ]
    },
    {
      "cell_type": "markdown",
      "metadata": {
        "id": "QHtZdPoAQNYm"
      },
      "source": [
        "https://www.gormanalysis.com/blog/python-pandas-for-your-grandpa-3-1-dataframe-creation/"
      ]
    },
    {
      "cell_type": "markdown",
      "metadata": {
        "id": "m2u1Gk2FQNHX"
      },
      "source": [
        "In this section, we’ll look at different ways to create a DataFrame from scratch.\n",
        "\n",
        "Perhaps the easiest way to make a DataFrame from scratch is to use the DataFrame() constructor, passing in a dictionary of ‘column name:column-values’ pairs. For example, here we build a DataFrame with two columns: ‘name’ and ‘age’, and for each column we pass in a corresponding three-element list of values."
      ]
    },
    {
      "cell_type": "code",
      "metadata": {
        "colab": {
          "base_uri": "https://localhost:8080/"
        },
        "id": "OJsWcMDnQKzn",
        "outputId": "e2ccb667-9af2-46f6-d198-0753a734b8dc"
      },
      "source": [
        "import numpy as np\n",
        "import pandas as pd\n",
        "\n",
        "df = pd.DataFrame({'name': ['Bob', 'Sue', 'Mary'], 'age': [39, 57, 28]})\n",
        "print(df)\n",
        "##    name  age\n",
        "## 0   Bob   39\n",
        "## 1   Sue   57\n",
        "## 2  Mary   28"
      ],
      "execution_count": 1,
      "outputs": [
        {
          "output_type": "stream",
          "text": [
            "   name  age\n",
            "0   Bob   39\n",
            "1   Sue   57\n",
            "2  Mary   28\n"
          ],
          "name": "stdout"
        }
      ]
    },
    {
      "cell_type": "markdown",
      "metadata": {
        "id": "jopPx8vFQ_JJ"
      },
      "source": [
        "Let’s pause for a second to talk about what exactly a DataFrame is. In short, a DataFrame is just a table of data with a row index. In this case, the row index is that unlabeled column of values on the far left. To be a little more pedantic, a DataFrame is a collection of identically-sized Series, all of which share the same index. Additionally, DataFrames have a column index for selecting and subsetting columns. We’ll touch on that more later.\n",
        "\n",
        "Another way you can build a DataFrame is from a list of lists. In this case each inner list represents a row, so you could build the same DataFrame as before using"
      ]
    },
    {
      "cell_type": "code",
      "metadata": {
        "colab": {
          "base_uri": "https://localhost:8080/"
        },
        "id": "WmxlXAmWRA_0",
        "outputId": "e0692f5c-2069-445e-8993-a304329eb4a8"
      },
      "source": [
        "df = pd.DataFrame([\n",
        "    ['Bob', 39],\n",
        "    ['Sue', 57],\n",
        "    ['Mary', 28]\n",
        "], columns=['name', 'age'])\n",
        "print(df)\n",
        "##    name  age\n",
        "## 0   Bob   39\n",
        "## 1   Sue   57\n",
        "## 2  Mary   28"
      ],
      "execution_count": 2,
      "outputs": [
        {
          "output_type": "stream",
          "text": [
            "   name  age\n",
            "0   Bob   39\n",
            "1   Sue   57\n",
            "2  Mary   28\n"
          ],
          "name": "stdout"
        }
      ]
    },
    {
      "cell_type": "markdown",
      "metadata": {
        "id": "AOrTGDFxRfK6"
      },
      "source": [
        "Before we move on, let’s touch on a few important tools for inspecting DataFrames. df.info() is a great tool that basically reports everything you’d want to know about a DataFrame including its size, index type, and column types"
      ]
    },
    {
      "cell_type": "code",
      "metadata": {
        "colab": {
          "base_uri": "https://localhost:8080/"
        },
        "id": "aqCY1HJARgec",
        "outputId": "f3c55d57-4060-4e8f-ab17-3dae67ff2dcb"
      },
      "source": [
        "df.info()\n",
        "## <class 'pandas.core.frame.DataFrame'>\n",
        "## RangeIndex: 3 entries, 0 to 2\n",
        "## Data columns (total 2 columns):\n",
        "##  #   Column  Non-Null Count  Dtype \n",
        "## ---  ------  --------------  ----- \n",
        "##  0   name    3 non-null      object\n",
        "##  1   age     3 non-null      int64 \n",
        "## dtypes: int64(1), object(1)\n",
        "## memory usage: 176.0+ bytes"
      ],
      "execution_count": 4,
      "outputs": [
        {
          "output_type": "stream",
          "text": [
            "<class 'pandas.core.frame.DataFrame'>\n",
            "RangeIndex: 3 entries, 0 to 2\n",
            "Data columns (total 2 columns):\n",
            " #   Column  Non-Null Count  Dtype \n",
            "---  ------  --------------  ----- \n",
            " 0   name    3 non-null      object\n",
            " 1   age     3 non-null      int64 \n",
            "dtypes: int64(1), object(1)\n",
            "memory usage: 176.0+ bytes\n"
          ],
          "name": "stdout"
        }
      ]
    },
    {
      "cell_type": "markdown",
      "metadata": {
        "id": "m4syp7MFRr6a"
      },
      "source": [
        "df.shape tells you how many rows and columns df has, just like NumPy does with a 2d array."
      ]
    },
    {
      "cell_type": "code",
      "metadata": {
        "colab": {
          "base_uri": "https://localhost:8080/"
        },
        "id": "wMTBEVchRrJK",
        "outputId": "a4c34198-274d-42a8-c125-1ff2f7686320"
      },
      "source": [
        "df.shape\n",
        "## (3, 2)"
      ],
      "execution_count": 5,
      "outputs": [
        {
          "output_type": "execute_result",
          "data": {
            "text/plain": [
              "(3, 2)"
            ]
          },
          "metadata": {
            "tags": []
          },
          "execution_count": 5
        }
      ]
    },
    {
      "cell_type": "markdown",
      "metadata": {
        "id": "sGdSuxgzRqRE"
      },
      "source": [
        "df.axes returns the row and column indexes."
      ]
    },
    {
      "cell_type": "code",
      "metadata": {
        "id": "DvN5jVwyRpP9"
      },
      "source": [
        "df.axes\n",
        "## [RangeIndex(start=0, stop=3, step=1), Index(['name', 'age'], dtype='object')]"
      ],
      "execution_count": null,
      "outputs": []
    },
    {
      "cell_type": "markdown",
      "metadata": {
        "id": "H90ldwQPRozv"
      },
      "source": [
        "and df.size tells you the total number of elements in the DataFrame."
      ]
    },
    {
      "cell_type": "code",
      "metadata": {
        "colab": {
          "base_uri": "https://localhost:8080/"
        },
        "id": "Mmy7Z52YSRRJ",
        "outputId": "5ed27674-fcc5-4e29-bfec-3acd124bd5f2"
      },
      "source": [
        "df.size\n",
        "## 6"
      ],
      "execution_count": 6,
      "outputs": [
        {
          "output_type": "execute_result",
          "data": {
            "text/plain": [
              "6"
            ]
          },
          "metadata": {
            "tags": []
          },
          "execution_count": 6
        }
      ]
    },
    {
      "cell_type": "markdown",
      "metadata": {
        "id": "QKqkc__XSWQd"
      },
      "source": [
        "And because this question comes up so frequently, I’ll deal with it here. To change the column names inside a DataFrame, you can use the .rename() method, and pass in a dictionary of ‘old-name:new-name’ pairs. And you probably want to set inplace=True, otherwise, instead of actually modifying the DataFrame you’re working with, you’ll get back a new, modified copy of it.\n",
        "\n",
        "So in this case, if we want to change the column-name ‘age’ to ‘years’, we would do"
      ]
    },
    {
      "cell_type": "code",
      "metadata": {
        "colab": {
          "base_uri": "https://localhost:8080/"
        },
        "id": "qYMljKTdSV4A",
        "outputId": "7a358d04-7248-42c0-dcc8-cd1bc95ead9b"
      },
      "source": [
        "df.rename(columns={'age':'years'}, inplace=True)\n",
        "print(df)\n",
        "##    name  years\n",
        "## 0   Bob     39\n",
        "## 1   Sue     57\n",
        "## 2  Mary     28"
      ],
      "execution_count": 7,
      "outputs": [
        {
          "output_type": "stream",
          "text": [
            "   name  years\n",
            "0   Bob     39\n",
            "1   Sue     57\n",
            "2  Mary     28\n"
          ],
          "name": "stdout"
        }
      ]
    }
  ]
}