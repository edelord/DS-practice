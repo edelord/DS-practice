{
  "nbformat": 4,
  "nbformat_minor": 0,
  "metadata": {
    "colab": {
      "name": "3.3 DataFrame  basic indexing.ipynb",
      "provenance": [],
      "collapsed_sections": [],
      "authorship_tag": "ABX9TyPs9h6TscYKORbKU8Do/kKj",
      "include_colab_link": true
    },
    "kernelspec": {
      "name": "python3",
      "display_name": "Python 3"
    },
    "language_info": {
      "name": "python"
    }
  },
  "cells": [
    {
      "cell_type": "markdown",
      "metadata": {
        "id": "view-in-github",
        "colab_type": "text"
      },
      "source": [
        "<a href=\"https://colab.research.google.com/github/edelord/DS-practice/blob/main/3_3_DataFrame_basic_indexing.ipynb\" target=\"_parent\"><img src=\"https://colab.research.google.com/assets/colab-badge.svg\" alt=\"Open In Colab\"/></a>"
      ]
    },
    {
      "cell_type": "markdown",
      "metadata": {
        "id": "GQlN-jhGfxfu"
      },
      "source": [
        "https://www.gormanalysis.com/blog/python-pandas-for-your-grandpa-3-3-dataframe-basic-indexing/"
      ]
    },
    {
      "cell_type": "markdown",
      "metadata": {
        "id": "ZRfWp09ufxOh"
      },
      "source": [
        "In this section, we’ll look at some basic indexing operations for subsetting and modifying DataFrames. This is really similar to indexing a Series, so if you didn’t see my lecture on indexing a Series, you might wanna go back and watch that one.\n",
        "\n",
        "To start, let’s build a DataFrame called df with six rows and three columns."
      ]
    },
    {
      "cell_type": "code",
      "metadata": {
        "colab": {
          "base_uri": "https://localhost:8080/"
        },
        "id": "jwdxoNGvfo2Z",
        "outputId": "ce78d8e4-6b97-443d-9a93-2c2ef1ce315c"
      },
      "source": [
        "import numpy as np\n",
        "import pandas as pd\n",
        "\n",
        "df = pd.DataFrame({\n",
        "    'shrimp': [10, 20, 30, 40, 50, 60],\n",
        "    'crab': [5, 10, 15, 20, 25, 30],\n",
        "    'red fish': [2, 3, 5, 7, 11, 13]\n",
        "})\n",
        "print(df)\n",
        "##    shrimp  crab  red fish\n",
        "## 0      10     5         2\n",
        "## 1      20    10         3\n",
        "## 2      30    15         5\n",
        "## 3      40    20         7\n",
        "## 4      50    25        11\n",
        "## 5      60    30        13"
      ],
      "execution_count": 2,
      "outputs": [
        {
          "output_type": "stream",
          "text": [
            "   shrimp  crab  red fish\n",
            "0      10     5         2\n",
            "1      20    10         3\n",
            "2      30    15         5\n",
            "3      40    20         7\n",
            "4      50    25        11\n",
            "5      60    30        13\n"
          ],
          "name": "stdout"
        }
      ]
    },
    {
      "cell_type": "markdown",
      "metadata": {
        "id": "xVVMFNA6gN65"
      },
      "source": [
        "We can access an individual column in its Series form using either square brackets with the column name passed in"
      ]
    },
    {
      "cell_type": "code",
      "metadata": {
        "colab": {
          "base_uri": "https://localhost:8080/"
        },
        "id": "E7eb4O3TgO8u",
        "outputId": "17e1f305-06dd-4817-e5ee-b4a23b7b5653"
      },
      "source": [
        "df['shrimp']\n",
        "## 0    10\n",
        "## 1    20\n",
        "## 2    30\n",
        "## 3    40\n",
        "## 4    50\n",
        "## 5    60\n",
        "## Name: shrimp, dtype: int64"
      ],
      "execution_count": 2,
      "outputs": [
        {
          "output_type": "execute_result",
          "data": {
            "text/plain": [
              "0    10\n",
              "1    20\n",
              "2    30\n",
              "3    40\n",
              "4    50\n",
              "5    60\n",
              "Name: shrimp, dtype: int64"
            ]
          },
          "metadata": {
            "tags": []
          },
          "execution_count": 2
        }
      ]
    },
    {
      "cell_type": "markdown",
      "metadata": {
        "id": "ORzV04bTgZHq"
      },
      "source": [
        "or dot notation like this"
      ]
    },
    {
      "cell_type": "code",
      "metadata": {
        "colab": {
          "base_uri": "https://localhost:8080/"
        },
        "id": "EodB8h1VgaGm",
        "outputId": "ed129a51-8e60-4304-e8b2-e58995bf2c0a"
      },
      "source": [
        "df.shrimp\n",
        "## 0    10\n",
        "## 1    20\n",
        "## 2    30\n",
        "## 3    40\n",
        "## 4    50\n",
        "## 5    60\n",
        "## Name: shrimp, dtype: int64"
      ],
      "execution_count": 3,
      "outputs": [
        {
          "output_type": "execute_result",
          "data": {
            "text/plain": [
              "0    10\n",
              "1    20\n",
              "2    30\n",
              "3    40\n",
              "4    50\n",
              "5    60\n",
              "Name: shrimp, dtype: int64"
            ]
          },
          "metadata": {
            "tags": []
          },
          "execution_count": 3
        }
      ]
    },
    {
      "cell_type": "markdown",
      "metadata": {
        "id": "3zPXlfpTgdk1"
      },
      "source": [
        "Personally I prefer using dot notation, but sometimes column names include a space, in which case you’re pretty much forced to use square bracket notation, unless you rename your columns. For example, you can do df['red fish'] but not df.red fish.\n",
        "If you wanted to access multiple columns, you can do that too, using a list of column names like"
      ]
    },
    {
      "cell_type": "code",
      "metadata": {
        "colab": {
          "base_uri": "https://localhost:8080/",
          "height": 235
        },
        "id": "w04fSzsZgriR",
        "outputId": "5a20c686-e3a7-42b6-aacb-eb37e0b5b46c"
      },
      "source": [
        "df[['shrimp', 'crab']]\n",
        "##    shrimp  crab\n",
        "## 0      10     5\n",
        "## 1      20    10\n",
        "## 2      30    15\n",
        "## 3      40    20\n",
        "## 4      50    25\n",
        "## 5      60    30"
      ],
      "execution_count": 4,
      "outputs": [
        {
          "output_type": "execute_result",
          "data": {
            "text/html": [
              "<div>\n",
              "<style scoped>\n",
              "    .dataframe tbody tr th:only-of-type {\n",
              "        vertical-align: middle;\n",
              "    }\n",
              "\n",
              "    .dataframe tbody tr th {\n",
              "        vertical-align: top;\n",
              "    }\n",
              "\n",
              "    .dataframe thead th {\n",
              "        text-align: right;\n",
              "    }\n",
              "</style>\n",
              "<table border=\"1\" class=\"dataframe\">\n",
              "  <thead>\n",
              "    <tr style=\"text-align: right;\">\n",
              "      <th></th>\n",
              "      <th>shrimp</th>\n",
              "      <th>crab</th>\n",
              "    </tr>\n",
              "  </thead>\n",
              "  <tbody>\n",
              "    <tr>\n",
              "      <th>0</th>\n",
              "      <td>10</td>\n",
              "      <td>5</td>\n",
              "    </tr>\n",
              "    <tr>\n",
              "      <th>1</th>\n",
              "      <td>20</td>\n",
              "      <td>10</td>\n",
              "    </tr>\n",
              "    <tr>\n",
              "      <th>2</th>\n",
              "      <td>30</td>\n",
              "      <td>15</td>\n",
              "    </tr>\n",
              "    <tr>\n",
              "      <th>3</th>\n",
              "      <td>40</td>\n",
              "      <td>20</td>\n",
              "    </tr>\n",
              "    <tr>\n",
              "      <th>4</th>\n",
              "      <td>50</td>\n",
              "      <td>25</td>\n",
              "    </tr>\n",
              "    <tr>\n",
              "      <th>5</th>\n",
              "      <td>60</td>\n",
              "      <td>30</td>\n",
              "    </tr>\n",
              "  </tbody>\n",
              "</table>\n",
              "</div>"
            ],
            "text/plain": [
              "   shrimp  crab\n",
              "0      10     5\n",
              "1      20    10\n",
              "2      30    15\n",
              "3      40    20\n",
              "4      50    25\n",
              "5      60    30"
            ]
          },
          "metadata": {
            "tags": []
          },
          "execution_count": 4
        }
      ]
    },
    {
      "cell_type": "markdown",
      "metadata": {
        "id": "F2TjAxljglXI"
      },
      "source": [
        "in which case you’ll get back a DataFrame object whose data is a copy of the original DataFrame.\n",
        "\n",
        "If you want to pick out certain rows of a DataFrame by their position, you can do so using iloc[] just like you can with Series. For example, if you want to get the 1st, 3rd, and 5th rows of df, you could do"
      ]
    },
    {
      "cell_type": "code",
      "metadata": {
        "colab": {
          "base_uri": "https://localhost:8080/",
          "height": 142
        },
        "id": "AIOn7Dk8jIgQ",
        "outputId": "b74d0e91-2a05-447f-d42f-92571b6c8b77"
      },
      "source": [
        "df.iloc[[0,2,4]]\n",
        "##    shrimp  crab  red fish\n",
        "## 0      10     5         2\n",
        "## 2      30    15         5\n",
        "## 4      50    25        11"
      ],
      "execution_count": 6,
      "outputs": [
        {
          "output_type": "execute_result",
          "data": {
            "text/html": [
              "<div>\n",
              "<style scoped>\n",
              "    .dataframe tbody tr th:only-of-type {\n",
              "        vertical-align: middle;\n",
              "    }\n",
              "\n",
              "    .dataframe tbody tr th {\n",
              "        vertical-align: top;\n",
              "    }\n",
              "\n",
              "    .dataframe thead th {\n",
              "        text-align: right;\n",
              "    }\n",
              "</style>\n",
              "<table border=\"1\" class=\"dataframe\">\n",
              "  <thead>\n",
              "    <tr style=\"text-align: right;\">\n",
              "      <th></th>\n",
              "      <th>shrimp</th>\n",
              "      <th>crab</th>\n",
              "      <th>red fish</th>\n",
              "    </tr>\n",
              "  </thead>\n",
              "  <tbody>\n",
              "    <tr>\n",
              "      <th>0</th>\n",
              "      <td>10</td>\n",
              "      <td>5</td>\n",
              "      <td>2</td>\n",
              "    </tr>\n",
              "    <tr>\n",
              "      <th>2</th>\n",
              "      <td>30</td>\n",
              "      <td>15</td>\n",
              "      <td>5</td>\n",
              "    </tr>\n",
              "    <tr>\n",
              "      <th>4</th>\n",
              "      <td>50</td>\n",
              "      <td>25</td>\n",
              "      <td>11</td>\n",
              "    </tr>\n",
              "  </tbody>\n",
              "</table>\n",
              "</div>"
            ],
            "text/plain": [
              "   shrimp  crab  red fish\n",
              "0      10     5         2\n",
              "2      30    15         5\n",
              "4      50    25        11"
            ]
          },
          "metadata": {
            "tags": []
          },
          "execution_count": 6
        }
      ]
    },
    {
      "cell_type": "markdown",
      "metadata": {
        "id": "jJQMDcvZjZrA"
      },
      "source": [
        "Or you could use slicing, like"
      ]
    },
    {
      "cell_type": "code",
      "metadata": {
        "colab": {
          "base_uri": "https://localhost:8080/",
          "height": 142
        },
        "id": "tZ1pZu4Wjamp",
        "outputId": "ed1537ec-f80e-42c1-f35d-55ac63fd025c"
      },
      "source": [
        "df[0:5:2]\n",
        "##    shrimp  crab  red fish\n",
        "## 0      10     5         2\n",
        "## 2      30    15         5\n",
        "## 4      50    25        11"
      ],
      "execution_count": 7,
      "outputs": [
        {
          "output_type": "execute_result",
          "data": {
            "text/html": [
              "<div>\n",
              "<style scoped>\n",
              "    .dataframe tbody tr th:only-of-type {\n",
              "        vertical-align: middle;\n",
              "    }\n",
              "\n",
              "    .dataframe tbody tr th {\n",
              "        vertical-align: top;\n",
              "    }\n",
              "\n",
              "    .dataframe thead th {\n",
              "        text-align: right;\n",
              "    }\n",
              "</style>\n",
              "<table border=\"1\" class=\"dataframe\">\n",
              "  <thead>\n",
              "    <tr style=\"text-align: right;\">\n",
              "      <th></th>\n",
              "      <th>shrimp</th>\n",
              "      <th>crab</th>\n",
              "      <th>red fish</th>\n",
              "    </tr>\n",
              "  </thead>\n",
              "  <tbody>\n",
              "    <tr>\n",
              "      <th>0</th>\n",
              "      <td>10</td>\n",
              "      <td>5</td>\n",
              "      <td>2</td>\n",
              "    </tr>\n",
              "    <tr>\n",
              "      <th>2</th>\n",
              "      <td>30</td>\n",
              "      <td>15</td>\n",
              "      <td>5</td>\n",
              "    </tr>\n",
              "    <tr>\n",
              "      <th>4</th>\n",
              "      <td>50</td>\n",
              "      <td>25</td>\n",
              "      <td>11</td>\n",
              "    </tr>\n",
              "  </tbody>\n",
              "</table>\n",
              "</div>"
            ],
            "text/plain": [
              "   shrimp  crab  red fish\n",
              "0      10     5         2\n",
              "2      30    15         5\n",
              "4      50    25        11"
            ]
          },
          "metadata": {
            "tags": []
          },
          "execution_count": 7
        }
      ]
    },
    {
      "cell_type": "markdown",
      "metadata": {
        "id": "voxasxRxj_2I"
      },
      "source": [
        "If you wanted to pick out an individual row, like the 2nd row, you might try something like"
      ]
    },
    {
      "cell_type": "code",
      "metadata": {
        "colab": {
          "base_uri": "https://localhost:8080/"
        },
        "id": "Khv79eWIkAwJ",
        "outputId": "c90bb2e7-752d-4c0c-ac90-fcbce647f0e8"
      },
      "source": [
        "df.iloc[1]\n",
        "## shrimp      20\n",
        "## crab        10\n",
        "## red fish     3\n",
        "## Name: 1, dtype: int64"
      ],
      "execution_count": 8,
      "outputs": [
        {
          "output_type": "execute_result",
          "data": {
            "text/plain": [
              "shrimp      20\n",
              "crab        10\n",
              "red fish     3\n",
              "Name: 1, dtype: int64"
            ]
          },
          "metadata": {
            "tags": []
          },
          "execution_count": 8
        }
      ]
    },
    {
      "cell_type": "markdown",
      "metadata": {
        "id": "rpgo1E_1kLMX"
      },
      "source": [
        "which works, but returns the result as a Series. In most cases, you probably want to get this back as a 1-row DataFrame, and to do that just wrap the 1 inside a list like"
      ]
    },
    {
      "cell_type": "code",
      "metadata": {
        "colab": {
          "base_uri": "https://localhost:8080/",
          "height": 80
        },
        "id": "OXOjIFABkRmk",
        "outputId": "6b30be7c-2b4c-4f93-8215-1eeeaf369f2d"
      },
      "source": [
        "df.iloc[[1]]\n",
        "##    shrimp  crab  red fish\n",
        "## 1      20    10         3"
      ],
      "execution_count": 9,
      "outputs": [
        {
          "output_type": "execute_result",
          "data": {
            "text/html": [
              "<div>\n",
              "<style scoped>\n",
              "    .dataframe tbody tr th:only-of-type {\n",
              "        vertical-align: middle;\n",
              "    }\n",
              "\n",
              "    .dataframe tbody tr th {\n",
              "        vertical-align: top;\n",
              "    }\n",
              "\n",
              "    .dataframe thead th {\n",
              "        text-align: right;\n",
              "    }\n",
              "</style>\n",
              "<table border=\"1\" class=\"dataframe\">\n",
              "  <thead>\n",
              "    <tr style=\"text-align: right;\">\n",
              "      <th></th>\n",
              "      <th>shrimp</th>\n",
              "      <th>crab</th>\n",
              "      <th>red fish</th>\n",
              "    </tr>\n",
              "  </thead>\n",
              "  <tbody>\n",
              "    <tr>\n",
              "      <th>1</th>\n",
              "      <td>20</td>\n",
              "      <td>10</td>\n",
              "      <td>3</td>\n",
              "    </tr>\n",
              "  </tbody>\n",
              "</table>\n",
              "</div>"
            ],
            "text/plain": [
              "   shrimp  crab  red fish\n",
              "1      20    10         3"
            ]
          },
          "metadata": {
            "tags": []
          },
          "execution_count": 9
        }
      ]
    },
    {
      "cell_type": "markdown",
      "metadata": {
        "id": "0y6D6tzekkmZ"
      },
      "source": [
        "You can also use iloc to subset columns so you could do something like df.iloc[:, [0, 1]] to get back columns 0 and 1."
      ]
    },
    {
      "cell_type": "code",
      "metadata": {
        "colab": {
          "base_uri": "https://localhost:8080/",
          "height": 235
        },
        "id": "mCQu-kuGklnC",
        "outputId": "3610a467-8b30-45ba-8ebb-8975d7cf1445"
      },
      "source": [
        "df.iloc[:, [0, 1]]\n",
        "##    shrimp  crab\n",
        "## 0      10     5\n",
        "## 1      20    10\n",
        "## 2      30    15\n",
        "## 3      40    20\n",
        "## 4      50    25\n",
        "## 5      60    30"
      ],
      "execution_count": 10,
      "outputs": [
        {
          "output_type": "execute_result",
          "data": {
            "text/html": [
              "<div>\n",
              "<style scoped>\n",
              "    .dataframe tbody tr th:only-of-type {\n",
              "        vertical-align: middle;\n",
              "    }\n",
              "\n",
              "    .dataframe tbody tr th {\n",
              "        vertical-align: top;\n",
              "    }\n",
              "\n",
              "    .dataframe thead th {\n",
              "        text-align: right;\n",
              "    }\n",
              "</style>\n",
              "<table border=\"1\" class=\"dataframe\">\n",
              "  <thead>\n",
              "    <tr style=\"text-align: right;\">\n",
              "      <th></th>\n",
              "      <th>shrimp</th>\n",
              "      <th>crab</th>\n",
              "    </tr>\n",
              "  </thead>\n",
              "  <tbody>\n",
              "    <tr>\n",
              "      <th>0</th>\n",
              "      <td>10</td>\n",
              "      <td>5</td>\n",
              "    </tr>\n",
              "    <tr>\n",
              "      <th>1</th>\n",
              "      <td>20</td>\n",
              "      <td>10</td>\n",
              "    </tr>\n",
              "    <tr>\n",
              "      <th>2</th>\n",
              "      <td>30</td>\n",
              "      <td>15</td>\n",
              "    </tr>\n",
              "    <tr>\n",
              "      <th>3</th>\n",
              "      <td>40</td>\n",
              "      <td>20</td>\n",
              "    </tr>\n",
              "    <tr>\n",
              "      <th>4</th>\n",
              "      <td>50</td>\n",
              "      <td>25</td>\n",
              "    </tr>\n",
              "    <tr>\n",
              "      <th>5</th>\n",
              "      <td>60</td>\n",
              "      <td>30</td>\n",
              "    </tr>\n",
              "  </tbody>\n",
              "</table>\n",
              "</div>"
            ],
            "text/plain": [
              "   shrimp  crab\n",
              "0      10     5\n",
              "1      20    10\n",
              "2      30    15\n",
              "3      40    20\n",
              "4      50    25\n",
              "5      60    30"
            ]
          },
          "metadata": {
            "tags": []
          },
          "execution_count": 10
        }
      ]
    },
    {
      "cell_type": "markdown",
      "metadata": {
        "id": "IdDZP8e1kx4n"
      },
      "source": [
        "In english you could describe this expression as saying “give me every row of the DataFrame, but only columns 0 and 1”.\n",
        "\n",
        "If you did df.iloc[[0, 2], [1, 2]], it’d be like saying “give me rows 0 and 2, columns 1 and 2”."
      ]
    },
    {
      "cell_type": "code",
      "metadata": {
        "colab": {
          "base_uri": "https://localhost:8080/",
          "height": 111
        },
        "id": "wLWDLVdGk0PU",
        "outputId": "70a5bea6-06b7-4425-e51b-3fdf28407589"
      },
      "source": [
        "df.iloc[[0, 2], [1, 2]]\n",
        "##    crab  red fish\n",
        "## 0     5         2\n",
        "## 2    15         5"
      ],
      "execution_count": 11,
      "outputs": [
        {
          "output_type": "execute_result",
          "data": {
            "text/html": [
              "<div>\n",
              "<style scoped>\n",
              "    .dataframe tbody tr th:only-of-type {\n",
              "        vertical-align: middle;\n",
              "    }\n",
              "\n",
              "    .dataframe tbody tr th {\n",
              "        vertical-align: top;\n",
              "    }\n",
              "\n",
              "    .dataframe thead th {\n",
              "        text-align: right;\n",
              "    }\n",
              "</style>\n",
              "<table border=\"1\" class=\"dataframe\">\n",
              "  <thead>\n",
              "    <tr style=\"text-align: right;\">\n",
              "      <th></th>\n",
              "      <th>crab</th>\n",
              "      <th>red fish</th>\n",
              "    </tr>\n",
              "  </thead>\n",
              "  <tbody>\n",
              "    <tr>\n",
              "      <th>0</th>\n",
              "      <td>5</td>\n",
              "      <td>2</td>\n",
              "    </tr>\n",
              "    <tr>\n",
              "      <th>2</th>\n",
              "      <td>15</td>\n",
              "      <td>5</td>\n",
              "    </tr>\n",
              "  </tbody>\n",
              "</table>\n",
              "</div>"
            ],
            "text/plain": [
              "   crab  red fish\n",
              "0     5         2\n",
              "2    15         5"
            ]
          },
          "metadata": {
            "tags": []
          },
          "execution_count": 11
        }
      ]
    },
    {
      "cell_type": "markdown",
      "metadata": {
        "id": "V_VnKE6Hl2mE"
      },
      "source": [
        "As you probably guessed, just like iloc can be used to subset a DataFrame, so can loc. To make the distinction a little more clear, let’s start by replacing df's index with the letters ‘a’ through ‘f’."
      ]
    },
    {
      "cell_type": "code",
      "metadata": {
        "colab": {
          "base_uri": "https://localhost:8080/"
        },
        "id": "rEBZIiHql4Lw",
        "outputId": "1a114be2-0114-40c6-ff76-3598aafd3ce3"
      },
      "source": [
        "df.index = ['a','b','c','d','e','f']\n",
        "print(df)\n",
        "##    shrimp  crab  red fish\n",
        "## a      10     5         2\n",
        "## b      20    10         3\n",
        "## c      30    15         5\n",
        "## d      40    20         7\n",
        "## e      50    25        11\n",
        "## f      60    30        13"
      ],
      "execution_count": 12,
      "outputs": [
        {
          "output_type": "stream",
          "text": [
            "   shrimp  crab  red fish\n",
            "a      10     5         2\n",
            "b      20    10         3\n",
            "c      30    15         5\n",
            "d      40    20         7\n",
            "e      50    25        11\n",
            "f      60    30        13\n"
          ],
          "name": "stdout"
        }
      ]
    },
    {
      "cell_type": "markdown",
      "metadata": {
        "id": "eQTWdZprmCEw"
      },
      "source": [
        "Now if we want to pick out rows with index labels ‘b’ and ‘e’, we can do"
      ]
    },
    {
      "cell_type": "code",
      "metadata": {
        "colab": {
          "base_uri": "https://localhost:8080/",
          "height": 111
        },
        "id": "U9Vfw6JDmC72",
        "outputId": "e4c919c6-acb5-4c79-8ea0-2dee8d25157a"
      },
      "source": [
        "df.loc[['b', 'e']]\n",
        "##    shrimp  crab  red fish\n",
        "## b      20    10         3\n",
        "## e      50    25        11"
      ],
      "execution_count": 13,
      "outputs": [
        {
          "output_type": "execute_result",
          "data": {
            "text/html": [
              "<div>\n",
              "<style scoped>\n",
              "    .dataframe tbody tr th:only-of-type {\n",
              "        vertical-align: middle;\n",
              "    }\n",
              "\n",
              "    .dataframe tbody tr th {\n",
              "        vertical-align: top;\n",
              "    }\n",
              "\n",
              "    .dataframe thead th {\n",
              "        text-align: right;\n",
              "    }\n",
              "</style>\n",
              "<table border=\"1\" class=\"dataframe\">\n",
              "  <thead>\n",
              "    <tr style=\"text-align: right;\">\n",
              "      <th></th>\n",
              "      <th>shrimp</th>\n",
              "      <th>crab</th>\n",
              "      <th>red fish</th>\n",
              "    </tr>\n",
              "  </thead>\n",
              "  <tbody>\n",
              "    <tr>\n",
              "      <th>b</th>\n",
              "      <td>20</td>\n",
              "      <td>10</td>\n",
              "      <td>3</td>\n",
              "    </tr>\n",
              "    <tr>\n",
              "      <th>e</th>\n",
              "      <td>50</td>\n",
              "      <td>25</td>\n",
              "      <td>11</td>\n",
              "    </tr>\n",
              "  </tbody>\n",
              "</table>\n",
              "</div>"
            ],
            "text/plain": [
              "   shrimp  crab  red fish\n",
              "b      20    10         3\n",
              "e      50    25        11"
            ]
          },
          "metadata": {
            "tags": []
          },
          "execution_count": 13
        }
      ]
    },
    {
      "cell_type": "markdown",
      "metadata": {
        "id": "9og-gBlpmM0S"
      },
      "source": [
        "We could combine row and column subsetting to pick out rows ‘a’, ‘c’, and ‘f’ with columns ‘crab’ and ‘shrimp’ like"
      ]
    },
    {
      "cell_type": "code",
      "metadata": {
        "colab": {
          "base_uri": "https://localhost:8080/",
          "height": 142
        },
        "id": "agVM9o6rmTwQ",
        "outputId": "85ce9262-971b-4547-d2cd-64711a255b09"
      },
      "source": [
        "df.loc[['a', 'c', 'f'], ['crab', 'shrimp']]\n",
        "##    crab  shrimp\n",
        "## a     5      10\n",
        "## c    15      30\n",
        "## f    30      60"
      ],
      "execution_count": 14,
      "outputs": [
        {
          "output_type": "execute_result",
          "data": {
            "text/html": [
              "<div>\n",
              "<style scoped>\n",
              "    .dataframe tbody tr th:only-of-type {\n",
              "        vertical-align: middle;\n",
              "    }\n",
              "\n",
              "    .dataframe tbody tr th {\n",
              "        vertical-align: top;\n",
              "    }\n",
              "\n",
              "    .dataframe thead th {\n",
              "        text-align: right;\n",
              "    }\n",
              "</style>\n",
              "<table border=\"1\" class=\"dataframe\">\n",
              "  <thead>\n",
              "    <tr style=\"text-align: right;\">\n",
              "      <th></th>\n",
              "      <th>crab</th>\n",
              "      <th>shrimp</th>\n",
              "    </tr>\n",
              "  </thead>\n",
              "  <tbody>\n",
              "    <tr>\n",
              "      <th>a</th>\n",
              "      <td>5</td>\n",
              "      <td>10</td>\n",
              "    </tr>\n",
              "    <tr>\n",
              "      <th>c</th>\n",
              "      <td>15</td>\n",
              "      <td>30</td>\n",
              "    </tr>\n",
              "    <tr>\n",
              "      <th>f</th>\n",
              "      <td>30</td>\n",
              "      <td>60</td>\n",
              "    </tr>\n",
              "  </tbody>\n",
              "</table>\n",
              "</div>"
            ],
            "text/plain": [
              "   crab  shrimp\n",
              "a     5      10\n",
              "c    15      30\n",
              "f    30      60"
            ]
          },
          "metadata": {
            "tags": []
          },
          "execution_count": 14
        }
      ]
    },
    {
      "cell_type": "markdown",
      "metadata": {
        "id": "LguVkJG6r9vp"
      },
      "source": [
        "And we can even use slicing to pick out every row between ‘b’ and ‘e’ for column ‘crab’."
      ]
    },
    {
      "cell_type": "code",
      "metadata": {
        "colab": {
          "base_uri": "https://localhost:8080/",
          "height": 173
        },
        "id": "ib-QdELOr_I3",
        "outputId": "8623e605-c84a-4127-eba1-404f82c15f83"
      },
      "source": [
        "df.loc['b':'e', ['crab']]\n",
        "##    crab\n",
        "## b    10\n",
        "## c    15\n",
        "## d    20\n",
        "## e    25"
      ],
      "execution_count": 15,
      "outputs": [
        {
          "output_type": "execute_result",
          "data": {
            "text/html": [
              "<div>\n",
              "<style scoped>\n",
              "    .dataframe tbody tr th:only-of-type {\n",
              "        vertical-align: middle;\n",
              "    }\n",
              "\n",
              "    .dataframe tbody tr th {\n",
              "        vertical-align: top;\n",
              "    }\n",
              "\n",
              "    .dataframe thead th {\n",
              "        text-align: right;\n",
              "    }\n",
              "</style>\n",
              "<table border=\"1\" class=\"dataframe\">\n",
              "  <thead>\n",
              "    <tr style=\"text-align: right;\">\n",
              "      <th></th>\n",
              "      <th>crab</th>\n",
              "    </tr>\n",
              "  </thead>\n",
              "  <tbody>\n",
              "    <tr>\n",
              "      <th>b</th>\n",
              "      <td>10</td>\n",
              "    </tr>\n",
              "    <tr>\n",
              "      <th>c</th>\n",
              "      <td>15</td>\n",
              "    </tr>\n",
              "    <tr>\n",
              "      <th>d</th>\n",
              "      <td>20</td>\n",
              "    </tr>\n",
              "    <tr>\n",
              "      <th>e</th>\n",
              "      <td>25</td>\n",
              "    </tr>\n",
              "  </tbody>\n",
              "</table>\n",
              "</div>"
            ],
            "text/plain": [
              "   crab\n",
              "b    10\n",
              "c    15\n",
              "d    20\n",
              "e    25"
            ]
          },
          "metadata": {
            "tags": []
          },
          "execution_count": 15
        }
      ]
    },
    {
      "cell_type": "markdown",
      "metadata": {
        "id": "ctB7rN88sZo-"
      },
      "source": [
        "Now, what if we wanted to pick out the first three rows with columns shrimp and red fish? This is one of those times where, frankly, Pandas is kind of disappointing because what you really want to do is something like df.loc[:3, ['shrimp', 'red fish']] but this doesn’t work because loc searches for index labels, so it doesn’t know how to interpret the positional slicing :3. On the other hand df.iloc[:3, ['shrimp', 'red fish']] doesn’t work because iloc uses positional indexing so it doesn’t know how to interpret the list of column names ['shrimp', 'red fish'].\n",
        "\n",
        "Fortunately, there’s a not-so-terrible workaround for this. The trick is to convert the column names ‘shrimp’, and ‘red fish’ to their corresponding positional indices 0 and 2, and then just use iloc as usual.\n",
        "\n",
        "Essentially, we want to do df.iloc[:3, [0, 2]], but to allow for column names instead of column indices, we can replace [0, 2] with [df.columns.get_loc(c) for c in ['shrimp', 'red fish']]."
      ]
    },
    {
      "cell_type": "code",
      "metadata": {
        "colab": {
          "base_uri": "https://localhost:8080/",
          "height": 142
        },
        "id": "bA40rkbvsbCC",
        "outputId": "ba4ec0b7-ed39-44e9-e44f-343a47625260"
      },
      "source": [
        "df.iloc[:3, [df.columns.get_loc(c) for c in ['shrimp', 'red fish']]]\n",
        "##    shrimp  red fish\n",
        "## a      10         2\n",
        "## b      20         3\n",
        "## c      30         5"
      ],
      "execution_count": 16,
      "outputs": [
        {
          "output_type": "execute_result",
          "data": {
            "text/html": [
              "<div>\n",
              "<style scoped>\n",
              "    .dataframe tbody tr th:only-of-type {\n",
              "        vertical-align: middle;\n",
              "    }\n",
              "\n",
              "    .dataframe tbody tr th {\n",
              "        vertical-align: top;\n",
              "    }\n",
              "\n",
              "    .dataframe thead th {\n",
              "        text-align: right;\n",
              "    }\n",
              "</style>\n",
              "<table border=\"1\" class=\"dataframe\">\n",
              "  <thead>\n",
              "    <tr style=\"text-align: right;\">\n",
              "      <th></th>\n",
              "      <th>shrimp</th>\n",
              "      <th>red fish</th>\n",
              "    </tr>\n",
              "  </thead>\n",
              "  <tbody>\n",
              "    <tr>\n",
              "      <th>a</th>\n",
              "      <td>10</td>\n",
              "      <td>2</td>\n",
              "    </tr>\n",
              "    <tr>\n",
              "      <th>b</th>\n",
              "      <td>20</td>\n",
              "      <td>3</td>\n",
              "    </tr>\n",
              "    <tr>\n",
              "      <th>c</th>\n",
              "      <td>30</td>\n",
              "      <td>5</td>\n",
              "    </tr>\n",
              "  </tbody>\n",
              "</table>\n",
              "</div>"
            ],
            "text/plain": [
              "   shrimp  red fish\n",
              "a      10         2\n",
              "b      20         3\n",
              "c      30         5"
            ]
          },
          "metadata": {
            "tags": []
          },
          "execution_count": 16
        }
      ]
    },
    {
      "cell_type": "markdown",
      "metadata": {
        "id": "cGl_gn_Assf4"
      },
      "source": [
        "Here, df.columns.get_loc() returns the positional index of a column given its name. So we just combine that with a simple list comprehension to convert a list of column names to positional indices on the fly.\n",
        "\n",
        "I should also mention that df.columns returns the column index of the DataFrame."
      ]
    },
    {
      "cell_type": "code",
      "metadata": {
        "colab": {
          "base_uri": "https://localhost:8080/"
        },
        "id": "a12UfxQ-Wr7r",
        "outputId": "c35cfb4e-7249-4ba7-c0cf-6b6a2aabea4d"
      },
      "source": [
        "df.columns\n",
        "## Index(['shrimp', 'crab', 'red fish'], dtype='object')"
      ],
      "execution_count": 4,
      "outputs": [
        {
          "output_type": "execute_result",
          "data": {
            "text/plain": [
              "Index(['shrimp', 'crab', 'red fish'], dtype='object')"
            ]
          },
          "metadata": {
            "tags": []
          },
          "execution_count": 4
        }
      ]
    },
    {
      "cell_type": "markdown",
      "metadata": {
        "id": "Zwunatr-Wv9t"
      },
      "source": [
        "and in this case it’s just like the row index since our row index is also made up of strings."
      ]
    },
    {
      "cell_type": "code",
      "metadata": {
        "colab": {
          "base_uri": "https://localhost:8080/"
        },
        "id": "cFgQNfNmXJQH",
        "outputId": "01590f3c-8349-475b-91af-18dd85e5e7d2"
      },
      "source": [
        "df.index\n",
        "## Index(['a', 'b', 'c', 'd', 'e', 'f'], dtype='object')"
      ],
      "execution_count": 5,
      "outputs": [
        {
          "output_type": "execute_result",
          "data": {
            "text/plain": [
              "RangeIndex(start=0, stop=6, step=1)"
            ]
          },
          "metadata": {
            "tags": []
          },
          "execution_count": 5
        }
      ]
    },
    {
      "cell_type": "markdown",
      "metadata": {
        "id": "sdQ4XFaHXRkK"
      },
      "source": [
        "You can also apply boolean indexing to DataFrames just as you can with Series. For example, if you wanted to get the rows of df where column shrimp is less than 40, you can start by building a boolean Series like"
      ]
    },
    {
      "cell_type": "code",
      "metadata": {
        "id": "kd23t5rXXSfW"
      },
      "source": [
        "mask = df.shrimp < 40"
      ],
      "execution_count": 6,
      "outputs": []
    },
    {
      "cell_type": "markdown",
      "metadata": {
        "id": "BPBSpXMEXXDT"
      },
      "source": [
        "If we print(mask), notice it has the same index as our DataFrame."
      ]
    },
    {
      "cell_type": "code",
      "metadata": {
        "colab": {
          "base_uri": "https://localhost:8080/"
        },
        "id": "_ev_S_f9XhWP",
        "outputId": "6aa38fa8-6b88-440f-d132-abe27e50be2f"
      },
      "source": [
        "print(mask)\n",
        "## a     True\n",
        "## b     True\n",
        "## c     True\n",
        "## d    False\n",
        "## e    False\n",
        "## f    False\n",
        "## Name: shrimp, dtype: bool"
      ],
      "execution_count": 7,
      "outputs": [
        {
          "output_type": "stream",
          "text": [
            "0     True\n",
            "1     True\n",
            "2     True\n",
            "3    False\n",
            "4    False\n",
            "5    False\n",
            "Name: shrimp, dtype: bool\n"
          ],
          "name": "stdout"
        }
      ]
    },
    {
      "cell_type": "markdown",
      "metadata": {
        "id": "n4l75YUVX0D-"
      },
      "source": [
        "So then we can use this boolean series with df.loc to pick out the rows where shrimp is less than 40."
      ]
    },
    {
      "cell_type": "code",
      "metadata": {
        "colab": {
          "base_uri": "https://localhost:8080/",
          "height": 142
        },
        "id": "oou5gurvX07H",
        "outputId": "7b2a3144-fc5e-46ca-8730-9597d12501d3"
      },
      "source": [
        "df.loc[mask]\n",
        "##    shrimp  crab  red fish\n",
        "## a      10     5         2\n",
        "## b      20    10         3\n",
        "## c      30    15         5"
      ],
      "execution_count": 8,
      "outputs": [
        {
          "output_type": "execute_result",
          "data": {
            "text/html": [
              "<div>\n",
              "<style scoped>\n",
              "    .dataframe tbody tr th:only-of-type {\n",
              "        vertical-align: middle;\n",
              "    }\n",
              "\n",
              "    .dataframe tbody tr th {\n",
              "        vertical-align: top;\n",
              "    }\n",
              "\n",
              "    .dataframe thead th {\n",
              "        text-align: right;\n",
              "    }\n",
              "</style>\n",
              "<table border=\"1\" class=\"dataframe\">\n",
              "  <thead>\n",
              "    <tr style=\"text-align: right;\">\n",
              "      <th></th>\n",
              "      <th>shrimp</th>\n",
              "      <th>crab</th>\n",
              "      <th>red fish</th>\n",
              "    </tr>\n",
              "  </thead>\n",
              "  <tbody>\n",
              "    <tr>\n",
              "      <th>0</th>\n",
              "      <td>10</td>\n",
              "      <td>5</td>\n",
              "      <td>2</td>\n",
              "    </tr>\n",
              "    <tr>\n",
              "      <th>1</th>\n",
              "      <td>20</td>\n",
              "      <td>10</td>\n",
              "      <td>3</td>\n",
              "    </tr>\n",
              "    <tr>\n",
              "      <th>2</th>\n",
              "      <td>30</td>\n",
              "      <td>15</td>\n",
              "      <td>5</td>\n",
              "    </tr>\n",
              "  </tbody>\n",
              "</table>\n",
              "</div>"
            ],
            "text/plain": [
              "   shrimp  crab  red fish\n",
              "0      10     5         2\n",
              "1      20    10         3\n",
              "2      30    15         5"
            ]
          },
          "metadata": {
            "tags": []
          },
          "execution_count": 8
        }
      ]
    },
    {
      "cell_type": "markdown",
      "metadata": {
        "id": "bClWaDO3YH0a"
      },
      "source": [
        "More commonly you’ll see this as a one liner like"
      ]
    },
    {
      "cell_type": "code",
      "metadata": {
        "colab": {
          "base_uri": "https://localhost:8080/",
          "height": 142
        },
        "id": "amoQEJlIYInO",
        "outputId": "51b66a0f-ac85-498a-d1c2-24267e7dbd68"
      },
      "source": [
        "df.loc[df.shrimp < 40]\n",
        "##    shrimp  crab  red fish\n",
        "## a      10     5         2\n",
        "## b      20    10         3\n",
        "## c      30    15         5"
      ],
      "execution_count": 9,
      "outputs": [
        {
          "output_type": "execute_result",
          "data": {
            "text/html": [
              "<div>\n",
              "<style scoped>\n",
              "    .dataframe tbody tr th:only-of-type {\n",
              "        vertical-align: middle;\n",
              "    }\n",
              "\n",
              "    .dataframe tbody tr th {\n",
              "        vertical-align: top;\n",
              "    }\n",
              "\n",
              "    .dataframe thead th {\n",
              "        text-align: right;\n",
              "    }\n",
              "</style>\n",
              "<table border=\"1\" class=\"dataframe\">\n",
              "  <thead>\n",
              "    <tr style=\"text-align: right;\">\n",
              "      <th></th>\n",
              "      <th>shrimp</th>\n",
              "      <th>crab</th>\n",
              "      <th>red fish</th>\n",
              "    </tr>\n",
              "  </thead>\n",
              "  <tbody>\n",
              "    <tr>\n",
              "      <th>0</th>\n",
              "      <td>10</td>\n",
              "      <td>5</td>\n",
              "      <td>2</td>\n",
              "    </tr>\n",
              "    <tr>\n",
              "      <th>1</th>\n",
              "      <td>20</td>\n",
              "      <td>10</td>\n",
              "      <td>3</td>\n",
              "    </tr>\n",
              "    <tr>\n",
              "      <th>2</th>\n",
              "      <td>30</td>\n",
              "      <td>15</td>\n",
              "      <td>5</td>\n",
              "    </tr>\n",
              "  </tbody>\n",
              "</table>\n",
              "</div>"
            ],
            "text/plain": [
              "   shrimp  crab  red fish\n",
              "0      10     5         2\n",
              "1      20    10         3\n",
              "2      30    15         5"
            ]
          },
          "metadata": {
            "tags": []
          },
          "execution_count": 9
        }
      ]
    },
    {
      "cell_type": "markdown",
      "metadata": {
        "id": "WrY6_GR-YTMZ"
      },
      "source": [
        "And just like Series, you can combine logical conditions to create more intricate filters like, “rows where shrimp is less than 50 and crab is not divisible by 10”."
      ]
    },
    {
      "cell_type": "code",
      "metadata": {
        "colab": {
          "base_uri": "https://localhost:8080/",
          "height": 111
        },
        "id": "uJaJUA7oYUHO",
        "outputId": "831d76fa-1215-4f62-dc5b-9e534c8f4b5a"
      },
      "source": [
        "df.loc[(df.shrimp < 50) & ~(df.crab % 10 == 0)]\n",
        "##    shrimp  crab  red fish\n",
        "## a      10     5         2\n",
        "## c      30    15         5"
      ],
      "execution_count": 10,
      "outputs": [
        {
          "output_type": "execute_result",
          "data": {
            "text/html": [
              "<div>\n",
              "<style scoped>\n",
              "    .dataframe tbody tr th:only-of-type {\n",
              "        vertical-align: middle;\n",
              "    }\n",
              "\n",
              "    .dataframe tbody tr th {\n",
              "        vertical-align: top;\n",
              "    }\n",
              "\n",
              "    .dataframe thead th {\n",
              "        text-align: right;\n",
              "    }\n",
              "</style>\n",
              "<table border=\"1\" class=\"dataframe\">\n",
              "  <thead>\n",
              "    <tr style=\"text-align: right;\">\n",
              "      <th></th>\n",
              "      <th>shrimp</th>\n",
              "      <th>crab</th>\n",
              "      <th>red fish</th>\n",
              "    </tr>\n",
              "  </thead>\n",
              "  <tbody>\n",
              "    <tr>\n",
              "      <th>0</th>\n",
              "      <td>10</td>\n",
              "      <td>5</td>\n",
              "      <td>2</td>\n",
              "    </tr>\n",
              "    <tr>\n",
              "      <th>2</th>\n",
              "      <td>30</td>\n",
              "      <td>15</td>\n",
              "      <td>5</td>\n",
              "    </tr>\n",
              "  </tbody>\n",
              "</table>\n",
              "</div>"
            ],
            "text/plain": [
              "   shrimp  crab  red fish\n",
              "0      10     5         2\n",
              "2      30    15         5"
            ]
          },
          "metadata": {
            "tags": []
          },
          "execution_count": 10
        }
      ]
    }
  ]
}