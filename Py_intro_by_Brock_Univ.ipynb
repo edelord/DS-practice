{
  "nbformat": 4,
  "nbformat_minor": 0,
  "metadata": {
    "kernelspec": {
      "display_name": "Python 3",
      "language": "python",
      "name": "python3"
    },
    "language_info": {
      "codemirror_mode": {
        "name": "ipython",
        "version": 3
      },
      "file_extension": ".py",
      "mimetype": "text/x-python",
      "name": "python",
      "nbconvert_exporter": "python",
      "pygments_lexer": "ipython3",
      "version": "3.7.4"
    },
    "colab": {
      "name": "Py intro by Brock Univ.ipynb",
      "provenance": [],
      "collapsed_sections": [
        "wf89Qfg4y31z"
      ],
      "include_colab_link": true
    }
  },
  "cells": [
    {
      "cell_type": "markdown",
      "metadata": {
        "id": "view-in-github",
        "colab_type": "text"
      },
      "source": [
        "<a href=\"https://colab.research.google.com/github/edelord/DS-practice/blob/main/Py_intro_by_Brock_Univ.ipynb\" target=\"_parent\"><img src=\"https://colab.research.google.com/assets/colab-badge.svg\" alt=\"Open In Colab\"/></a>"
      ]
    },
    {
      "cell_type": "markdown",
      "metadata": {
        "id": "obTb2-uCy3zX"
      },
      "source": [
        "![DSL_logo](https://github.com/BrockDSL/Intro_to_Python_Workshop/blob/master/dsl_logo.png?raw=1)\n",
        "\n",
        "\n",
        "# Introduction to Python!\n",
        "\n",
        "Welcome to the Digital Scholarship Lab introduction to Python class. By the end of today we'll know all about the following;\n",
        "- variables\n",
        "- math\n",
        "- conditional\n",
        "- loops\n",
        "- functions\n",
        "\n",
        "We'll also do some basic text analysis (if time allows)\n",
        "\n",
        "\n",
        "We'll use the Zoom's chat feature to interact.\n",
        "\n",
        "Be sure to enable line numbers by looking for the 'gear' icon and checking the box in the 'Editor' panel.\n",
        "\n",
        "Be sure to also 'Save a Copy' under the Edit menu."
      ]
    },
    {
      "cell_type": "markdown",
      "metadata": {
        "id": "0oMfUOquy30M"
      },
      "source": [
        "## Python via Jupyter\n",
        "\n",
        "- Jupyter notebooks allow us to have code in a webpage\n",
        "- We'll use Python version 3! Honestly you shouldn't be using Python 2.X any longer\n",
        "- Each bit of code is in a 'cell'. We hit the play button to run each cell\n",
        "- Try it with the next cell."
      ]
    },
    {
      "cell_type": "code",
      "metadata": {
        "id": "bvsHFke1y30O",
        "colab": {
          "base_uri": "https://localhost:8080/"
        },
        "outputId": "97c4d043-af8d-46fa-acbd-a5e6b3b1de67"
      },
      "source": [
        "# We are going to ask for the user to input their name\n",
        "# We'll then tell that person hello\n",
        "\n",
        "user_name = input(\"What is your name? \")\n",
        "print(\"Hello \" + user_name)\n"
      ],
      "execution_count": 1,
      "outputs": [
        {
          "output_type": "stream",
          "text": [
            "What is your name? Ema\n",
            "Hello Ema\n"
          ],
          "name": "stdout"
        }
      ]
    },
    {
      "cell_type": "markdown",
      "metadata": {
        "id": "AhPHaj8Ty30Q"
      },
      "source": [
        "***\n",
        "\n",
        "## Variables, Printing and Comments\n",
        "\n",
        "- Variable can hold values and come in different types, as we say earlier the user's name is in a variable called user_name\n",
        "- variables can all be strings, integers, real numbers, or pretty much anything else\n",
        "- when we want to print something we use the function `print()`\n",
        "- Anything after a `#` is a comment, it is ignored by Python"
      ]
    },
    {
      "cell_type": "code",
      "metadata": {
        "id": "zE5FFsU8y30S"
      },
      "source": [
        "# A number with a decimal is called a real\n",
        "pi = 3.14\n",
        "\n",
        "#A number with no decima is called an integer\n",
        "items_in_a_dozen = 12\n",
        "\n",
        "#Text in variable is called a string\n",
        "favourite_color = \"blue\"\n",
        "\n",
        "#You can list multiple values in one variable\n",
        "#This is called a list, they can have anything in them\n",
        "\n",
        "Y_Axis = [0, 0.1, 0.2, 0.3, 0.4, 0.5]\n",
        "crayon_colours = [\"red\",\"blue\",\"yellow\"]"
      ],
      "execution_count": null,
      "outputs": []
    },
    {
      "cell_type": "markdown",
      "metadata": {
        "id": "WeuIvtXvy30T"
      },
      "source": [
        "Try questions Q1 - Q3 and type \"Done!\" in the chat when you are finished"
      ]
    },
    {
      "cell_type": "markdown",
      "metadata": {
        "id": "4bBBE2HPy30U"
      },
      "source": [
        "- **Q1** Can you create a variable called `age` and give set it to your age in years? "
      ]
    },
    {
      "cell_type": "code",
      "metadata": {
        "id": "zOq-k2tEy30X"
      },
      "source": [
        "age = 99"
      ],
      "execution_count": null,
      "outputs": []
    },
    {
      "cell_type": "markdown",
      "metadata": {
        "id": "cj0hkN5vy30b"
      },
      "source": [
        "- **Q2** Can you print your age to the screen?"
      ]
    },
    {
      "cell_type": "code",
      "metadata": {
        "id": "wtBfxDDyy30c",
        "colab": {
          "base_uri": "https://localhost:8080/"
        },
        "outputId": "79a642ff-7825-4415-c88b-048809ecf544"
      },
      "source": [
        "print(age)"
      ],
      "execution_count": null,
      "outputs": [
        {
          "output_type": "stream",
          "text": [
            "99\n"
          ],
          "name": "stdout"
        }
      ]
    },
    {
      "cell_type": "markdown",
      "metadata": {
        "id": "HP7KwBOEy30d"
      },
      "source": [
        "- If we want to combine things and print them all together we join them with at `+` just like we saw above\n",
        "\n",
        "`print(\"Hello \" + user_name)`"
      ]
    },
    {
      "cell_type": "markdown",
      "metadata": {
        "id": "7t1f8Vd3y30d"
      },
      "source": [
        "- **Q3** Can you modify favourite colour above, re-run the cell and complete the print statement that follows"
      ]
    },
    {
      "cell_type": "code",
      "metadata": {
        "id": "HSr08C6By30e",
        "colab": {
          "base_uri": "https://localhost:8080/"
        },
        "outputId": "7bb29ad8-11c3-4b2f-87c2-c697d24cbde1"
      },
      "source": [
        "favourite_color = \"green\"\n",
        "print(\"My name is \" + user_name + \" and by favourite colour is \" + favourite_color)"
      ],
      "execution_count": null,
      "outputs": [
        {
          "output_type": "stream",
          "text": [
            "My name is ema and by favourite colour is green\n"
          ],
          "name": "stdout"
        }
      ]
    },
    {
      "cell_type": "markdown",
      "metadata": {
        "id": "1I58sxxBy30f"
      },
      "source": [
        "***\n",
        "\n",
        "## A Python thing to keep in mind!\n",
        "\n",
        "- Some programming languages need a `;` at the end of a line of code, not Python!\n",
        "- With Python you need to **indent** your code, the rest of the examples will demonstrate this\n",
        "\n"
      ]
    },
    {
      "cell_type": "markdown",
      "metadata": {
        "id": "kxBISSUhy30g"
      },
      "source": [
        "***\n",
        "\n",
        "## Variables - Dictionaries\n",
        "\n",
        "- These are fancy variables\n",
        "- These are a bit more complicated as they hold both a 'key' and a 'value'.\n"
      ]
    },
    {
      "cell_type": "code",
      "metadata": {
        "id": "Vno3XLqRy30h"
      },
      "source": [
        "phone_numbers = {\n",
        "    \"Mom\":\"555-8980\",\n",
        "    \"Joe\":\"555-1021\"\n",
        "}\n",
        "\n",
        "toronto_weather = {\n",
        "    \"Monday\": 10,\n",
        "    \"Tuesday\" : 12,\n",
        "    \"Wednesday\" : 15,\n",
        "    \"Thursday\" : 10,\n",
        "    \"Friday\" : 9,\n",
        "    \"Saturday\" : 6,\n",
        "    \"Sunday\" : 6\n",
        "    }"
      ],
      "execution_count": 4,
      "outputs": []
    },
    {
      "cell_type": "markdown",
      "metadata": {
        "id": "LJiOM5ncy30h"
      },
      "source": [
        "- We can print a dictionary in a very similar way to other variables like we saw earlier."
      ]
    },
    {
      "cell_type": "code",
      "metadata": {
        "id": "FKd42o8dy30i",
        "colab": {
          "base_uri": "https://localhost:8080/"
        },
        "outputId": "f80d36dd-b3c9-42f3-c393-97cb8e573c52"
      },
      "source": [
        "print(phone_numbers)"
      ],
      "execution_count": null,
      "outputs": [
        {
          "output_type": "stream",
          "text": [
            "{'Mom': '555-8980', 'Joe': '555-1021'}\n"
          ],
          "name": "stdout"
        }
      ]
    },
    {
      "cell_type": "markdown",
      "metadata": {
        "id": "z-pk3SzJy30j"
      },
      "source": [
        "- You can do some interesting things with dictionaries, (we'll see more as time goes on)\n",
        "- For example you can print out different parts of the dictionary by adding in a `key`"
      ]
    },
    {
      "cell_type": "code",
      "metadata": {
        "id": "RrE5slXTy30s",
        "colab": {
          "base_uri": "https://localhost:8080/"
        },
        "outputId": "a27a63b9-d5ec-467f-99bc-657dc748f521"
      },
      "source": [
        "print(toronto_weather[\"Monday\"])"
      ],
      "execution_count": null,
      "outputs": [
        {
          "output_type": "stream",
          "text": [
            "10\n"
          ],
          "name": "stdout"
        }
      ]
    },
    {
      "cell_type": "markdown",
      "metadata": {
        "id": "-KZ8u7p0y30t"
      },
      "source": [
        "Try questions Q4-Q6 below and type \"Finished!\" in the chat when you are done."
      ]
    },
    {
      "cell_type": "markdown",
      "metadata": {
        "id": "WH8eGt8gy30u"
      },
      "source": [
        "- **Q4** How can we print Wednesday's weather?"
      ]
    },
    {
      "cell_type": "code",
      "metadata": {
        "id": "iXZVS7YBy30u",
        "colab": {
          "base_uri": "https://localhost:8080/"
        },
        "outputId": "ffbc63c1-8bd4-49e0-dc2e-39fca15ebf5a"
      },
      "source": [
        "print(toronto_weather[\"Wednesday\"])"
      ],
      "execution_count": null,
      "outputs": [
        {
          "output_type": "stream",
          "text": [
            "15\n"
          ],
          "name": "stdout"
        }
      ]
    },
    {
      "cell_type": "markdown",
      "metadata": {
        "id": "rV9wVxOyy30v"
      },
      "source": [
        "- **Q5** How can we print Saturday's weather?"
      ]
    },
    {
      "cell_type": "code",
      "metadata": {
        "id": "fiMoy9TPy30w",
        "colab": {
          "base_uri": "https://localhost:8080/"
        },
        "outputId": "80a708ab-33a9-43d3-946f-d3e57de50168"
      },
      "source": [
        "print(toronto_weather[\"Saturday\"])"
      ],
      "execution_count": null,
      "outputs": [
        {
          "output_type": "stream",
          "text": [
            "6\n"
          ],
          "name": "stdout"
        }
      ]
    },
    {
      "cell_type": "markdown",
      "metadata": {
        "id": "G14hemkUy30x"
      },
      "source": [
        "- **Q6** Print Joe's phone number."
      ]
    },
    {
      "cell_type": "code",
      "metadata": {
        "id": "aHYIDDJ7y30x",
        "colab": {
          "base_uri": "https://localhost:8080/"
        },
        "outputId": "92abc3dc-9c93-44db-90fc-7409ba6461de"
      },
      "source": [
        "print(phone_numbers[\"Joe\"])"
      ],
      "execution_count": null,
      "outputs": [
        {
          "output_type": "stream",
          "text": [
            "555-1021\n"
          ],
          "name": "stdout"
        }
      ]
    },
    {
      "cell_type": "markdown",
      "metadata": {
        "id": "BrgRSh-qy30y"
      },
      "source": [
        "***\n",
        "\n",
        "## Doing Math\n",
        "\n",
        "As you'd expect with a programming language Python is pretty good at doing math. The basic operators you can use are as follows:\n",
        "\n",
        "- `*` is for multiplication\n",
        "- `+` is for addition\n",
        "- `-` is the subtraction\n",
        "- `%` is the remainder\n",
        "- `/` is division\n",
        "\n",
        "Let's re-use our dictionary variable about the weather from earlier."
      ]
    },
    {
      "cell_type": "markdown",
      "metadata": {
        "id": "e3zglfYly30z"
      },
      "source": [
        "- Let's find the average recorded for the weekdays\n",
        "- Another Python hint, if you need to go across multiple lines use `\\` like in the following"
      ]
    },
    {
      "cell_type": "code",
      "metadata": {
        "id": "89VmWkf6y30z",
        "colab": {
          "base_uri": "https://localhost:8080/"
        },
        "outputId": "fe5f44fb-29c3-44e4-ced9-d5921926ba19"
      },
      "source": [
        "five_day_total = toronto_weather[\"Monday\"] + \\\n",
        "                    toronto_weather[\"Tuesday\"] + \\\n",
        "                    toronto_weather[\"Wednesday\"] + \\\n",
        "                    toronto_weather[\"Thursday\"] + \\\n",
        "                    toronto_weather[\"Friday\"]\n",
        "\n",
        "print(five_day_total / 5)"
      ],
      "execution_count": 5,
      "outputs": [
        {
          "output_type": "stream",
          "text": [
            "11.2\n"
          ],
          "name": "stdout"
        }
      ]
    },
    {
      "cell_type": "markdown",
      "metadata": {
        "id": "Q9axY_Fny300"
      },
      "source": [
        "- All of our temp data is in **C**\n",
        "- What if we want to know it in **F**?"
      ]
    },
    {
      "cell_type": "code",
      "metadata": {
        "id": "s_ImwK4Py301",
        "colab": {
          "base_uri": "https://localhost:8080/"
        },
        "outputId": "3f5b9bb2-df4e-4d95-dd18-500b4df34381"
      },
      "source": [
        "print(toronto_weather[\"Monday\"] * 9/5 + 32)"
      ],
      "execution_count": 6,
      "outputs": [
        {
          "output_type": "stream",
          "text": [
            "50.0\n"
          ],
          "name": "stdout"
        }
      ]
    },
    {
      "cell_type": "markdown",
      "metadata": {
        "id": "kauV75fXy301"
      },
      "source": [
        "Try questions Q7 - Q10 and type \"Completed\" in the chat box when you are done."
      ]
    },
    {
      "cell_type": "markdown",
      "metadata": {
        "id": "5m08AVtcy302"
      },
      "source": [
        "- **Q7** Can you print out Thursday's temp in F?"
      ]
    },
    {
      "cell_type": "code",
      "metadata": {
        "id": "egmYSo0Oy306",
        "colab": {
          "base_uri": "https://localhost:8080/"
        },
        "outputId": "c7de2c76-ee91-4953-934d-b76a71751e92"
      },
      "source": [
        "print(toronto_weather[\"Thursday\"] * 9/5 + 32)"
      ],
      "execution_count": 7,
      "outputs": [
        {
          "output_type": "stream",
          "text": [
            "50.0\n"
          ],
          "name": "stdout"
        }
      ]
    },
    {
      "cell_type": "markdown",
      "metadata": {
        "id": "IKx28lHSy307"
      },
      "source": [
        "- **Q8** Can you print out the average temp from the weekend?"
      ]
    },
    {
      "cell_type": "code",
      "metadata": {
        "id": "GPJjHT1ly308",
        "colab": {
          "base_uri": "https://localhost:8080/"
        },
        "outputId": "00403ae3-8111-4f56-cd2f-38e3054dae7c"
      },
      "source": [
        "we_total = toronto_weather[\"Saturday\"] + \\\n",
        "                    toronto_weather[\"Sunday\"] \n",
        "\n",
        "print(we_total / 2)"
      ],
      "execution_count": 9,
      "outputs": [
        {
          "output_type": "stream",
          "text": [
            "6.0\n"
          ],
          "name": "stdout"
        }
      ]
    },
    {
      "cell_type": "markdown",
      "metadata": {
        "id": "XaC8VqOFy308"
      },
      "source": [
        "- **Q9** Can you print how many days you've been alive for (approximately) using the `age` variable?"
      ]
    },
    {
      "cell_type": "code",
      "metadata": {
        "id": "ubBMzUkHy309",
        "colab": {
          "base_uri": "https://localhost:8080/"
        },
        "outputId": "1e94100a-6092-4d63-e2bf-0cd39946ecaa"
      },
      "source": [
        "age = 365 * 40\n",
        "print(\"days alive: \" + str(age))"
      ],
      "execution_count": 11,
      "outputs": [
        {
          "output_type": "stream",
          "text": [
            "days alive: 14600\n"
          ],
          "name": "stdout"
        }
      ]
    },
    {
      "cell_type": "markdown",
      "metadata": {
        "id": "QNLm-_JYy30-"
      },
      "source": [
        "- **Q10** If you had 45 donuts and you were putting them in boxes that could hold 12 donuts, how many donuts would be in the last box?"
      ]
    },
    {
      "cell_type": "code",
      "metadata": {
        "id": "IVvEGYxPy30_",
        "colab": {
          "base_uri": "https://localhost:8080/"
        },
        "outputId": "aafbaf21-9a51-4a93-cfd9-778c2b930dae"
      },
      "source": [
        "lastbox = 45 % 12\n",
        "print(lastbox)"
      ],
      "execution_count": 12,
      "outputs": [
        {
          "output_type": "stream",
          "text": [
            "9\n"
          ],
          "name": "stdout"
        }
      ]
    },
    {
      "cell_type": "markdown",
      "metadata": {
        "id": "yx8TJ5Lyy30_"
      },
      "source": [
        "*** \n",
        "\n",
        "## Loops \n",
        "\n",
        "- When we want to repeat the same thing over and over again we put it in something called a loop. \n",
        "- Python lets you do **a lot** with loops without typing in much text\n",
        "- Here `crayon` is a temporary variable that only exists in the loop\n",
        "- Let's return to our example from earlier"
      ]
    },
    {
      "cell_type": "code",
      "metadata": {
        "id": "r3HVrSaIy31A",
        "colab": {
          "base_uri": "https://localhost:8080/"
        },
        "outputId": "320c8eb9-fb48-4140-ad4b-36f5ee7229d8"
      },
      "source": [
        "crayon_colours = [\"red\",\"blue\",\"yellow\"]\n",
        "\n",
        "for crayon in crayon_colours:\n",
        "    print(crayon)\n"
      ],
      "execution_count": 13,
      "outputs": [
        {
          "output_type": "stream",
          "text": [
            "red\n",
            "blue\n",
            "yellow\n"
          ],
          "name": "stdout"
        }
      ]
    },
    {
      "cell_type": "markdown",
      "metadata": {
        "id": "xGiPmJrMy31A"
      },
      "source": [
        "- The basic structure of a loop for us looks like the following\n",
        "\n",
        "```\n",
        "for loop_variable in list_variable:\n",
        "    #do this code\n",
        "```\n",
        "\n",
        "- `loop_variable` is a temporary variable that only exists in the loop. As soon as you finish the loop this goes away\n",
        "- `list_variable` is the variable you'd like to loop through. Often a list, but can be other things as we shall see\n"
      ]
    },
    {
      "cell_type": "markdown",
      "metadata": {
        "id": "1eJFUdPhy31B"
      },
      "source": [
        "Try questions Q11 - Q13 and type \"All done\" into the chat box"
      ]
    },
    {
      "cell_type": "markdown",
      "metadata": {
        "id": "xx7FAA3Xy31C"
      },
      "source": [
        "- **Q11** Can you write a loop to print all of the numbers in the list `numbers`?"
      ]
    },
    {
      "cell_type": "code",
      "metadata": {
        "id": "5jgU1Ncoy31C",
        "colab": {
          "base_uri": "https://localhost:8080/"
        },
        "outputId": "22a34c54-49a5-4425-b5a8-4e5d32d35e89"
      },
      "source": [
        "numbers = [1,2,3,4,5]\n",
        "\n",
        "for digit in numbers:\n",
        "    print(digit)"
      ],
      "execution_count": 14,
      "outputs": [
        {
          "output_type": "stream",
          "text": [
            "1\n",
            "2\n",
            "3\n",
            "4\n",
            "5\n"
          ],
          "name": "stdout"
        }
      ]
    },
    {
      "cell_type": "markdown",
      "metadata": {
        "id": "9z15RGyly31D"
      },
      "source": [
        "- **Q12** Can you make a loop that prints all of the letters in your name?"
      ]
    },
    {
      "cell_type": "code",
      "metadata": {
        "id": "896e4xVzy31D",
        "colab": {
          "base_uri": "https://localhost:8080/"
        },
        "outputId": "5218e813-d46f-4274-85a3-e72ee5bae9e4"
      },
      "source": [
        "user_name = \"ema watson\"\n",
        "for letter in user_name:\n",
        "  print(letter)"
      ],
      "execution_count": 15,
      "outputs": [
        {
          "output_type": "stream",
          "text": [
            "e\n",
            "m\n",
            "a\n",
            " \n",
            "w\n",
            "a\n",
            "t\n",
            "s\n",
            "o\n",
            "n\n"
          ],
          "name": "stdout"
        }
      ]
    },
    {
      "cell_type": "markdown",
      "metadata": {
        "id": "iP3vlhEHy31E"
      },
      "source": [
        "- **Q13** Can you write a loop that displays each letter of the string variable `alphabet`?"
      ]
    },
    {
      "cell_type": "code",
      "metadata": {
        "id": "Ooejmh6Cy31E",
        "colab": {
          "base_uri": "https://localhost:8080/"
        },
        "outputId": "87260a9f-ca55-4714-b1f6-2cb274081057"
      },
      "source": [
        "alphabet = \"abcdefghijklmnopqrstuvwxyz\"\n",
        "for letter in alphabet:\n",
        "  print(letter)"
      ],
      "execution_count": 16,
      "outputs": [
        {
          "output_type": "stream",
          "text": [
            "a\n",
            "b\n",
            "c\n",
            "d\n",
            "e\n",
            "f\n",
            "g\n",
            "h\n",
            "i\n",
            "j\n",
            "k\n",
            "l\n",
            "m\n",
            "n\n",
            "o\n",
            "p\n",
            "q\n",
            "r\n",
            "s\n",
            "t\n",
            "u\n",
            "v\n",
            "w\n",
            "x\n",
            "y\n",
            "z\n"
          ],
          "name": "stdout"
        }
      ]
    },
    {
      "cell_type": "markdown",
      "metadata": {
        "id": "aVVYObkOy31G"
      },
      "source": [
        "***\n",
        "\n",
        "## Dictionaries and Loops\n",
        "\n",
        "- Watch what happens when we try to do a loop through a dictionary"
      ]
    },
    {
      "cell_type": "code",
      "metadata": {
        "scrolled": false,
        "id": "ZsH5zo9my31K",
        "colab": {
          "base_uri": "https://localhost:8080/"
        },
        "outputId": "003df5eb-38c2-4d84-ca37-b6c1f27e723b"
      },
      "source": [
        "for day in toronto_weather:\n",
        "    print(day)"
      ],
      "execution_count": 17,
      "outputs": [
        {
          "output_type": "stream",
          "text": [
            "Monday\n",
            "Tuesday\n",
            "Wednesday\n",
            "Thursday\n",
            "Friday\n",
            "Saturday\n",
            "Sunday\n"
          ],
          "name": "stdout"
        }
      ]
    },
    {
      "cell_type": "markdown",
      "metadata": {
        "id": "POB7MG5ty31L"
      },
      "source": [
        "- Since dictionaries are more complex, there are many ways to interact with them\n",
        "- We add `.values()` to get the values of the dictionary\n",
        "- We add `.keys()` to get the keys of the dictionary"
      ]
    },
    {
      "cell_type": "code",
      "metadata": {
        "scrolled": false,
        "id": "_0HC74Pzy31M",
        "colab": {
          "base_uri": "https://localhost:8080/"
        },
        "outputId": "2ed16125-7c7a-4dc5-8913-3f17f864d2b7"
      },
      "source": [
        "#print all the items in our Dictionary\n",
        "\n",
        "for item in toronto_weather.values():\n",
        "    print(item)"
      ],
      "execution_count": 18,
      "outputs": [
        {
          "output_type": "stream",
          "text": [
            "10\n",
            "12\n",
            "15\n",
            "10\n",
            "9\n",
            "6\n",
            "6\n"
          ],
          "name": "stdout"
        }
      ]
    },
    {
      "cell_type": "code",
      "metadata": {
        "id": "Ntymx0yjy31N",
        "colab": {
          "base_uri": "https://localhost:8080/"
        },
        "outputId": "7c3129e5-9b6b-461a-c3cf-9406c825788b"
      },
      "source": [
        "# print out the keys in our Dictionary\n",
        "\n",
        "for item in toronto_weather.keys():\n",
        "    print(item)\n"
      ],
      "execution_count": 19,
      "outputs": [
        {
          "output_type": "stream",
          "text": [
            "Monday\n",
            "Tuesday\n",
            "Wednesday\n",
            "Thursday\n",
            "Friday\n",
            "Saturday\n",
            "Sunday\n"
          ],
          "name": "stdout"
        }
      ]
    },
    {
      "cell_type": "markdown",
      "metadata": {
        "id": "Fvm3G_6ay31O"
      },
      "source": [
        "***\n",
        "\n",
        "## Conditionals \n",
        "\n",
        "- When we want to run a piece of code only if something is true\n",
        "- We can compare with the following:\n",
        " - `==`\n",
        " - `>=`\n",
        " - `<=`\n",
        " - `<`\n",
        " - `>` \n",
        " - `!=`\n",
        " \n",
        " \n",
        " \n",
        " - When we just want to check one thing and if so run `code1`:\n",
        "```\n",
        "\n",
        "        if condition:\n",
        "            code1\n",
        "```\n",
        "\n",
        " - When we want to check something and do code1 or code2 if it is not so\n",
        "\n",
        "```\n",
        "        if condition:\n",
        "            code1\n",
        "        else:\n",
        "            code2\n",
        " ```"
      ]
    },
    {
      "cell_type": "markdown",
      "metadata": {
        "id": "AbllB3ZSy31P"
      },
      "source": [
        "- Let's pretend that anything over 10 degrees is hot. Let' make a conditional that prints out if it is hot on **Wednesday**"
      ]
    },
    {
      "cell_type": "code",
      "metadata": {
        "id": "FvQEKMTKy31Q",
        "colab": {
          "base_uri": "https://localhost:8080/"
        },
        "outputId": "855ae4bf-6af1-462f-ccf8-9305077aeae5"
      },
      "source": [
        "if toronto_weather[\"Wednesday\"] > 10:\n",
        "    print(\"Hot out today\")"
      ],
      "execution_count": 21,
      "outputs": [
        {
          "output_type": "stream",
          "text": [
            "Hot out today\n"
          ],
          "name": "stdout"
        }
      ]
    },
    {
      "cell_type": "markdown",
      "metadata": {
        "id": "VsiJ3lzqy31Q"
      },
      "source": [
        "Try questions Q14-Q15 and type \"check\" into the chat box when you are done"
      ]
    },
    {
      "cell_type": "markdown",
      "metadata": {
        "id": "JvKA8OMDy31R"
      },
      "source": [
        "- **Q14** Can you complete the following to make it print out \"It is cold\" when it is less then 10 degrees?"
      ]
    },
    {
      "cell_type": "code",
      "metadata": {
        "id": "gRHBeXVOy31R",
        "colab": {
          "base_uri": "https://localhost:8080/"
        },
        "outputId": "732d9ae5-8348-4749-a99d-0dced8c660a8"
      },
      "source": [
        "if toronto_weather[\"Sunday\"] < 10:\n",
        "    print(\"It is cold\")"
      ],
      "execution_count": 22,
      "outputs": [
        {
          "output_type": "stream",
          "text": [
            "It is cold\n"
          ],
          "name": "stdout"
        }
      ]
    },
    {
      "cell_type": "markdown",
      "metadata": {
        "id": "tg8zXrQMy31S"
      },
      "source": [
        "- **Q15** Can you write a loop that goes through all of the days of the week and prints 'Hot out Today' if the tempurature is above 10, and 'It is cold' if it is below or equal to 10 degrees?"
      ]
    },
    {
      "cell_type": "code",
      "metadata": {
        "id": "Hd9DGsivy31S",
        "colab": {
          "base_uri": "https://localhost:8080/"
        },
        "outputId": "0834bb1c-6d36-45a7-86e5-73ba4800a76f"
      },
      "source": [
        "for temp in toronto_weather.values():\n",
        "    \n",
        "    if temp > 10:\n",
        "        print(\"Hot out Today\")\n",
        "    else:\n",
        "        print(\"It is cold\")"
      ],
      "execution_count": 24,
      "outputs": [
        {
          "output_type": "stream",
          "text": [
            "It is cold\n",
            "Hot out Today\n",
            "Hot out Today\n",
            "It is cold\n",
            "It is cold\n",
            "It is cold\n",
            "It is cold\n"
          ],
          "name": "stdout"
        }
      ]
    },
    {
      "cell_type": "markdown",
      "metadata": {
        "id": "fr0kOEshy31T"
      },
      "source": [
        "***\n",
        "\n",
        "## Combining with boolean\n",
        "\n",
        "- Sometimes we want to combine conditionals because we want to test more complicated things\n",
        "- We can do this with the following:\n",
        " - `and`\n",
        " - `or`\n",
        " - `not`"
      ]
    },
    {
      "cell_type": "markdown",
      "metadata": {
        "id": "8MG36qldy31U"
      },
      "source": [
        "- Here's a quick game that demonstrates this\n",
        "- It will ask you to put a value in between 1 and 10\n",
        "- If you don't, it will let you know"
      ]
    },
    {
      "cell_type": "code",
      "metadata": {
        "id": "Jh4cV70Gy31U",
        "colab": {
          "base_uri": "https://localhost:8080/"
        },
        "outputId": "55ec05e6-91d3-4010-8201-70de5b928262"
      },
      "source": [
        "#we can turn a variable into a integer with the int() function\n",
        "number = int(input(\"Pick any number between 1 - 10: \"))\n",
        "\n",
        "if number > 10 or number < 1:\n",
        "    print(\"Sorry you didn't pick a number between 1 - 10\")\n",
        "else:\n",
        "    print(\"Your number is between 1 and 10!\")"
      ],
      "execution_count": 25,
      "outputs": [
        {
          "output_type": "stream",
          "text": [
            "Pick any number between 1 - 10: 13\n",
            "Sorry you didn't pick a number between 1 - 10\n"
          ],
          "name": "stdout"
        }
      ]
    },
    {
      "cell_type": "markdown",
      "metadata": {
        "id": "bx38gw2Ky31V"
      },
      "source": [
        "Try questions Q16, type \"all done\" when completed."
      ]
    },
    {
      "cell_type": "markdown",
      "metadata": {
        "id": "HWW0S3noy31V"
      },
      "source": [
        "- **Q16** Can you re-write the conditional from the game above to use an `and` to do the same thing? you'll need to use some operators from the **Conditionals** section above. **HINT** It will be easier if you use <= and >= "
      ]
    },
    {
      "cell_type": "code",
      "metadata": {
        "id": "h1XupHy9y31W",
        "colab": {
          "base_uri": "https://localhost:8080/"
        },
        "outputId": "63e4a378-5179-40c5-bbef-3dbac0f72f71"
      },
      "source": [
        "#we can turn a variable into a integer with the int() function\n",
        "#as with most programming tasks there are more then 1 way to accomplish something\n",
        "number = int(input(\"Pick any number between 1 - 10: \"))\n",
        "\n",
        "if number >=1 and number <= 10:\n",
        "    print(\"Your number is between 1 and 10!\")\n",
        "else:\n",
        "    print(\"Sorry you didn't pick a number between 1-10\")"
      ],
      "execution_count": 27,
      "outputs": [
        {
          "output_type": "stream",
          "text": [
            "Pick any number between 1 - 10: 16\n",
            "Sorry you didn't pick a number between 1-10\n"
          ],
          "name": "stdout"
        }
      ]
    },
    {
      "cell_type": "markdown",
      "metadata": {
        "id": "fDR9ViIDy31d"
      },
      "source": [
        "***\n",
        "\n",
        "## Functions\n",
        "\n",
        "- Functions are bits of code that do a certain task in a certain way\n",
        "- We saw this earlier with the `print()` function\n",
        "- We also just used the `int()` function in our game\n",
        "- some functions need _arguments_ or _paramaters_. We pass those in the the round brackets. EG. we pass what string variable we want turned into an integer with the `int()` function.\n",
        "- we can create our own functions too"
      ]
    },
    {
      "cell_type": "code",
      "metadata": {
        "id": "-q0M9ObOy31e",
        "colab": {
          "base_uri": "https://localhost:8080/"
        },
        "outputId": "f1d88c13-9804-4d1b-fae0-af5a86732a98"
      },
      "source": [
        "print(\"hello world\")\n",
        "int(number)"
      ],
      "execution_count": 28,
      "outputs": [
        {
          "output_type": "stream",
          "text": [
            "hello world\n"
          ],
          "name": "stdout"
        },
        {
          "output_type": "execute_result",
          "data": {
            "text/plain": [
              "16"
            ]
          },
          "metadata": {
            "tags": []
          },
          "execution_count": 28
        }
      ]
    },
    {
      "cell_type": "markdown",
      "metadata": {
        "id": "KBpLs-p1y31f"
      },
      "source": [
        "- A useful function is `len()` which tells you how long something is\n",
        "- Let's print how long our `user_name` is\n",
        "- Often a function can be applied to different types of variables and the results are ares you expect"
      ]
    },
    {
      "cell_type": "code",
      "metadata": {
        "id": "wnsY8vtNy31f",
        "colab": {
          "base_uri": "https://localhost:8080/"
        },
        "outputId": "82c9c5b7-9d01-4eb3-eb9d-1e34e0b0c1ed"
      },
      "source": [
        "len(user_name)"
      ],
      "execution_count": 30,
      "outputs": [
        {
          "output_type": "execute_result",
          "data": {
            "text/plain": [
              "10"
            ]
          },
          "metadata": {
            "tags": []
          },
          "execution_count": 30
        }
      ]
    },
    {
      "cell_type": "markdown",
      "metadata": {
        "id": "h3bkXBX_y31g"
      },
      "source": [
        "- **Q18** What would the following snippet print on the screen? (Try to figure it out before running it, put your answer in the chat)"
      ]
    },
    {
      "cell_type": "code",
      "metadata": {
        "id": "vrYZ2CVqy31g",
        "colab": {
          "base_uri": "https://localhost:8080/"
        },
        "outputId": "66947200-f1d6-4026-de82-28bd5cfd6afd"
      },
      "source": [
        "len(toronto_weather)"
      ],
      "execution_count": 31,
      "outputs": [
        {
          "output_type": "execute_result",
          "data": {
            "text/plain": [
              "7"
            ]
          },
          "metadata": {
            "tags": []
          },
          "execution_count": 31
        }
      ]
    },
    {
      "cell_type": "markdown",
      "metadata": {
        "id": "gPVKZxGyy31h"
      },
      "source": [
        "The structure of a function looks like the following:\n",
        "\n",
        "\n",
        "```\n",
        "def name_of_function(arguments)\n",
        "    #code\n",
        "    #code\n",
        "    return answer #not mandtory\n",
        "    \n",
        "```\n",
        "When our function produces a value that we use later we make use of `return`. That will pass the variable back to the place that called it. \n",
        "\n",
        "\n",
        "\n",
        "We've already seen how we call a functon:\n",
        "\n",
        "```\n",
        "name_of_function(arguments)\n",
        "\n",
        "```\n",
        "\n",
        "If you would like to print out the results of your function you need to surround it with the `print` function\n",
        "\n",
        "```\n",
        "print(name_of_function(arguments))\n",
        "\n",
        "```"
      ]
    },
    {
      "cell_type": "markdown",
      "metadata": {
        "id": "O6ljw_Vxy31i"
      },
      "source": [
        "First let's reload our Toronto Weather Data"
      ]
    },
    {
      "cell_type": "code",
      "metadata": {
        "id": "44FkfjHUy31i"
      },
      "source": [
        "toronto_weather = {\n",
        "    \"Monday\": 10,\n",
        "    \"Tuesday\" : 12,\n",
        "    \"Wednesday\" : 15,\n",
        "    \"Thursday\" : 10,\n",
        "    \"Friday\" : 9,\n",
        "    \"Saturday\" : 6,\n",
        "    \"Sunday\" : 6\n",
        "    }"
      ],
      "execution_count": 32,
      "outputs": []
    },
    {
      "cell_type": "markdown",
      "metadata": {
        "id": "VybV6hOmy31j"
      },
      "source": [
        "- The function below will change the temp to **F** from **C**\n",
        "- Statements can get pretty long if you call lots of functions in them\n",
        "- Here we find **Monday's** temp in **F** and print it"
      ]
    },
    {
      "cell_type": "code",
      "metadata": {
        "id": "VEtC4Shqy31k"
      },
      "source": [
        "def temp_to_f(celc):\n",
        "    return celc * 9/5 + 32\n",
        "\n",
        "print(temp_to_f(toronto_weather[\"Monday\"]))\n"
      ],
      "execution_count": null,
      "outputs": []
    },
    {
      "cell_type": "markdown",
      "metadata": {
        "id": "VYKxQkI3y31l"
      },
      "source": [
        "Try questions Q19 - Q22. Type \"I'm finally finished!\" into the chat when you are done"
      ]
    },
    {
      "cell_type": "markdown",
      "metadata": {
        "id": "58MWQW_wy31m"
      },
      "source": [
        "- **Q19** Can you write a function that finds the average temperature for the week? You just need to modify line 10."
      ]
    },
    {
      "cell_type": "code",
      "metadata": {
        "id": "g1TYmcWay31m",
        "colab": {
          "base_uri": "https://localhost:8080/"
        },
        "outputId": "81fd13b6-cdb3-4850-d002-6dcd2756b4e5"
      },
      "source": [
        "def week_avg_c(toronto_weather):\n",
        "    \n",
        "    total_degrees  = 0\n",
        "    \n",
        "    for day in toronto_weather.values():\n",
        "        total_degrees = total_degrees + day\n",
        "    \n",
        "    #total_degrees has the sum of all 7 days of temp readings\n",
        "    #you just need to modify the next line: \n",
        "    return total_degrees / 7\n",
        "\n",
        "print(week_avg_c(toronto_weather))\n"
      ],
      "execution_count": 33,
      "outputs": [
        {
          "output_type": "stream",
          "text": [
            "9.714285714285714\n"
          ],
          "name": "stdout"
        }
      ]
    },
    {
      "cell_type": "markdown",
      "metadata": {
        "id": "6irTVVtuy31o"
      },
      "source": [
        "- **Q20** Can you write a function that finds the average temp for the week but in **F**? You just need to modify line 4."
      ]
    },
    {
      "cell_type": "code",
      "metadata": {
        "id": "C7hElVdhy31u",
        "colab": {
          "base_uri": "https://localhost:8080/"
        },
        "outputId": "6be2902d-8356-4893-d847-f8269d690e85"
      },
      "source": [
        "def week_avg_f(toronto_weather):\n",
        "    \n",
        "    #You just need to add one thing to the line below\n",
        "    #HINT: It is something we've seen already\n",
        "    avg_temp_f = week_avg_c(toronto_weather) * 9/5 + 32\n",
        "    return avg_temp_f\n",
        "\n",
        "\n",
        "print(week_avg_f(toronto_weather))\n"
      ],
      "execution_count": 34,
      "outputs": [
        {
          "output_type": "stream",
          "text": [
            "49.48571428571428\n"
          ],
          "name": "stdout"
        }
      ]
    },
    {
      "cell_type": "markdown",
      "metadata": {
        "id": "xIvB2qmYy31v"
      },
      "source": [
        "- **Q21** Can you write a function that finds the average temperature for the weekend? (Some of it is there for you) HINT: Check out question 19 for inspiration. You just need to modify lines 5 and 8."
      ]
    },
    {
      "cell_type": "code",
      "metadata": {
        "id": "D-dNN8Yvy31w",
        "colab": {
          "base_uri": "https://localhost:8080/"
        },
        "outputId": "1b762d37-15be-4341-8dbf-5ee2fdbabc79"
      },
      "source": [
        "\n",
        "def weekend_avg_c(toronto_weather):\n",
        "\n",
        "    #A weekend is Saturday and Sunday. You need to find the sum of those two temps \n",
        "    total_degrees = toronto_weather[\"Saturday\"] + toronto_weather[\"Sunday\"]\n",
        "    \n",
        "    #total_degrees has the sum of the weekend temps.\n",
        "    return total_degrees / 2\n",
        "\n",
        "\n",
        "print(weekend_avg_c(toronto_weather))\n",
        "\n"
      ],
      "execution_count": 35,
      "outputs": [
        {
          "output_type": "stream",
          "text": [
            "6.0\n"
          ],
          "name": "stdout"
        }
      ]
    },
    {
      "cell_type": "markdown",
      "metadata": {
        "id": "4L3Al9V8y31x"
      },
      "source": [
        "- **Q22** Can you write a function that finds the average temperature for the weekend in **F**? (Some of it is ther for you) HINT: look at Q20 for inspiration"
      ]
    },
    {
      "cell_type": "code",
      "metadata": {
        "id": "qkjU4Nxwy31y",
        "colab": {
          "base_uri": "https://localhost:8080/"
        },
        "outputId": "b7265bd6-3947-4f5a-a563-afd21cea3a18"
      },
      "source": [
        "def weekend_avg_f(toronto_weather):\n",
        "\n",
        "    #You just need to change the line below\n",
        "    avg_temp_f = weekend_avg_c(toronto_weather) * 9/5 + 32\n",
        "    return avg_temp_f\n",
        "\n",
        "\n",
        "print(weekend_avg_f(toronto_weather))\n"
      ],
      "execution_count": 36,
      "outputs": [
        {
          "output_type": "stream",
          "text": [
            "42.8\n"
          ],
          "name": "stdout"
        }
      ]
    },
    {
      "cell_type": "markdown",
      "metadata": {
        "id": "QQg7K4l9y31z"
      },
      "source": [
        "***\n",
        "\n",
        "# Congrats!\n",
        "\n",
        "You now know the basics of Python. Let's try another exercise that does some basic [text analysis](02_text_analysis.ipynb)"
      ]
    },
    {
      "cell_type": "markdown",
      "metadata": {
        "id": "wf89Qfg4y31z"
      },
      "source": [
        "## Further Reading\n",
        "\n",
        "- Now that we've handled the basics here are some interesting next steps you can persue.\n",
        "\n",
        "[Kaggle](https://www.kaggle.com/) - An online portal that teaches data science using Notebooks, also has contests for cash prizes\n",
        "\n",
        "[Python the Hard Way](https://learntocodetogether.com/learn-python-the-hard-way-free-ebook-download/) - Don't let the name fool you, this book is a great introduction to Python and programming more generally\n",
        "\n",
        "[Python 2.0](https://brockdsl.github.io/Python_2.0_Workshop/) - Our level 2 workshop that introduces more Python stuff\n",
        "\n",
        "[Data Analysis with Python and Sci Hub](https://brockdsl.github.io/SciHub_Workshop/) - A tutorial on using Python to analyze Sci-Hub data.\n"
      ]
    }
  ]
}