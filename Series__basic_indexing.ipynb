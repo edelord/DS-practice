{
  "nbformat": 4,
  "nbformat_minor": 0,
  "metadata": {
    "colab": {
      "name": "Series__basic_indexing.ipynb",
      "provenance": [],
      "authorship_tag": "ABX9TyMYldH00xqYZjTnavoUo2dX",
      "include_colab_link": true
    },
    "kernelspec": {
      "name": "python3",
      "display_name": "Python 3"
    },
    "language_info": {
      "name": "python"
    }
  },
  "cells": [
    {
      "cell_type": "markdown",
      "metadata": {
        "id": "view-in-github",
        "colab_type": "text"
      },
      "source": [
        "<a href=\"https://colab.research.google.com/github/edelord/DS-practice/blob/main/Series__basic_indexing.ipynb\" target=\"_parent\"><img src=\"https://colab.research.google.com/assets/colab-badge.svg\" alt=\"Open In Colab\"/></a>"
      ]
    },
    {
      "cell_type": "code",
      "metadata": {
        "colab": {
          "base_uri": "https://localhost:8080/"
        },
        "id": "HnkVgw5vYxHl",
        "outputId": "c0357f6f-36e2-43f8-953c-fab15ac79c74"
      },
      "source": [
        "import numpy as np\n",
        "import pandas as pd\n",
        "\n",
        "x = pd.Series([5, 10, 15, 20, 25])\n",
        "print(x)\n",
        "## 0     5\n",
        "## 1    10\n",
        "## 2    15\n",
        "## 3    20\n",
        "## 4    25\n",
        "## dtype: int64\n",
        "\n",
        "x[0]\n",
        "## 5\n",
        "x[1]\n",
        "## 10\n",
        "\n",
        "x.index = [3,1,4,0,2]\n",
        "print(x)\n",
        "## 3     5\n",
        "## 1    10\n",
        "## 4    15\n",
        "## 0    20\n",
        "## 2    25\n",
        "## dtype: int64\n",
        "\n",
        "# Now x[0] returns something totally different.\n",
        "x[0]\n",
        "## 20\n",
        "\n",
        "# So, if you want to access the ith value of a Series, you should use the Series.iloc property. \n",
        "# For example x.iloc[0] returns the first element by position, and x.iloc[1] returns the 2nd element by position.\n",
        "x.iloc[0]\n",
        "## 5\n",
        "x.iloc[1]\n",
        "## 10\n",
        "\n",
        "x.iloc[-1]\n",
        "## 25\n",
        "x.iloc[-3]\n",
        "## 15\n",
        "\n",
        "x.iloc[1:4:2]\n",
        "## 1    10\n",
        "## 0    20\n",
        "## dtype: int64\n",
        "\n",
        "x.iloc[[0, 2, 3]]\n",
        "## 3     5\n",
        "## 4    15\n",
        "## 0    20\n",
        "## dtype: int64\n",
        "x.iloc[np.array([0, 2, 3])]\n",
        "## 3     5\n",
        "## 4    15\n",
        "## 0    20\n",
        "## dtype: int64\n",
        "x.iloc[pd.Series([0, 2, 3])]\n",
        "## 3     5\n",
        "## 4    15\n",
        "## 0    20\n",
        "## dtype: int64\n"
      ],
      "execution_count": 1,
      "outputs": [
        {
          "output_type": "stream",
          "text": [
            "0     5\n",
            "1    10\n",
            "2    15\n",
            "3    20\n",
            "4    25\n",
            "dtype: int64\n",
            "3     5\n",
            "1    10\n",
            "4    15\n",
            "0    20\n",
            "2    25\n",
            "dtype: int64\n"
          ],
          "name": "stdout"
        },
        {
          "output_type": "execute_result",
          "data": {
            "text/plain": [
              "3     5\n",
              "4    15\n",
              "0    20\n",
              "dtype: int64"
            ]
          },
          "metadata": {
            "tags": []
          },
          "execution_count": 1
        }
      ]
    },
    {
      "cell_type": "code",
      "metadata": {
        "colab": {
          "base_uri": "https://localhost:8080/"
        },
        "id": "WKRNlWxvbRpd",
        "outputId": "9c89acf5-04f3-4e29-e53a-e81887bbc3f1"
      },
      "source": [
        "grades = pd.Series([82, 94, 77, 89, 91, 54])\n",
        "print(grades)\n",
        "## 0    82\n",
        "## 1    94\n",
        "## 2    77\n",
        "## 3    89\n",
        "## 4    91\n",
        "## 5    54\n",
        "## dtype: int64"
      ],
      "execution_count": 2,
      "outputs": [
        {
          "output_type": "stream",
          "text": [
            "0    82\n",
            "1    94\n",
            "2    77\n",
            "3    89\n",
            "4    91\n",
            "5    54\n",
            "dtype: int64\n"
          ],
          "name": "stdout"
        }
      ]
    },
    {
      "cell_type": "code",
      "metadata": {
        "colab": {
          "base_uri": "https://localhost:8080/"
        },
        "id": "-YTKgJ7TbUl0",
        "outputId": "2362fc66-79f1-47c2-83d7-2032a8e35224"
      },
      "source": [
        "grades.index = ['homer', 'maggie', 'grandpa', 'bart', 'lisa', 'marge']\n",
        "print(grades)\n",
        "## homer      82\n",
        "## maggie     94\n",
        "## grandpa    77\n",
        "## bart       89\n",
        "## lisa       91\n",
        "## marge      54\n",
        "## dtype: int64"
      ],
      "execution_count": 3,
      "outputs": [
        {
          "output_type": "stream",
          "text": [
            "homer      82\n",
            "maggie     94\n",
            "grandpa    77\n",
            "bart       89\n",
            "lisa       91\n",
            "marge      54\n",
            "dtype: int64\n"
          ],
          "name": "stdout"
        }
      ]
    },
    {
      "cell_type": "code",
      "metadata": {
        "colab": {
          "base_uri": "https://localhost:8080/"
        },
        "id": "OJ5d4O4vbbpY",
        "outputId": "6fb2bd82-86c9-494a-f684-6083cdfb97f1"
      },
      "source": [
        "grades['bart']\n",
        "## 89"
      ],
      "execution_count": 4,
      "outputs": [
        {
          "output_type": "execute_result",
          "data": {
            "text/plain": [
              "89"
            ]
          },
          "metadata": {
            "tags": []
          },
          "execution_count": 4
        }
      ]
    },
    {
      "cell_type": "code",
      "metadata": {
        "colab": {
          "base_uri": "https://localhost:8080/"
        },
        "id": "AR76TBs7bixD",
        "outputId": "54de5415-f3cf-4929-f60b-5a3b00050563"
      },
      "source": [
        "grades[0]\n",
        "## 82"
      ],
      "execution_count": 5,
      "outputs": [
        {
          "output_type": "execute_result",
          "data": {
            "text/plain": [
              "82"
            ]
          },
          "metadata": {
            "tags": []
          },
          "execution_count": 5
        }
      ]
    },
    {
      "cell_type": "code",
      "metadata": {
        "colab": {
          "base_uri": "https://localhost:8080/"
        },
        "id": "XltHtrnJbuWg",
        "outputId": "f7ac5064-38cf-4034-f9d3-7f5f07050023"
      },
      "source": [
        "grades.loc['homer':'grandpa']\n",
        "## homer      82\n",
        "## maggie     94\n",
        "## grandpa    77\n",
        "## dtype: int64"
      ],
      "execution_count": 6,
      "outputs": [
        {
          "output_type": "execute_result",
          "data": {
            "text/plain": [
              "homer      82\n",
              "maggie     94\n",
              "grandpa    77\n",
              "dtype: int64"
            ]
          },
          "metadata": {
            "tags": []
          },
          "execution_count": 6
        }
      ]
    },
    {
      "cell_type": "code",
      "metadata": {
        "colab": {
          "base_uri": "https://localhost:8080/"
        },
        "id": "SfCjbs-Rbx8u",
        "outputId": "86933d0c-2809-42d9-a2dc-3956091514d3"
      },
      "source": [
        "grades.iloc[0:2]\n",
        "## homer     82\n",
        "## maggie    94\n",
        "## dtype: int64"
      ],
      "execution_count": 7,
      "outputs": [
        {
          "output_type": "execute_result",
          "data": {
            "text/plain": [
              "homer     82\n",
              "maggie    94\n",
              "dtype: int64"
            ]
          },
          "metadata": {
            "tags": []
          },
          "execution_count": 7
        }
      ]
    },
    {
      "cell_type": "code",
      "metadata": {
        "colab": {
          "base_uri": "https://localhost:8080/"
        },
        "id": "lX6FkrQ3b4kE",
        "outputId": "357ade12-3466-4c8c-c9d9-4735784fc787"
      },
      "source": [
        "grades.loc[['homer', 'grandpa', 'bart']]\n",
        "## homer      82\n",
        "## grandpa    77\n",
        "## bart       89\n",
        "## dtype: int64"
      ],
      "execution_count": 8,
      "outputs": [
        {
          "output_type": "execute_result",
          "data": {
            "text/plain": [
              "homer      82\n",
              "grandpa    77\n",
              "bart       89\n",
              "dtype: int64"
            ]
          },
          "metadata": {
            "tags": []
          },
          "execution_count": 8
        }
      ]
    },
    {
      "cell_type": "code",
      "metadata": {
        "colab": {
          "base_uri": "https://localhost:8080/"
        },
        "id": "e_keNvMvb9Fb",
        "outputId": "76456b15-d46a-44d7-82b7-521663153dd2"
      },
      "source": [
        "x = pd.Series(np.random.normal(size = 10**6))\n",
        "print(x.index)\n",
        "## RangeIndex(start=0, stop=1000000, step=1)"
      ],
      "execution_count": 9,
      "outputs": [
        {
          "output_type": "stream",
          "text": [
            "RangeIndex(start=0, stop=1000000, step=1)\n"
          ],
          "name": "stdout"
        }
      ]
    },
    {
      "cell_type": "code",
      "metadata": {
        "colab": {
          "base_uri": "https://localhost:8080/"
        },
        "id": "XR49jim_cCcc",
        "outputId": "fa2d239b-092f-408f-d0f3-400d96f0a147"
      },
      "source": [
        "y = pd.Series(np.random.normal(size = 10**6), index=np.arange(10**6))\n",
        "print(y.index)\n",
        "## Int64Index([     0,      1,      2,      3,      4,      5,      6,      7,\n",
        "##                  8,      9,\n",
        "##             ...\n",
        "##             999990, 999991, 999992, 999993, 999994, 999995, 999996, 999997,\n",
        "##             999998, 999999],\n",
        "##            dtype='int64', length=1000000)"
      ],
      "execution_count": 10,
      "outputs": [
        {
          "output_type": "stream",
          "text": [
            "Int64Index([     0,      1,      2,      3,      4,      5,      6,      7,\n",
            "                 8,      9,\n",
            "            ...\n",
            "            999990, 999991, 999992, 999993, 999994, 999995, 999996, 999997,\n",
            "            999998, 999999],\n",
            "           dtype='int64', length=1000000)\n"
          ],
          "name": "stdout"
        }
      ]
    },
    {
      "cell_type": "code",
      "metadata": {
        "colab": {
          "base_uri": "https://localhost:8080/"
        },
        "id": "dcbQGMMIcHmx",
        "outputId": "bb8487dc-0bb1-419e-de2b-2a3deb7e20cd"
      },
      "source": [
        "import sys\n",
        "sys.getsizeof(x)\n",
        "## 8000144\n",
        "sys.getsizeof(y)\n",
        "## 16000016"
      ],
      "execution_count": 11,
      "outputs": [
        {
          "output_type": "execute_result",
          "data": {
            "text/plain": [
              "16000032"
            ]
          },
          "metadata": {
            "tags": []
          },
          "execution_count": 11
        }
      ]
    },
    {
      "cell_type": "code",
      "metadata": {
        "colab": {
          "base_uri": "https://localhost:8080/"
        },
        "id": "rMhkZTFDcTrk",
        "outputId": "cd2a058a-4360-411f-ea86-95348058589a"
      },
      "source": [
        "alpha = pd.Series([2, 3, 5, 7, 11], index = [0, 0, 1, 1, 2])\n",
        "print(alpha)\n",
        "## 0     2\n",
        "## 0     3\n",
        "## 1     5\n",
        "## 1     7\n",
        "## 2    11\n",
        "## dtype: int64"
      ],
      "execution_count": 12,
      "outputs": [
        {
          "output_type": "stream",
          "text": [
            "0     2\n",
            "0     3\n",
            "1     5\n",
            "1     7\n",
            "2    11\n",
            "dtype: int64\n"
          ],
          "name": "stdout"
        }
      ]
    },
    {
      "cell_type": "code",
      "metadata": {
        "colab": {
          "base_uri": "https://localhost:8080/"
        },
        "id": "O1qx1kSvcX_a",
        "outputId": "3f97f3da-4c6c-4231-fe81-47642c005f78"
      },
      "source": [
        "alpha.loc[0]\n",
        "## 0    2\n",
        "## 0    3\n",
        "## dtype: int64"
      ],
      "execution_count": 13,
      "outputs": [
        {
          "output_type": "execute_result",
          "data": {
            "text/plain": [
              "0    2\n",
              "0    3\n",
              "dtype: int64"
            ]
          },
          "metadata": {
            "tags": []
          },
          "execution_count": 13
        }
      ]
    },
    {
      "cell_type": "markdown",
      "metadata": {
        "id": "0jodOPEUc0Ey"
      },
      "source": [
        "Change or overwrite series elements"
      ]
    },
    {
      "cell_type": "code",
      "metadata": {
        "colab": {
          "base_uri": "https://localhost:8080/"
        },
        "id": "inklmHWychzV",
        "outputId": "6c7ae254-efaa-4770-d356-3de60a8298f4"
      },
      "source": [
        "foo = pd.Series([10, 20, 30, 40, 50], index=['a', 'b', 'c', 'd', 'e'])\n",
        "print(foo)\n",
        "## a    10\n",
        "## b    20\n",
        "## c    30\n",
        "## d    40\n",
        "## e    50\n",
        "## dtype: int64"
      ],
      "execution_count": 14,
      "outputs": [
        {
          "output_type": "stream",
          "text": [
            "a    10\n",
            "b    20\n",
            "c    30\n",
            "d    40\n",
            "e    50\n",
            "dtype: int64\n"
          ],
          "name": "stdout"
        }
      ]
    },
    {
      "cell_type": "code",
      "metadata": {
        "id": "QEusgSGLcsMi"
      },
      "source": [
        "foo.iloc[1] = 200"
      ],
      "execution_count": 15,
      "outputs": []
    },
    {
      "cell_type": "code",
      "metadata": {
        "id": "UdNqYil0cxV9"
      },
      "source": [
        "foo.iloc[[0, 1, 2]] = 99"
      ],
      "execution_count": 16,
      "outputs": []
    },
    {
      "cell_type": "code",
      "metadata": {
        "id": "mV21X5N2c-bm"
      },
      "source": [
        "foo.iloc[:3] = 999"
      ],
      "execution_count": 17,
      "outputs": []
    },
    {
      "cell_type": "code",
      "metadata": {
        "id": "YFl9krojdA85"
      },
      "source": [
        "foo.iloc[1] = 200        # same as: foo.loc['b'] = 200\n",
        "foo.iloc[[0, 1, 2]] = 99 # same as: foo.loc[['a', 'b', 'c']] = 99\n",
        "foo.iloc[:3] = 999       # same as: foo.loc['a':'c'] = 99"
      ],
      "execution_count": 18,
      "outputs": []
    },
    {
      "cell_type": "code",
      "metadata": {
        "id": "ighhJ0AldFQ7"
      },
      "source": [
        "new_vals = np.array([5, 10, 15, 20, 25])"
      ],
      "execution_count": 19,
      "outputs": []
    },
    {
      "cell_type": "code",
      "metadata": {
        "colab": {
          "base_uri": "https://localhost:8080/"
        },
        "id": "c_IKBaINdJYT",
        "outputId": "ef46df12-b6b8-4ef6-f505-b399c4a4ab06"
      },
      "source": [
        "foo.iloc[:] = new_vals\n",
        "print(foo)\n",
        "## a     5\n",
        "## b    10\n",
        "## c    15\n",
        "## d    20\n",
        "## e    25\n",
        "## dtype: int64"
      ],
      "execution_count": 20,
      "outputs": [
        {
          "output_type": "stream",
          "text": [
            "a     5\n",
            "b    10\n",
            "c    15\n",
            "d    20\n",
            "e    25\n",
            "dtype: int64\n"
          ],
          "name": "stdout"
        }
      ]
    },
    {
      "cell_type": "code",
      "metadata": {
        "colab": {
          "base_uri": "https://localhost:8080/"
        },
        "id": "KM96vFFKdLxO",
        "outputId": "ae30670e-2440-4db5-9e86-5697c96d4790"
      },
      "source": [
        "x = pd.Series([10, 20, 30, 40])\n",
        "print(x)\n",
        "## 0    10\n",
        "## 1    20\n",
        "## 2    30\n",
        "## 3    40\n",
        "## dtype: int64"
      ],
      "execution_count": 21,
      "outputs": [
        {
          "output_type": "stream",
          "text": [
            "0    10\n",
            "1    20\n",
            "2    30\n",
            "3    40\n",
            "dtype: int64\n"
          ],
          "name": "stdout"
        }
      ]
    },
    {
      "cell_type": "code",
      "metadata": {
        "colab": {
          "base_uri": "https://localhost:8080/"
        },
        "id": "iz4-vPt0dSwR",
        "outputId": "5c3041c6-ab46-4b08-ae70-6fef9f7bc787"
      },
      "source": [
        "y = pd.Series([1, 11, 111, 1111], index=[7,3,2,0])\n",
        "print(y)\n",
        "## 7       1\n",
        "## 3      11\n",
        "## 2     111\n",
        "## 0    1111\n",
        "## dtype: int64"
      ],
      "execution_count": 22,
      "outputs": [
        {
          "output_type": "stream",
          "text": [
            "7       1\n",
            "3      11\n",
            "2     111\n",
            "0    1111\n",
            "dtype: int64\n"
          ],
          "name": "stdout"
        }
      ]
    },
    {
      "cell_type": "code",
      "metadata": {
        "colab": {
          "base_uri": "https://localhost:8080/"
        },
        "id": "JwY4-Q_edWq3",
        "outputId": "a41dee8d-020b-4dc1-a80a-8c9b746cd3c8"
      },
      "source": [
        "x.loc[[0, 1]] = y\n",
        "print(x)\n",
        "## 0    1111.0\n",
        "## 1       NaN\n",
        "## 2      30.0\n",
        "## 3      40.0\n",
        "## dtype: float64"
      ],
      "execution_count": 23,
      "outputs": [
        {
          "output_type": "stream",
          "text": [
            "0    1111.0\n",
            "1       NaN\n",
            "2      30.0\n",
            "3      40.0\n",
            "dtype: float64\n"
          ],
          "name": "stdout"
        }
      ]
    },
    {
      "cell_type": "code",
      "metadata": {
        "colab": {
          "base_uri": "https://localhost:8080/",
          "height": 306
        },
        "id": "CdPJfhkAdb4W",
        "outputId": "2348706c-ca30-4d44-cb50-aef6559eaa80"
      },
      "source": [
        "x.loc[[0, 1]] = y.to_numpy()  # ERROR"
      ],
      "execution_count": 24,
      "outputs": [
        {
          "output_type": "error",
          "ename": "ValueError",
          "evalue": "ignored",
          "traceback": [
            "\u001b[0;31m---------------------------------------------------------------------------\u001b[0m",
            "\u001b[0;31mValueError\u001b[0m                                Traceback (most recent call last)",
            "\u001b[0;32m<ipython-input-24-c12d23bfcff8>\u001b[0m in \u001b[0;36m<module>\u001b[0;34m()\u001b[0m\n\u001b[0;32m----> 1\u001b[0;31m \u001b[0mx\u001b[0m\u001b[0;34m.\u001b[0m\u001b[0mloc\u001b[0m\u001b[0;34m[\u001b[0m\u001b[0;34m[\u001b[0m\u001b[0;36m0\u001b[0m\u001b[0;34m,\u001b[0m \u001b[0;36m1\u001b[0m\u001b[0;34m]\u001b[0m\u001b[0;34m]\u001b[0m \u001b[0;34m=\u001b[0m \u001b[0my\u001b[0m\u001b[0;34m.\u001b[0m\u001b[0mto_numpy\u001b[0m\u001b[0;34m(\u001b[0m\u001b[0;34m)\u001b[0m  \u001b[0;31m# ERROR\u001b[0m\u001b[0;34m\u001b[0m\u001b[0;34m\u001b[0m\u001b[0m\n\u001b[0m",
            "\u001b[0;32m/usr/local/lib/python3.7/dist-packages/pandas/core/indexing.py\u001b[0m in \u001b[0;36m__setitem__\u001b[0;34m(self, key, value)\u001b[0m\n\u001b[1;32m    668\u001b[0m \u001b[0;34m\u001b[0m\u001b[0m\n\u001b[1;32m    669\u001b[0m         \u001b[0miloc\u001b[0m \u001b[0;34m=\u001b[0m \u001b[0mself\u001b[0m \u001b[0;32mif\u001b[0m \u001b[0mself\u001b[0m\u001b[0;34m.\u001b[0m\u001b[0mname\u001b[0m \u001b[0;34m==\u001b[0m \u001b[0;34m\"iloc\"\u001b[0m \u001b[0;32melse\u001b[0m \u001b[0mself\u001b[0m\u001b[0;34m.\u001b[0m\u001b[0mobj\u001b[0m\u001b[0;34m.\u001b[0m\u001b[0miloc\u001b[0m\u001b[0;34m\u001b[0m\u001b[0;34m\u001b[0m\u001b[0m\n\u001b[0;32m--> 670\u001b[0;31m         \u001b[0miloc\u001b[0m\u001b[0;34m.\u001b[0m\u001b[0m_setitem_with_indexer\u001b[0m\u001b[0;34m(\u001b[0m\u001b[0mindexer\u001b[0m\u001b[0;34m,\u001b[0m \u001b[0mvalue\u001b[0m\u001b[0;34m)\u001b[0m\u001b[0;34m\u001b[0m\u001b[0;34m\u001b[0m\u001b[0m\n\u001b[0m\u001b[1;32m    671\u001b[0m \u001b[0;34m\u001b[0m\u001b[0m\n\u001b[1;32m    672\u001b[0m     \u001b[0;32mdef\u001b[0m \u001b[0m_validate_key\u001b[0m\u001b[0;34m(\u001b[0m\u001b[0mself\u001b[0m\u001b[0;34m,\u001b[0m \u001b[0mkey\u001b[0m\u001b[0;34m,\u001b[0m \u001b[0maxis\u001b[0m\u001b[0;34m:\u001b[0m \u001b[0mint\u001b[0m\u001b[0;34m)\u001b[0m\u001b[0;34m:\u001b[0m\u001b[0;34m\u001b[0m\u001b[0;34m\u001b[0m\u001b[0m\n",
            "\u001b[0;32m/usr/local/lib/python3.7/dist-packages/pandas/core/indexing.py\u001b[0m in \u001b[0;36m_setitem_with_indexer\u001b[0;34m(self, indexer, value)\u001b[0m\n\u001b[1;32m   1798\u001b[0m             \u001b[0;31m# actually do the set\u001b[0m\u001b[0;34m\u001b[0m\u001b[0;34m\u001b[0m\u001b[0;34m\u001b[0m\u001b[0m\n\u001b[1;32m   1799\u001b[0m             \u001b[0mself\u001b[0m\u001b[0;34m.\u001b[0m\u001b[0mobj\u001b[0m\u001b[0;34m.\u001b[0m\u001b[0m_consolidate_inplace\u001b[0m\u001b[0;34m(\u001b[0m\u001b[0;34m)\u001b[0m\u001b[0;34m\u001b[0m\u001b[0;34m\u001b[0m\u001b[0m\n\u001b[0;32m-> 1800\u001b[0;31m             \u001b[0mself\u001b[0m\u001b[0;34m.\u001b[0m\u001b[0mobj\u001b[0m\u001b[0;34m.\u001b[0m\u001b[0m_mgr\u001b[0m \u001b[0;34m=\u001b[0m \u001b[0mself\u001b[0m\u001b[0;34m.\u001b[0m\u001b[0mobj\u001b[0m\u001b[0;34m.\u001b[0m\u001b[0m_mgr\u001b[0m\u001b[0;34m.\u001b[0m\u001b[0msetitem\u001b[0m\u001b[0;34m(\u001b[0m\u001b[0mindexer\u001b[0m\u001b[0;34m=\u001b[0m\u001b[0mindexer\u001b[0m\u001b[0;34m,\u001b[0m \u001b[0mvalue\u001b[0m\u001b[0;34m=\u001b[0m\u001b[0mvalue\u001b[0m\u001b[0;34m)\u001b[0m\u001b[0;34m\u001b[0m\u001b[0;34m\u001b[0m\u001b[0m\n\u001b[0m\u001b[1;32m   1801\u001b[0m             \u001b[0mself\u001b[0m\u001b[0;34m.\u001b[0m\u001b[0mobj\u001b[0m\u001b[0;34m.\u001b[0m\u001b[0m_maybe_update_cacher\u001b[0m\u001b[0;34m(\u001b[0m\u001b[0mclear\u001b[0m\u001b[0;34m=\u001b[0m\u001b[0;32mTrue\u001b[0m\u001b[0;34m)\u001b[0m\u001b[0;34m\u001b[0m\u001b[0;34m\u001b[0m\u001b[0m\n\u001b[1;32m   1802\u001b[0m \u001b[0;34m\u001b[0m\u001b[0m\n",
            "\u001b[0;32m/usr/local/lib/python3.7/dist-packages/pandas/core/internals/managers.py\u001b[0m in \u001b[0;36msetitem\u001b[0;34m(self, indexer, value)\u001b[0m\n\u001b[1;32m    541\u001b[0m \u001b[0;34m\u001b[0m\u001b[0m\n\u001b[1;32m    542\u001b[0m     \u001b[0;32mdef\u001b[0m \u001b[0msetitem\u001b[0m\u001b[0;34m(\u001b[0m\u001b[0mself\u001b[0m\u001b[0;34m,\u001b[0m \u001b[0mindexer\u001b[0m\u001b[0;34m,\u001b[0m \u001b[0mvalue\u001b[0m\u001b[0;34m)\u001b[0m \u001b[0;34m->\u001b[0m \u001b[0;34m\"BlockManager\"\u001b[0m\u001b[0;34m:\u001b[0m\u001b[0;34m\u001b[0m\u001b[0;34m\u001b[0m\u001b[0m\n\u001b[0;32m--> 543\u001b[0;31m         \u001b[0;32mreturn\u001b[0m \u001b[0mself\u001b[0m\u001b[0;34m.\u001b[0m\u001b[0mapply\u001b[0m\u001b[0;34m(\u001b[0m\u001b[0;34m\"setitem\"\u001b[0m\u001b[0;34m,\u001b[0m \u001b[0mindexer\u001b[0m\u001b[0;34m=\u001b[0m\u001b[0mindexer\u001b[0m\u001b[0;34m,\u001b[0m \u001b[0mvalue\u001b[0m\u001b[0;34m=\u001b[0m\u001b[0mvalue\u001b[0m\u001b[0;34m)\u001b[0m\u001b[0;34m\u001b[0m\u001b[0;34m\u001b[0m\u001b[0m\n\u001b[0m\u001b[1;32m    544\u001b[0m \u001b[0;34m\u001b[0m\u001b[0m\n\u001b[1;32m    545\u001b[0m     def putmask(\n",
            "\u001b[0;32m/usr/local/lib/python3.7/dist-packages/pandas/core/internals/managers.py\u001b[0m in \u001b[0;36mapply\u001b[0;34m(self, f, align_keys, **kwargs)\u001b[0m\n\u001b[1;32m    407\u001b[0m                 \u001b[0mapplied\u001b[0m \u001b[0;34m=\u001b[0m \u001b[0mb\u001b[0m\u001b[0;34m.\u001b[0m\u001b[0mapply\u001b[0m\u001b[0;34m(\u001b[0m\u001b[0mf\u001b[0m\u001b[0;34m,\u001b[0m \u001b[0;34m**\u001b[0m\u001b[0mkwargs\u001b[0m\u001b[0;34m)\u001b[0m\u001b[0;34m\u001b[0m\u001b[0;34m\u001b[0m\u001b[0m\n\u001b[1;32m    408\u001b[0m             \u001b[0;32melse\u001b[0m\u001b[0;34m:\u001b[0m\u001b[0;34m\u001b[0m\u001b[0;34m\u001b[0m\u001b[0m\n\u001b[0;32m--> 409\u001b[0;31m                 \u001b[0mapplied\u001b[0m \u001b[0;34m=\u001b[0m \u001b[0mgetattr\u001b[0m\u001b[0;34m(\u001b[0m\u001b[0mb\u001b[0m\u001b[0;34m,\u001b[0m \u001b[0mf\u001b[0m\u001b[0;34m)\u001b[0m\u001b[0;34m(\u001b[0m\u001b[0;34m**\u001b[0m\u001b[0mkwargs\u001b[0m\u001b[0;34m)\u001b[0m\u001b[0;34m\u001b[0m\u001b[0;34m\u001b[0m\u001b[0m\n\u001b[0m\u001b[1;32m    410\u001b[0m             \u001b[0mresult_blocks\u001b[0m \u001b[0;34m=\u001b[0m \u001b[0m_extend_blocks\u001b[0m\u001b[0;34m(\u001b[0m\u001b[0mapplied\u001b[0m\u001b[0;34m,\u001b[0m \u001b[0mresult_blocks\u001b[0m\u001b[0;34m)\u001b[0m\u001b[0;34m\u001b[0m\u001b[0;34m\u001b[0m\u001b[0m\n\u001b[1;32m    411\u001b[0m \u001b[0;34m\u001b[0m\u001b[0m\n",
            "\u001b[0;32m/usr/local/lib/python3.7/dist-packages/pandas/core/internals/blocks.py\u001b[0m in \u001b[0;36msetitem\u001b[0;34m(self, indexer, value)\u001b[0m\n\u001b[1;32m    853\u001b[0m \u001b[0;34m\u001b[0m\u001b[0m\n\u001b[1;32m    854\u001b[0m         \u001b[0;31m# length checking\u001b[0m\u001b[0;34m\u001b[0m\u001b[0;34m\u001b[0m\u001b[0;34m\u001b[0m\u001b[0m\n\u001b[0;32m--> 855\u001b[0;31m         \u001b[0mcheck_setitem_lengths\u001b[0m\u001b[0;34m(\u001b[0m\u001b[0mindexer\u001b[0m\u001b[0;34m,\u001b[0m \u001b[0mvalue\u001b[0m\u001b[0;34m,\u001b[0m \u001b[0mvalues\u001b[0m\u001b[0;34m)\u001b[0m\u001b[0;34m\u001b[0m\u001b[0;34m\u001b[0m\u001b[0m\n\u001b[0m\u001b[1;32m    856\u001b[0m         exact_match = (\n\u001b[1;32m    857\u001b[0m             \u001b[0mlen\u001b[0m\u001b[0;34m(\u001b[0m\u001b[0marr_value\u001b[0m\u001b[0;34m.\u001b[0m\u001b[0mshape\u001b[0m\u001b[0;34m)\u001b[0m\u001b[0;34m\u001b[0m\u001b[0;34m\u001b[0m\u001b[0m\n",
            "\u001b[0;32m/usr/local/lib/python3.7/dist-packages/pandas/core/indexers.py\u001b[0m in \u001b[0;36mcheck_setitem_lengths\u001b[0;34m(indexer, value, values)\u001b[0m\n\u001b[1;32m    150\u001b[0m             ):\n\u001b[1;32m    151\u001b[0m                 raise ValueError(\n\u001b[0;32m--> 152\u001b[0;31m                     \u001b[0;34m\"cannot set using a list-like indexer \"\u001b[0m\u001b[0;34m\u001b[0m\u001b[0;34m\u001b[0m\u001b[0m\n\u001b[0m\u001b[1;32m    153\u001b[0m                     \u001b[0;34m\"with a different length than the value\"\u001b[0m\u001b[0;34m\u001b[0m\u001b[0;34m\u001b[0m\u001b[0m\n\u001b[1;32m    154\u001b[0m                 )\n",
            "\u001b[0;31mValueError\u001b[0m: cannot set using a list-like indexer with a different length than the value"
          ]
        }
      ]
    },
    {
      "cell_type": "code",
      "metadata": {
        "colab": {
          "base_uri": "https://localhost:8080/"
        },
        "id": "KR9TcIDBdi1u",
        "outputId": "fe4dadbf-344b-44eb-b08e-1cdf53573010"
      },
      "source": [
        "x.loc[[0, 1]] = y.to_numpy()[:2]\n",
        "print(x)\n",
        "## 0     1.0\n",
        "## 1    11.0\n",
        "## 2    30.0\n",
        "## 3    40.0\n",
        "## dtype: float64"
      ],
      "execution_count": 25,
      "outputs": [
        {
          "output_type": "stream",
          "text": [
            "0     1.0\n",
            "1    11.0\n",
            "2    30.0\n",
            "3    40.0\n",
            "dtype: float64\n"
          ],
          "name": "stdout"
        }
      ]
    },
    {
      "cell_type": "code",
      "metadata": {
        "id": "d_v3Jl1QdsLj"
      },
      "source": [
        ""
      ],
      "execution_count": null,
      "outputs": []
    }
  ]
}