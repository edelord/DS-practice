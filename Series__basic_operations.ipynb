{
  "nbformat": 4,
  "nbformat_minor": 0,
  "metadata": {
    "colab": {
      "name": "Series__basic_operations.ipynb",
      "provenance": [],
      "collapsed_sections": [],
      "authorship_tag": "ABX9TyNwzia5/t4Kaw62Z4a2frOR",
      "include_colab_link": true
    },
    "kernelspec": {
      "name": "python3",
      "display_name": "Python 3"
    },
    "language_info": {
      "name": "python"
    }
  },
  "cells": [
    {
      "cell_type": "markdown",
      "metadata": {
        "id": "view-in-github",
        "colab_type": "text"
      },
      "source": [
        "<a href=\"https://colab.research.google.com/github/edelord/DS-practice/blob/main/Series__basic_operations.ipynb\" target=\"_parent\"><img src=\"https://colab.research.google.com/assets/colab-badge.svg\" alt=\"Open In Colab\"/></a>"
      ]
    },
    {
      "cell_type": "markdown",
      "metadata": {
        "id": "TO30OdqHdTJB"
      },
      "source": [
        "https://www.gormanalysis.com/blog/python-pandas-for-your-grandpa-2-3-series-basic-operations/"
      ]
    },
    {
      "cell_type": "code",
      "metadata": {
        "colab": {
          "base_uri": "https://localhost:8080/"
        },
        "id": "POP3JTd0gpq5",
        "outputId": "6609da40-5d54-444d-e80a-48e5bb332e00"
      },
      "source": [
        "import numpy as np\n",
        "import pandas as pd\n",
        "\n",
        "x = pd.Series([1, 2, 3, 4])\n",
        "x + 1\n",
        "## 0    2\n",
        "## 1    3\n",
        "## 2    4\n",
        "## 3    5\n",
        "## dtype: int64"
      ],
      "execution_count": 3,
      "outputs": [
        {
          "output_type": "execute_result",
          "data": {
            "text/plain": [
              "0    2\n",
              "1    3\n",
              "2    4\n",
              "3    5\n",
              "dtype: int64"
            ]
          },
          "metadata": {
            "tags": []
          },
          "execution_count": 3
        }
      ]
    },
    {
      "cell_type": "code",
      "metadata": {
        "id": "c_Trj4oCgri0",
        "colab": {
          "base_uri": "https://localhost:8080/"
        },
        "outputId": "c0bc933e-e3dc-4703-8c0e-f4b93314c782"
      },
      "source": [
        "x + pd.Series(1)\n",
        "## 0    2.0\n",
        "## 1    NaN\n",
        "## 2    NaN\n",
        "## 3    NaN\n",
        "## dtype: float64\n",
        "\n",
        "#  Series arithmetic is fundamentally different than NumPy arithmetic. The difference has to do with the Series index. When you add two Series x and y, pandas only combines elements\n",
        "# with the same index label. This process is called index alignment.\n",
        "\n",
        "# Looking back at our example, the temporary Series we created, pd.Series(1), automatically gets an index label of 0, so it only gets added to elements of x which also have an index label of 0."
      ],
      "execution_count": 5,
      "outputs": [
        {
          "output_type": "execute_result",
          "data": {
            "text/plain": [
              "0    2.0\n",
              "1    NaN\n",
              "2    NaN\n",
              "3    NaN\n",
              "dtype: float64"
            ]
          },
          "metadata": {
            "tags": []
          },
          "execution_count": 5
        }
      ]
    },
    {
      "cell_type": "code",
      "metadata": {
        "colab": {
          "base_uri": "https://localhost:8080/"
        },
        "id": "qRZQ_MKSeEGP",
        "outputId": "2ebc51a4-8532-4175-a982-7c078255785a"
      },
      "source": [
        "pd.Series(1)\n",
        "## 0    1\n",
        "## dtype: int64"
      ],
      "execution_count": 6,
      "outputs": [
        {
          "output_type": "execute_result",
          "data": {
            "text/plain": [
              "0    1\n",
              "dtype: int64"
            ]
          },
          "metadata": {
            "tags": []
          },
          "execution_count": 6
        }
      ]
    },
    {
      "cell_type": "code",
      "metadata": {
        "colab": {
          "base_uri": "https://localhost:8080/"
        },
        "id": "V1dh9sGkeY5K",
        "outputId": "465f79fa-d68b-42ad-8b5b-1a9028b53112"
      },
      "source": [
        "#So if you make two corresponding Series, A and B, and you add them together, it looks like the addition is happening element-wise by position.\n",
        "\n",
        "A = pd.Series([10, 20, 30, 40, 50])\n",
        "B = pd.Series([1, 2, 3, 4, 5])\n",
        "A + B\n",
        "## 0    11\n",
        "## 1    22\n",
        "## 2    33\n",
        "## 3    44\n",
        "## 4    55\n",
        "## dtype: int64"
      ],
      "execution_count": 7,
      "outputs": [
        {
          "output_type": "execute_result",
          "data": {
            "text/plain": [
              "0    11\n",
              "1    22\n",
              "2    33\n",
              "3    44\n",
              "4    55\n",
              "dtype: int64"
            ]
          },
          "metadata": {
            "tags": []
          },
          "execution_count": 7
        }
      ]
    },
    {
      "cell_type": "code",
      "metadata": {
        "colab": {
          "base_uri": "https://localhost:8080/"
        },
        "id": "6X6dGDuAek4s",
        "outputId": "a8bf42d1-e98e-42dd-8448-41561ae56b08"
      },
      "source": [
        "#But that’s actually not what’s happening. It’s easy to see if you reverse A's index before adding it to B.\n",
        "\n",
        "A.index = np.array([4, 3, 2, 1, 0])\n",
        "A + B\n",
        "## 0    51\n",
        "## 1    42\n",
        "## 2    33\n",
        "## 3    24\n",
        "## 4    15\n",
        "## dtype: int64"
      ],
      "execution_count": 9,
      "outputs": [
        {
          "output_type": "execute_result",
          "data": {
            "text/plain": [
              "0    51\n",
              "1    42\n",
              "2    33\n",
              "3    24\n",
              "4    15\n",
              "dtype: int64"
            ]
          },
          "metadata": {
            "tags": []
          },
          "execution_count": 9
        }
      ]
    },
    {
      "cell_type": "markdown",
      "metadata": {
        "id": "KkhTc9KcfDzF"
      },
      "source": [
        "What if you just wanna add A and B element-wise by position? The answer is a recurring theme in this course - drop down to the numpy level and do it there.\n",
        "\n",
        "For example, if we do A.to_numpy() + B.to_numpy(), we’ll simply be adding two NumPy arrays, and addition between NumPy arrays happens element-wise by position. "
      ]
    },
    {
      "cell_type": "code",
      "metadata": {
        "colab": {
          "base_uri": "https://localhost:8080/"
        },
        "id": "YPQdZgNYeya0",
        "outputId": "401da2ad-3825-42d8-9bae-884c08ce1f26"
      },
      "source": [
        "pd.Series(A.to_numpy() + B.to_numpy())\n",
        "## 0    11\n",
        "## 1    22\n",
        "## 2    33\n",
        "## 3    44\n",
        "## 4    55\n",
        "## dtype: int64"
      ],
      "execution_count": 10,
      "outputs": [
        {
          "output_type": "execute_result",
          "data": {
            "text/plain": [
              "0    11\n",
              "1    22\n",
              "2    33\n",
              "3    44\n",
              "4    55\n",
              "dtype: int64"
            ]
          },
          "metadata": {
            "tags": []
          },
          "execution_count": 10
        }
      ]
    },
    {
      "cell_type": "markdown",
      "metadata": {
        "id": "kT_Lpe9mfaqW"
      },
      "source": [
        "Alternatively, if you add a Series to a NumPy array, the addition happens element-wise by position and the result will be a Series with the same index labels as the original Series. So, if we do A + B.to_numpy(), it works just like the last example except A's index values are retained in the result."
      ]
    },
    {
      "cell_type": "code",
      "metadata": {
        "colab": {
          "base_uri": "https://localhost:8080/"
        },
        "id": "-4xwoQaDfHnn",
        "outputId": "5f023f44-42c7-412a-8261-3f2e9b9ca2d3"
      },
      "source": [
        "A + B.to_numpy()\n",
        "## 4    11\n",
        "## 3    22\n",
        "## 2    33\n",
        "## 1    44\n",
        "## 0    55\n",
        "## dtype: int64"
      ],
      "execution_count": 11,
      "outputs": [
        {
          "output_type": "execute_result",
          "data": {
            "text/plain": [
              "4    11\n",
              "3    22\n",
              "2    33\n",
              "1    44\n",
              "0    55\n",
              "dtype: int64"
            ]
          },
          "metadata": {
            "tags": []
          },
          "execution_count": 11
        }
      ]
    },
    {
      "cell_type": "markdown",
      "metadata": {
        "id": "j-Jj71PhfqS7"
      },
      "source": [
        "Alright, so what if we have Series x like before, and another Series y like this, and we want to add y to x based on matching index labels, but we don’t want the result to include NaN values, where x doesn’t have a matching index in y."
      ]
    },
    {
      "cell_type": "code",
      "metadata": {
        "colab": {
          "base_uri": "https://localhost:8080/"
        },
        "id": "pHlMHftYfeV5",
        "outputId": "85036086-5681-410a-9877-38c57b4e4f1c"
      },
      "source": [
        "x = pd.Series([1, 2, 3, 4])\n",
        "print(x)\n",
        "## 0    1\n",
        "## 1    2\n",
        "## 2    3\n",
        "## 3    4\n",
        "## dtype: int64\n",
        "y = pd.Series([10, 20], index = [2,1])\n",
        "print(y)\n",
        "## 2    10\n",
        "## 1    20\n",
        "## dtype: int64"
      ],
      "execution_count": 12,
      "outputs": [
        {
          "output_type": "stream",
          "text": [
            "0    1\n",
            "1    2\n",
            "2    3\n",
            "3    4\n",
            "dtype: int64\n",
            "2    10\n",
            "1    20\n",
            "dtype: int64\n"
          ],
          "name": "stdout"
        }
      ]
    },
    {
      "cell_type": "code",
      "metadata": {
        "colab": {
          "base_uri": "https://localhost:8080/"
        },
        "id": "E2LB_haRfwRU",
        "outputId": "a8887450-fd02-49a5-99df-d3bd0bc833f0"
      },
      "source": [
        "x.loc[y.index]\n",
        "## 2    3\n",
        "## 1    2\n",
        "## dtype: int64"
      ],
      "execution_count": 13,
      "outputs": [
        {
          "output_type": "execute_result",
          "data": {
            "text/plain": [
              "2    3\n",
              "1    2\n",
              "dtype: int64"
            ]
          },
          "metadata": {
            "tags": []
          },
          "execution_count": 13
        }
      ]
    },
    {
      "cell_type": "code",
      "metadata": {
        "id": "t3re4kPZgAJ-"
      },
      "source": [
        "x.loc[y.index] += y\n",
        "print(x)\n",
        "## 0     1\n",
        "## 1    22\n",
        "## 2    13\n",
        "## 3     4\n",
        "## dtype: int64\n"
      ],
      "execution_count": null,
      "outputs": []
    }
  ]
}