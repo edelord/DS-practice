{
  "nbformat": 4,
  "nbformat_minor": 0,
  "metadata": {
    "colab": {
      "name": "Series__boolean_indexing.ipynb",
      "provenance": [],
      "collapsed_sections": [],
      "authorship_tag": "ABX9TyPdDuI/X6RAbOOMI2n8wxwv",
      "include_colab_link": true
    },
    "kernelspec": {
      "name": "python3",
      "display_name": "Python 3"
    },
    "language_info": {
      "name": "python"
    }
  },
  "cells": [
    {
      "cell_type": "markdown",
      "metadata": {
        "id": "view-in-github",
        "colab_type": "text"
      },
      "source": [
        "<a href=\"https://colab.research.google.com/github/edelord/DS-practice/blob/main/Series__boolean_indexing.ipynb\" target=\"_parent\"><img src=\"https://colab.research.google.com/assets/colab-badge.svg\" alt=\"Open In Colab\"/></a>"
      ]
    },
    {
      "cell_type": "markdown",
      "metadata": {
        "id": "8xcLZV-cuLLQ"
      },
      "source": [
        "https://www.gormanalysis.com/blog/python-pandas-for-your-grandpa-2-4-series-boolean-indexing/"
      ]
    },
    {
      "cell_type": "code",
      "metadata": {
        "colab": {
          "base_uri": "https://localhost:8080/"
        },
        "id": "1HUZiQ-xgc6j",
        "outputId": "ec2d618d-004e-4007-f9d9-93157fa8cdbf"
      },
      "source": [
        "import numpy as np\n",
        "import pandas as pd\n",
        "\n",
        "foo = pd.Series([20, 50, 11, 45, 17, 31])\n",
        "print(foo)\n",
        "## 0    20\n",
        "## 1    50\n",
        "## 2    11\n",
        "## 3    45\n",
        "## 4    17\n",
        "## 5    31\n",
        "## dtype: int64"
      ],
      "execution_count": 3,
      "outputs": [
        {
          "output_type": "stream",
          "text": [
            "0    20\n",
            "1    50\n",
            "2    11\n",
            "3    45\n",
            "4    17\n",
            "5    31\n",
            "dtype: int64\n"
          ],
          "name": "stdout"
        }
      ]
    },
    {
      "cell_type": "code",
      "metadata": {
        "colab": {
          "base_uri": "https://localhost:8080/"
        },
        "id": "hqykyAnMuOMz",
        "outputId": "0e80c0fc-cc1c-441d-a6e2-19b439509606"
      },
      "source": [
        "foo < 20\n",
        "## 0    False\n",
        "## 1    False\n",
        "## 2     True\n",
        "## 3    False\n",
        "## 4     True\n",
        "## 5    False\n",
        "## dtype: bool"
      ],
      "execution_count": 5,
      "outputs": [
        {
          "output_type": "execute_result",
          "data": {
            "text/plain": [
              "0    False\n",
              "1    False\n",
              "2     True\n",
              "3    False\n",
              "4     True\n",
              "5    False\n",
              "dtype: bool"
            ]
          },
          "metadata": {
            "tags": []
          },
          "execution_count": 5
        }
      ]
    },
    {
      "cell_type": "code",
      "metadata": {
        "colab": {
          "base_uri": "https://localhost:8080/"
        },
        "id": "hj62IkFyuV6e",
        "outputId": "2b026cdf-8472-4b8b-8636-ca5ddf83d737"
      },
      "source": [
        "mask = foo < 20\n",
        "foo.loc[mask]\n",
        "## 2    11\n",
        "## 4    17\n",
        "## dtype: int64"
      ],
      "execution_count": 3,
      "outputs": [
        {
          "output_type": "execute_result",
          "data": {
            "text/plain": [
              "2    11\n",
              "4    17\n",
              "dtype: int64"
            ]
          },
          "metadata": {
            "tags": []
          },
          "execution_count": 3
        }
      ]
    },
    {
      "cell_type": "code",
      "metadata": {
        "colab": {
          "base_uri": "https://localhost:8080/"
        },
        "id": "bVvF9P1UudZ7",
        "outputId": "893e2544-f9ff-4112-b4fc-51f691e7d234"
      },
      "source": [
        "# or, in one line:\n",
        "foo.loc[foo < 20]\n",
        "## 2    11\n",
        "## 4    17\n",
        "## dtype: int64"
      ],
      "execution_count": 4,
      "outputs": [
        {
          "output_type": "execute_result",
          "data": {
            "text/plain": [
              "2    11\n",
              "4    17\n",
              "dtype: int64"
            ]
          },
          "metadata": {
            "tags": []
          },
          "execution_count": 4
        }
      ]
    },
    {
      "cell_type": "code",
      "metadata": {
        "colab": {
          "base_uri": "https://localhost:8080/"
        },
        "id": "GdgShF7JulQP",
        "outputId": "7f21538e-884e-4a6e-9358-7864d01d55d8"
      },
      "source": [
        "foo.index = [0, 1, 2, 3, 5, 4]\n",
        "foo.loc[mask]\n",
        "## 2    11\n",
        "## 4    31\n",
        "## dtype: int64"
      ],
      "execution_count": 7,
      "outputs": [
        {
          "output_type": "execute_result",
          "data": {
            "text/plain": [
              "2    11\n",
              "4    31\n",
              "dtype: int64"
            ]
          },
          "metadata": {
            "tags": []
          },
          "execution_count": 7
        }
      ]
    },
    {
      "cell_type": "markdown",
      "metadata": {
        "id": "r_8BAb3GKYZc"
      },
      "source": [
        "This time, the result includes 31 instead of 17. That’s because foo.loc[mask] picks out the elements of foo whose index label matches those of mask where mask has a True value. Usually this is fine, but in some cases it might not be what you want and if you’d rather just include or exclude values of foo by corresponding positions of True and False values in mask, just use mask's underlying NumPy array to subset foo, like"
      ]
    },
    {
      "cell_type": "code",
      "metadata": {
        "colab": {
          "base_uri": "https://localhost:8080/"
        },
        "id": "xFlb9avxKC9n",
        "outputId": "fdff12f2-1323-443a-d517-6045386e1ef4"
      },
      "source": [
        "foo.loc[mask.to_numpy()]\n",
        "## 2    11\n",
        "## 5    17\n",
        "## dtype: int64"
      ],
      "execution_count": 8,
      "outputs": [
        {
          "output_type": "execute_result",
          "data": {
            "text/plain": [
              "2    11\n",
              "5    17\n",
              "dtype: int64"
            ]
          },
          "metadata": {
            "tags": []
          },
          "execution_count": 8
        }
      ]
    },
    {
      "cell_type": "code",
      "metadata": {
        "colab": {
          "base_uri": "https://localhost:8080/"
        },
        "id": "ZaT7k6tQKdjS",
        "outputId": "bfd0421d-b33d-44e0-f4da-b7950a7c2b5f"
      },
      "source": [
        "ages = pd.Series(\n",
        "    data = [42, 43, 14, 18, 1],\n",
        "    index = ['peter', 'lois', 'chris', 'meg', 'stewie']\n",
        ")\n",
        "print(ages)\n",
        "## peter     42\n",
        "## lois      43\n",
        "## chris     14\n",
        "## meg       18\n",
        "## stewie     1\n",
        "## dtype: int64"
      ],
      "execution_count": 4,
      "outputs": [
        {
          "output_type": "stream",
          "text": [
            "peter     42\n",
            "lois      43\n",
            "chris     14\n",
            "meg       18\n",
            "stewie     1\n",
            "dtype: int64\n"
          ],
          "name": "stdout"
        }
      ]
    },
    {
      "cell_type": "code",
      "metadata": {
        "colab": {
          "base_uri": "https://localhost:8080/"
        },
        "id": "4n663o6nK8Ow",
        "outputId": "a406eb3b-ce10-465d-8968-d2fd3523f586"
      },
      "source": [
        "genders = pd.Series(\n",
        "    data = ['female', 'female', 'male', 'male', 'male'],\n",
        "    index = ['lois', 'meg', 'chris', 'peter', 'stewie'],\n",
        "    dtype = 'string'\n",
        ")\n",
        "print(genders)\n",
        "## lois      female\n",
        "## meg       female\n",
        "## chris       male\n",
        "## peter       male\n",
        "## stewie      male\n",
        "## dtype: string"
      ],
      "execution_count": 5,
      "outputs": [
        {
          "output_type": "stream",
          "text": [
            "lois      female\n",
            "meg       female\n",
            "chris       male\n",
            "peter       male\n",
            "stewie      male\n",
            "dtype: string\n"
          ],
          "name": "stdout"
        }
      ]
    },
    {
      "cell_type": "code",
      "metadata": {
        "colab": {
          "base_uri": "https://localhost:8080/"
        },
        "id": "ioZ8V7WmLA_t",
        "outputId": "cb7a4d82-f773-443a-9a5b-5ae4c534b540"
      },
      "source": [
        "# who's a male younger than 18 ?\n",
        "mask = (genders == 'male') & (ages < 18)\n",
        "print(\"mask is:\", mask, \"\\n\")\n",
        "# mask is: chris      True\n",
        "# lois      False\n",
        "# meg       False\n",
        "# peter     False\n",
        "# stewie     True\n",
        "\n",
        "mask.loc[mask]\n",
        "## chris     True\n",
        "## stewie    True\n",
        "## dtype: bool"
      ],
      "execution_count": 7,
      "outputs": [
        {
          "output_type": "stream",
          "text": [
            "mask is: chris      True\n",
            "lois      False\n",
            "meg       False\n",
            "peter     False\n",
            "stewie     True\n",
            "dtype: bool \n",
            "\n"
          ],
          "name": "stdout"
        },
        {
          "output_type": "execute_result",
          "data": {
            "text/plain": [
              "chris     True\n",
              "stewie    True\n",
              "dtype: bool"
            ]
          },
          "metadata": {
            "tags": []
          },
          "execution_count": 7
        }
      ]
    },
    {
      "cell_type": "code",
      "metadata": {
        "colab": {
          "base_uri": "https://localhost:8080/"
        },
        "id": "4DpU3ux1Y8ar",
        "outputId": "f8842cf1-db49-45a3-f527-717b139cb02f"
      },
      "source": [
        "print(mask)"
      ],
      "execution_count": 8,
      "outputs": [
        {
          "output_type": "stream",
          "text": [
            "chris      True\n",
            "lois      False\n",
            "meg       False\n",
            "peter     False\n",
            "stewie     True\n",
            "dtype: bool\n"
          ],
          "name": "stdout"
        }
      ]
    },
    {
      "cell_type": "markdown",
      "metadata": {
        "id": "yX5SUabZLst4"
      },
      "source": [
        "## *use the ~ operator to negate a boolean Series *"
      ]
    },
    {
      "cell_type": "code",
      "metadata": {
        "colab": {
          "base_uri": "https://localhost:8080/"
        },
        "id": "5TAaVKKKLK_T",
        "outputId": "17410c45-4a0b-4228-8a6b-aedb484db456"
      },
      "source": [
        "~mask\n",
        "## chris     False\n",
        "## lois       True\n",
        "## meg        True\n",
        "## peter      True\n",
        "## stewie    False\n",
        "## dtype: bool"
      ],
      "execution_count": 9,
      "outputs": [
        {
          "output_type": "execute_result",
          "data": {
            "text/plain": [
              "chris     False\n",
              "lois       True\n",
              "meg        True\n",
              "peter      True\n",
              "stewie    False\n",
              "dtype: bool"
            ]
          },
          "metadata": {
            "tags": []
          },
          "execution_count": 9
        }
      ]
    },
    {
      "cell_type": "code",
      "metadata": {
        "colab": {
          "base_uri": "https://localhost:8080/",
          "height": 282
        },
        "id": "4mzjwTDfL8LX",
        "outputId": "b3ffbb21-1a68-496e-d5af-32362bc0a8ae"
      },
      "source": [
        "ages.loc[ages >= 18 & ages <= 42]  # ERROR; add ()!"
      ],
      "execution_count": 8,
      "outputs": [
        {
          "output_type": "error",
          "ename": "ValueError",
          "evalue": "ignored",
          "traceback": [
            "\u001b[0;31m---------------------------------------------------------------------------\u001b[0m",
            "\u001b[0;31mValueError\u001b[0m                                Traceback (most recent call last)",
            "\u001b[0;32m<ipython-input-8-74d5cf59d5a3>\u001b[0m in \u001b[0;36m<module>\u001b[0;34m()\u001b[0m\n\u001b[0;32m----> 1\u001b[0;31m \u001b[0mages\u001b[0m\u001b[0;34m.\u001b[0m\u001b[0mloc\u001b[0m\u001b[0;34m[\u001b[0m\u001b[0mages\u001b[0m \u001b[0;34m>=\u001b[0m \u001b[0;36m18\u001b[0m \u001b[0;34m&\u001b[0m \u001b[0mages\u001b[0m \u001b[0;34m<=\u001b[0m \u001b[0;36m42\u001b[0m\u001b[0;34m]\u001b[0m  \u001b[0;31m# ERROR; add ()!\u001b[0m\u001b[0;34m\u001b[0m\u001b[0;34m\u001b[0m\u001b[0m\n\u001b[0m",
            "\u001b[0;32m/usr/local/lib/python3.7/dist-packages/pandas/core/generic.py\u001b[0m in \u001b[0;36m__nonzero__\u001b[0;34m(self)\u001b[0m\n\u001b[1;32m   1328\u001b[0m     \u001b[0;32mdef\u001b[0m \u001b[0m__nonzero__\u001b[0m\u001b[0;34m(\u001b[0m\u001b[0mself\u001b[0m\u001b[0;34m)\u001b[0m\u001b[0;34m:\u001b[0m\u001b[0;34m\u001b[0m\u001b[0;34m\u001b[0m\u001b[0m\n\u001b[1;32m   1329\u001b[0m         raise ValueError(\n\u001b[0;32m-> 1330\u001b[0;31m             \u001b[0;34mf\"The truth value of a {type(self).__name__} is ambiguous. \"\u001b[0m\u001b[0;34m\u001b[0m\u001b[0;34m\u001b[0m\u001b[0m\n\u001b[0m\u001b[1;32m   1331\u001b[0m             \u001b[0;34m\"Use a.empty, a.bool(), a.item(), a.any() or a.all().\"\u001b[0m\u001b[0;34m\u001b[0m\u001b[0;34m\u001b[0m\u001b[0m\n\u001b[1;32m   1332\u001b[0m         )\n",
            "\u001b[0;31mValueError\u001b[0m: The truth value of a Series is ambiguous. Use a.empty, a.bool(), a.item(), a.any() or a.all()."
          ]
        }
      ]
    },
    {
      "cell_type": "code",
      "metadata": {
        "colab": {
          "base_uri": "https://localhost:8080/"
        },
        "id": "MiLpRIdWMN4u",
        "outputId": "fe8ba634-f4e7-4d24-feb5-12297b03425d"
      },
      "source": [
        "ages.loc[(ages >= 18) & (ages <= 42)]  # ok"
      ],
      "execution_count": 10,
      "outputs": [
        {
          "output_type": "execute_result",
          "data": {
            "text/plain": [
              "peter    42\n",
              "meg      18\n",
              "dtype: int64"
            ]
          },
          "metadata": {
            "tags": []
          },
          "execution_count": 10
        }
      ]
    },
    {
      "cell_type": "code",
      "metadata": {
        "id": "s5IHbzq4MS-Q"
      },
      "source": [
        ""
      ],
      "execution_count": null,
      "outputs": []
    }
  ]
}