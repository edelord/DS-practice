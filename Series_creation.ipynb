{
  "nbformat": 4,
  "nbformat_minor": 0,
  "metadata": {
    "colab": {
      "name": "Series_creation.ipynb",
      "provenance": [],
      "collapsed_sections": [],
      "authorship_tag": "ABX9TyN0H2DOGtMNJZRmp7tmKO7H",
      "include_colab_link": true
    },
    "kernelspec": {
      "name": "python3",
      "display_name": "Python 3"
    },
    "language_info": {
      "name": "python"
    }
  },
  "cells": [
    {
      "cell_type": "markdown",
      "metadata": {
        "id": "view-in-github",
        "colab_type": "text"
      },
      "source": [
        "<a href=\"https://colab.research.google.com/github/edelord/DS-practice/blob/main/Series_creation.ipynb\" target=\"_parent\"><img src=\"https://colab.research.google.com/assets/colab-badge.svg\" alt=\"Open In Colab\"/></a>"
      ]
    },
    {
      "cell_type": "code",
      "metadata": {
        "id": "107Z-GRGhvI4",
        "colab": {
          "base_uri": "https://localhost:8080/"
        },
        "outputId": "8569a962-cb71-4f06-e725-322b6d18c3fa"
      },
      "source": [
        "import pandas as pd\n",
        "\n",
        "# create a series from a py array\n",
        "x = pd.Series([5, 10, 15, 20, 25, 30, 35])\n",
        "print(x, '\\n')\n",
        "type(x)\n",
        "x.dtype"
      ],
      "execution_count": 4,
      "outputs": [
        {
          "output_type": "stream",
          "text": [
            "0     5\n",
            "1    10\n",
            "2    15\n",
            "3    20\n",
            "4    25\n",
            "5    30\n",
            "6    35\n",
            "dtype: int64 \n",
            "\n"
          ],
          "name": "stdout"
        },
        {
          "output_type": "execute_result",
          "data": {
            "text/plain": [
              "dtype('int64')"
            ]
          },
          "metadata": {
            "tags": []
          },
          "execution_count": 4
        }
      ]
    },
    {
      "cell_type": "code",
      "metadata": {
        "id": "3aLgtV1Ih_Ie",
        "colab": {
          "base_uri": "https://localhost:8080/"
        },
        "outputId": "cb6739d0-2c12-468a-a1d9-e514a2c8524f"
      },
      "source": [
        "# create a series from a py dictionary\n",
        "x.to_numpy()"
      ],
      "execution_count": 5,
      "outputs": [
        {
          "output_type": "execute_result",
          "data": {
            "text/plain": [
              "array([ 5, 10, 15, 20, 25, 30, 35])"
            ]
          },
          "metadata": {
            "tags": []
          },
          "execution_count": 5
        }
      ]
    },
    {
      "cell_type": "code",
      "metadata": {
        "colab": {
          "base_uri": "https://localhost:8080/"
        },
        "id": "p19UzSR-p197",
        "outputId": "d1fbd0ae-9b5f-4866-a576-057af7d41be0"
      },
      "source": [
        "x.head()\n"
      ],
      "execution_count": 7,
      "outputs": [
        {
          "output_type": "execute_result",
          "data": {
            "text/plain": [
              "2    15\n",
              "3    20\n",
              "4    25\n",
              "5    30\n",
              "6    35\n",
              "dtype: int64"
            ]
          },
          "metadata": {
            "tags": []
          },
          "execution_count": 7
        }
      ]
    },
    {
      "cell_type": "code",
      "metadata": {
        "colab": {
          "base_uri": "https://localhost:8080/"
        },
        "id": "ytYIxtYCp4zX",
        "outputId": "ee904a76-a18d-4ac8-dfde-c09d5a5535e7"
      },
      "source": [
        "x.tail()"
      ],
      "execution_count": 8,
      "outputs": [
        {
          "output_type": "execute_result",
          "data": {
            "text/plain": [
              "2    15\n",
              "3    20\n",
              "4    25\n",
              "5    30\n",
              "6    35\n",
              "dtype: int64"
            ]
          },
          "metadata": {
            "tags": []
          },
          "execution_count": 8
        }
      ]
    },
    {
      "cell_type": "code",
      "metadata": {
        "colab": {
          "base_uri": "https://localhost:8080/"
        },
        "id": "QA_K_Z-up-4u",
        "outputId": "c44ed63f-c33c-4528-f6f3-e93a8d885e09"
      },
      "source": [
        "# create a series from a py dictionary\n",
        "data = {'a':0., 'b':1., 'c':2., 'd':3.}\n",
        "y = pd.Series(data)\n",
        "print(y)"
      ],
      "execution_count": 9,
      "outputs": [
        {
          "output_type": "stream",
          "text": [
            "a    0.0\n",
            "b    1.0\n",
            "c    2.0\n",
            "d    3.0\n",
            "dtype: float64\n"
          ],
          "name": "stdout"
        }
      ]
    },
    {
      "cell_type": "code",
      "metadata": {
        "colab": {
          "base_uri": "https://localhost:8080/"
        },
        "id": "UPDxIHh5qVst",
        "outputId": "15e7abcf-a349-4208-dafd-66c8e01b88cc"
      },
      "source": [
        "# a series of strings will be stored as dtype object, unless specified otherwise\n",
        "z = pd.Series(['frank', \"dee\", 'dennis'], dtype='string')\n",
        "print(z)"
      ],
      "execution_count": 11,
      "outputs": [
        {
          "output_type": "stream",
          "text": [
            "0     frank\n",
            "1       dee\n",
            "2    dennis\n",
            "dtype: string\n"
          ],
          "name": "stdout"
        }
      ]
    },
    {
      "cell_type": "code",
      "metadata": {
        "id": "cZnRCnGnquA8"
      },
      "source": [
        "# create a series from a numpy array\n",
        "import numpy as np\n",
        "x = np.array([10, 20, 30, 40])\n",
        "y = pd.Series(x)"
      ],
      "execution_count": 12,
      "outputs": []
    },
    {
      "cell_type": "code",
      "metadata": {
        "colab": {
          "base_uri": "https://localhost:8080/"
        },
        "id": "If9CZkU5rtD5",
        "outputId": "bd8f34da-2c23-4fc7-a432-7fa7ca0d6517"
      },
      "source": [
        "print(y)"
      ],
      "execution_count": 13,
      "outputs": [
        {
          "output_type": "stream",
          "text": [
            "0    10\n",
            "1    20\n",
            "2    30\n",
            "3    40\n",
            "dtype: int64\n"
          ],
          "name": "stdout"
        }
      ]
    },
    {
      "cell_type": "code",
      "metadata": {
        "colab": {
          "base_uri": "https://localhost:8080/"
        },
        "id": "jFleIk_grvXX",
        "outputId": "87f424d9-cf44-4216-d9d5-35f804711e9b"
      },
      "source": [
        "# a series with 10 equally spaced numbers between 1 and 2\n",
        "pd.Series(np.linspace(start=1, stop=2, num=10))"
      ],
      "execution_count": 15,
      "outputs": [
        {
          "output_type": "execute_result",
          "data": {
            "text/plain": [
              "0    1.000000\n",
              "1    1.111111\n",
              "2    1.222222\n",
              "3    1.333333\n",
              "4    1.444444\n",
              "5    1.555556\n",
              "6    1.666667\n",
              "7    1.777778\n",
              "8    1.888889\n",
              "9    2.000000\n",
              "dtype: float64"
            ]
          },
          "metadata": {
            "tags": []
          },
          "execution_count": 15
        }
      ]
    },
    {
      "cell_type": "code",
      "metadata": {
        "colab": {
          "base_uri": "https://localhost:8080/"
        },
        "id": "CcbMhF1StB1D",
        "outputId": "2eacedc1-df5c-4d03-f351-4c7b70caaf9b"
      },
      "source": [
        "# a series of standard normal (ie, normal, \"bell shaped\") random distribution\n",
        "pd.Series(np.random.normal(size=5))"
      ],
      "execution_count": 18,
      "outputs": [
        {
          "output_type": "execute_result",
          "data": {
            "text/plain": [
              "0    0.863033\n",
              "1    1.298304\n",
              "2    1.274886\n",
              "3   -0.387691\n",
              "4   -0.462260\n",
              "dtype: float64"
            ]
          },
          "metadata": {
            "tags": []
          },
          "execution_count": 18
        }
      ]
    },
    {
      "cell_type": "code",
      "metadata": {
        "id": "e2Ur93HxuK2f"
      },
      "source": [
        ""
      ],
      "execution_count": null,
      "outputs": []
    }
  ]
}